{
 "cells": [
  {
   "cell_type": "markdown",
   "id": "1f7be993",
   "metadata": {},
   "source": [
    "# Thực tập vòng lặp While\n",
    "\n",
    "### Bài 1\n",
    "\n",
    "Nhập vào số a, sử dụng lệnh while (không sử dụng break và for) để xác định xem số đó có phải là số nguyên tố hay không"
   ]
  },
  {
   "cell_type": "code",
   "execution_count": 4,
   "id": "8cb73965",
   "metadata": {},
   "outputs": [
    {
     "name": "stdout",
     "output_type": "stream",
     "text": [
      "Nhập a: 7\n",
      "7 là số nguyên tố!\n"
     ]
    }
   ],
   "source": [
    "a = int(input(\"Nhập a: \"))\n",
    "\n",
    "k = 2\n",
    "\n",
    "co = True\n",
    "\n",
    "while k < a:\n",
    "    if a % k == 0:\n",
    "        co = False\n",
    "    k += 1 \n",
    "if co == False:\n",
    "    print(a, \"không phải là số nguyên tố!\")\n",
    "else:\n",
    "    print(a, \"là số nguyên tố!\")"
   ]
  },
  {
   "cell_type": "markdown",
   "id": "9f2357ca",
   "metadata": {},
   "source": [
    "### Bài 2\n",
    "\n",
    "Hãy sử dụng lệnh while lập trình cho bài đoán số ở buổi thứ 9"
   ]
  },
  {
   "cell_type": "code",
   "execution_count": null,
   "id": "db79cb9d",
   "metadata": {},
   "outputs": [],
   "source": []
  },
  {
   "cell_type": "markdown",
   "id": "58f5b789",
   "metadata": {},
   "source": [
    "### Bài 3\n",
    "\n",
    "Nhập vào số a, hãy đếm a có bao nhiêu chữ số chẵn, bao nhiêu cữ số lẻ\n",
    "\n",
    "#### Cách 1 (dùng chuỗi):"
   ]
  },
  {
   "cell_type": "code",
   "execution_count": 2,
   "id": "e7f9da21",
   "metadata": {},
   "outputs": [
    {
     "name": "stdout",
     "output_type": "stream",
     "text": [
      "Nhập a: 123456789\n",
      "123456789 có 4 chữ số chẵn và 5 chữ số lẻ!\n"
     ]
    }
   ],
   "source": [
    "a = input(\"Nhập a: \")\n",
    "\n",
    "k = 0\n",
    "chan = 0\n",
    "le = 0\n",
    "\n",
    "while k < len(a):\n",
    "    if int(a[k]) % 2 == 0:\n",
    "        chan += 1\n",
    "    else:\n",
    "        le += 1\n",
    "    k += 1\n",
    "\n",
    "print(a, \"có\", chan, \"chữ số chẵn và\", le, \"chữ số lẻ!\")"
   ]
  },
  {
   "cell_type": "markdown",
   "id": "9a3d9703",
   "metadata": {},
   "source": [
    "#### Cách 2 (không dùng chuỗi):"
   ]
  },
  {
   "cell_type": "code",
   "execution_count": 11,
   "id": "d4e474c8",
   "metadata": {},
   "outputs": [
    {
     "name": "stdout",
     "output_type": "stream",
     "text": [
      "Nhập a: 987654321\n",
      "987654321 có 4 chữ số chẵn và 5 chữ số lẻ!\n"
     ]
    }
   ],
   "source": [
    "a = int(input(\"Nhập a: \"))\n",
    "\n",
    "chan = 0\n",
    "le = 0\n",
    "a0 = a\n",
    "\n",
    "while a != 0:\n",
    "    chusocuoicung = a % 10\n",
    "    a = a // 10\n",
    "    \n",
    "    if chusocuoicung % 2 == 0 and chusocuoicung != 0:\n",
    "        chan += 1\n",
    "    else:\n",
    "        le += 1\n",
    "\n",
    "a = a0\n",
    "\n",
    "print(a, \"có\", chan, \"chữ số chẵn và\", le, \"chữ số lẻ!\")"
   ]
  },
  {
   "cell_type": "markdown",
   "id": "69539ece",
   "metadata": {},
   "source": [
    "### Bài 4\n",
    "\n",
    "Nhập vào số a, hãy tính tổng các chữ số nguyên tố của a"
   ]
  },
  {
   "cell_type": "code",
   "execution_count": 12,
   "id": "f001bd9a",
   "metadata": {},
   "outputs": [
    {
     "name": "stdout",
     "output_type": "stream",
     "text": [
      "Nhập a:123456789\n",
      "17\n"
     ]
    }
   ],
   "source": [
    "a = int(input(\"Nhập a:\"))\n",
    "\n",
    "S = 0\n",
    "\n",
    "while a != 0:\n",
    "    \n",
    "    chu_so_cuoi_cung = a % 10\n",
    "    \n",
    "    a = a // 10\n",
    "\n",
    "    if chu_so_cuoi_cung in (2, 3, 5, 7):\n",
    "        S += chu_so_cuoi_cung\n",
    "        \n",
    "print(S)"
   ]
  },
  {
   "cell_type": "markdown",
   "id": "0a5075a4",
   "metadata": {},
   "source": [
    "### Bài 5\n",
    "\n",
    "Số armstrong là số có tổng của các chữ số mũ số lượng chữ số bằng chính nó\n",
    "\n",
    "Ví dụ\n",
    "\n",
    "Số 371 là một số armstrong vì:\n",
    "\n",
    "371 = 3^3 + 7^3 + 1^3 (3 là số lượng chữ số của 371)\n",
    "\n",
    "Số 1634 là một số armstrong vì:\n",
    "\n",
    "1634 = 1^4 + 6^4 + 3^4 + 4^4 (4 là số lượng chữ số của 1634)\n",
    "\n",
    "Nhập vào số a, kiểm tra xem a có phải là số armstrong không"
   ]
  },
  {
   "cell_type": "code",
   "execution_count": 11,
   "id": "b9ed54a5",
   "metadata": {},
   "outputs": [
    {
     "name": "stdout",
     "output_type": "stream",
     "text": [
      "Nhập a: 1634\n",
      "1634 là một số armstrong!\n"
     ]
    }
   ],
   "source": [
    "# Mine\n",
    "a = int(input(\"Nhập a: \"))\n",
    "\n",
    "S = 0\n",
    "a0 = a\n",
    "b = len(str(a))\n",
    "\n",
    "while a != 0:\n",
    "    \n",
    "    chu_so_cuoi_cung = a % 10\n",
    "    \n",
    "    S += chu_so_cuoi_cung ** b\n",
    "    \n",
    "    a = a // 10\n",
    "    \n",
    "a = a0\n",
    "\n",
    "if S == a:\n",
    "    print(a, \"là một số armstrong!\")\n",
    "else:\n",
    "    print(a, \"không phải là một số armstrong!\")"
   ]
  },
  {
   "cell_type": "code",
   "execution_count": 6,
   "id": "af89a100",
   "metadata": {},
   "outputs": [
    {
     "name": "stdout",
     "output_type": "stream",
     "text": [
      "Nhập số a:371\n",
      "Nhập đúng quy định\n",
      "371 là số armstrong\n"
     ]
    }
   ],
   "source": [
    "# Đặng Huỳnh Long\n",
    "while True:\n",
    "    a = int(input('Nhập số a:'))\n",
    "    if a > 0:\n",
    "        print('Nhập đúng quy định')\n",
    "        break\n",
    "    print('Nhập sai quy định')\n",
    "\n",
    "b = len(str(a))\n",
    "c = a\n",
    "S = 0\n",
    "while c != 0:\n",
    "    S += (c%10)**b\n",
    "    c = c//10\n",
    "if S == a:\n",
    "    print(a,'là số armstrong')\n",
    "else:\n",
    "    print(a,'không phải là số armstrong')"
   ]
  },
  {
   "cell_type": "markdown",
   "id": "f8a584d3",
   "metadata": {},
   "source": [
    "### Bài 6\n",
    "\n",
    "Dãy số fibonacci là dãy số được định nghĩa như sau: 1, 1, 2, 3, 5, 8, 13,... với số kế tiếp sẽ bằng tổng hai số trước đó\n",
    "\n",
    "Nhập vào A, hãy tìm số trong dãy số fibonacci lớn nhất nhưng không vượt quá A"
   ]
  },
  {
   "cell_type": "code",
   "execution_count": 13,
   "id": "3ad4d85b",
   "metadata": {},
   "outputs": [
    {
     "name": "stdout",
     "output_type": "stream",
     "text": [
      "Nhập a: 14\n",
      "Số trong dãy số fibonacci lớn nhất nhưng không vượt quá 14 là: 13\n"
     ]
    }
   ],
   "source": [
    "# A Long\n",
    "\n",
    "A = int(input(\"Nhập A: \"))\n",
    "\n",
    "b = 1\n",
    "c = 1\n",
    "\n",
    "while (b + c) <= a:\n",
    "    c, b = b + c, c\n",
    "print(\"Số trong dãy số fibonacci lớn nhất nhưng không vượt quá\", a, \"là:\", c)"
   ]
  },
  {
   "cell_type": "code",
   "execution_count": 2,
   "id": "6f03986a",
   "metadata": {},
   "outputs": [
    {
     "name": "stdout",
     "output_type": "stream",
     "text": [
      "Nhập A: 13\n",
      "Số trong dãy số fibonacci lớn nhất nhưng không vượt quá 13 là: 13\n"
     ]
    }
   ],
   "source": [
    "# Thầy\n",
    "\n",
    "A = int(input(\"Nhập A: \"))\n",
    "\n",
    "a = 1\n",
    "b = 1\n",
    "c = a + b\n",
    "\n",
    "while c <= A:\n",
    "    a = b\n",
    "    b = c\n",
    "    c = a + b\n",
    "\n",
    "print(\"Số trong dãy số fibonacci lớn nhất nhưng không vượt quá\", A, \"là:\", b)"
   ]
  },
  {
   "cell_type": "markdown",
   "id": "9fa794f2",
   "metadata": {},
   "source": [
    "### Bài 7\n",
    "\n",
    "Nhập vào A, tìm n nhỏ nhất sao cho\n",
    "\n",
    "1 + 1/2 + 1/3 + 1/4 + ... + 1/n > A"
   ]
  },
  {
   "cell_type": "code",
   "execution_count": 1,
   "id": "246ec002",
   "metadata": {},
   "outputs": [
    {
     "name": "stdout",
     "output_type": "stream",
     "text": [
      "Nhập A: 3\n",
      "12 là nhỏ nhất sao cho 3.0198773448773446 > 3\n"
     ]
    }
   ],
   "source": [
    "A = int(input(\"Nhập A: \"))\n",
    "\n",
    "S = 0\n",
    "\n",
    "n = 1\n",
    "\n",
    "while S <= A:\n",
    "    \n",
    "    S += 1 / n\n",
    "    \n",
    "    n += 1\n",
    "    \n",
    "print(n, \"là nhỏ nhất sao cho\", S, \">\", A)"
   ]
  },
  {
   "cell_type": "markdown",
   "id": "c5fd4d8a",
   "metadata": {},
   "source": [
    "### Bài 8\n",
    "\n",
    "Nhập vào a và b là số nguyên dương (b có một chữ số, nhập sai yêu cầu nhập lại), hãy tìm vị trí đầu tiên (bắt đầu từ bên trái) của b trong a, nếu không tìm thấy thì in kết quả là 0 (ví trí đầu bắt đầu từ 1)\n",
    "\n",
    "<b>Ví dụ:</b>\n",
    "\n",
    "<b>Nhập:</b>\n",
    "- a = 125785\n",
    "- b = 5\n",
    "\n",
    "<b>Kết quả:</b> 3 (do số 5 nằm ở vị trí 3)"
   ]
  },
  {
   "cell_type": "code",
   "execution_count": null,
   "id": "9edf35ac",
   "metadata": {},
   "outputs": [],
   "source": []
  }
 ],
 "metadata": {
  "kernelspec": {
   "display_name": "Python 3 (ipykernel)",
   "language": "python",
   "name": "python3"
  },
  "language_info": {
   "codemirror_mode": {
    "name": "ipython",
    "version": 3
   },
   "file_extension": ".py",
   "mimetype": "text/x-python",
   "name": "python",
   "nbconvert_exporter": "python",
   "pygments_lexer": "ipython3",
   "version": "3.9.12"
  }
 },
 "nbformat": 4,
 "nbformat_minor": 5
}
