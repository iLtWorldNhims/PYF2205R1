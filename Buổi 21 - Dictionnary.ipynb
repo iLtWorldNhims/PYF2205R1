{
 "cells": [
  {
   "cell_type": "markdown",
   "id": "a20f121d",
   "metadata": {},
   "source": [
    "# Dictionnary\n",
    "\n",
    "Dictionnary là một dạng list đặc biệt, nó khác list ở chỗ không lưu trữ các giá trị theo chỉ số vị trí, thay vào đó Dictionary sẽ lưu trữ các giá trị theo key\n",
    "\n",
    "##### Tài liệu tham khảo: https://www.w3schools.com/python/python_dictionaries.asp\n",
    "\n",
    "### Khai báo một dictionary\n",
    "\n",
    "Cú pháp:\n",
    "\n",
    "`<tên dictionary> = {}`\n",
    "\n",
    "### Dictionary được khai báo bằng hai dấu hoặc nhọn\n",
    "\n",
    "Đây là một dictionary rỗng\n",
    "\n",
    "<b>Ví dụ 1:</b>\n",
    "\n",
    "`a = {}`\n",
    "\n",
    "a là một dictionary rỗng\n",
    "\n",
    "<b>Ví dụ 2:</b>\n",
    "\n",
    "`a = {\"tên\": \"Nguyễn Tâm Điền\", \"tuổi\": 13, \"giới tính\": \"Nam\"}`\n",
    "\n",
    "b là một dictionary có 3 key, mõi key đều có một giá trị riêng biệt\n",
    "\n",
    "Key có thể mang kiểu dữ liệu là chuỗi hoặc số\n",
    "\n",
    "##### Mỗi một key đều phải có giá trị của riêng nó, không thể khai báo key không có giá trị\n",
    "\n",
    "<b>Hãy khai báo một dictionary có 3 phần tử</b>"
   ]
  },
  {
   "cell_type": "code",
   "execution_count": 8,
   "id": "d835f461",
   "metadata": {},
   "outputs": [
    {
     "name": "stdout",
     "output_type": "stream",
     "text": [
      "hi\n",
      "4\n"
     ]
    }
   ],
   "source": [
    "D = {'tiếng Anh': 'hi', 'tiếng Việt': 'xin chào', 'tiếng Pháp': 'bonjour', 'tiếng Nhật': 'hi'}\n",
    "print(D['tiếng Anh'])\n",
    "print(len(D))"
   ]
  },
  {
   "cell_type": "code",
   "execution_count": 13,
   "id": "0d9a4027-0500-4e23-a512-282d5f0a5624",
   "metadata": {},
   "outputs": [
    {
     "name": "stdout",
     "output_type": "stream",
     "text": [
      "4\n",
      "hello\n",
      "{'tiếng Anh': 'hello', 'tiếng Việt': 'xin chào', 'tiếng Pháp': 'bonjour', 'tiếng Nhật': 'hi'}\n"
     ]
    }
   ],
   "source": [
    "D = {'tiếng Anh': 'hi', 'tiếng Việt': 'xin chào', 'tiếng Pháp': 'bonjour', 'tiếng Nhật': 'hi', 'tiếng Anh': 'hello'}\n",
    "print(len(D))\n",
    "print(D['tiếng Anh'])\n",
    "print(D)"
   ]
  },
  {
   "cell_type": "markdown",
   "id": "be1e321c",
   "metadata": {},
   "source": [
    "### Thêm key vào dictionary\n",
    "\n",
    "Cú pháp:\n",
    "\n",
    "`<tên dictionary>[<key>] = <giá trị>`\n",
    "\n",
    "<b>Ví dụ 1:</b>\n",
    "\n",
    "`a = {}\n",
    "a[\"tên\"] = \"NTD\"`\n",
    "\n",
    "a là một dictionary có một phần tử, phần tử đó có key là \"tên\" và giá trị của key đó là \"NTD\"\n",
    "\n",
    "##### Lưu ý, nếu trong trường hợp đã tồn tại key trong dictionary, dùng lệnh trên sẽ thay đổi giá trị key đó (không phải thêm key khác vào)\n",
    "\n",
    "<b>Ví dụ 2:</b>\n",
    "\n",
    "`a = {}\n",
    "a[\"tên\"] = \"NTD\"\n",
    "a[\"tên\"] = \"Nguyễn Tâm Điền\"`\n",
    "\n",
    "a vẫn là một dictionary có một phần tử, phần tử đó có key là \"tên\" và giá trị của key đó là \"Nguyễn Tâm Điền\"\n",
    "\n",
    "<b>Hãy khai báo một dictionary không có phần tử nào, sau đó thêm một phần tử vào dictionary đó</b>"
   ]
  },
  {
   "cell_type": "code",
   "execution_count": 15,
   "id": "7573ebef",
   "metadata": {},
   "outputs": [
    {
     "name": "stdout",
     "output_type": "stream",
     "text": [
      "['hi', 'hello', 'xin chào']\n"
     ]
    }
   ],
   "source": [
    "L = ['hi', 'hello']\n",
    "L.append('xin chào')\n",
    "print(L)"
   ]
  },
  {
   "cell_type": "code",
   "execution_count": 17,
   "id": "f50a522b-4f09-4151-9df4-71dadfa7848b",
   "metadata": {},
   "outputs": [
    {
     "name": "stdout",
     "output_type": "stream",
     "text": [
      "{'tiếng Anh': 'hi', 'tiếng Việt': 'xin chào', 'tiếng Pháp': 'bonjour'}\n"
     ]
    }
   ],
   "source": [
    "D = {'tiếng Anh': 'hi', 'tiếng Việt': 'xin chào'}\n",
    "D['tiếng Pháp'] = 'bonjour'\n",
    "print(D)"
   ]
  },
  {
   "cell_type": "code",
   "execution_count": 18,
   "id": "4219b482-3454-47b5-bf96-ad56ec4828e4",
   "metadata": {},
   "outputs": [
    {
     "name": "stdout",
     "output_type": "stream",
     "text": [
      "{'tiếng Anh': 'hi', 'tiếng Việt': 'chào', 'tiếng Pháp': 'bonjour'}\n"
     ]
    }
   ],
   "source": [
    "D = {'tiếng Anh': 'hi', 'tiếng Việt': 'xin chào'}\n",
    "D['tiếng Pháp'] = 'bonjour'\n",
    "D['tiếng Việt'] = 'chào'\n",
    "print(D)"
   ]
  },
  {
   "cell_type": "code",
   "execution_count": null,
   "id": "82904820-6a6f-42d8-a3b0-7f426fd9337f",
   "metadata": {},
   "outputs": [],
   "source": [
    "L = ['hi', 'xin chào', 'hello']\n",
    "D = {'tiếng Anh': 'hello', 'tiếng Việt': 'xin chào'}\n",
    "\n"
   ]
  },
  {
   "cell_type": "code",
   "execution_count": 27,
   "id": "7bd3a34a-53d8-4a3d-a528-2359e8ce9d50",
   "metadata": {},
   "outputs": [
    {
     "name": "stdin",
     "output_type": "stream",
     "text": [
      "Nhập key:  tieng anh\n",
      "Nhập giá trị:  hello\n",
      "Nhập key:  tieng phap\n",
      "Nhập giá trị:  bonjour\n",
      "Nhập key:  tieng viet\n",
      "Nhập giá trị:  xin chao\n",
      "Nhập key:  tieng phap\n"
     ]
    },
    {
     "name": "stdout",
     "output_type": "stream",
     "text": [
      "Key đã tồn tại\n"
     ]
    },
    {
     "name": "stdin",
     "output_type": "stream",
     "text": [
      "Nhập key:  \n"
     ]
    },
    {
     "name": "stdout",
     "output_type": "stream",
     "text": [
      "{'tieng anh': 'hello', 'tieng phap': 'bonjour', 'tieng viet': 'xin chao'}\n"
     ]
    }
   ],
   "source": [
    "D = {}\n",
    "\n",
    "while True:\n",
    "    key = input(\"Nhập key: \")\n",
    "    \n",
    "    if key == \"\":\n",
    "        break \n",
    "        \n",
    "    if key in D:\n",
    "        print(\"Key đã tồn tại\")\n",
    "        key = input(\"Nhập key: \")\n",
    "        \n",
    "    if key == \"\":\n",
    "        break\n",
    "        \n",
    "    if key not in D:\n",
    "        D[key] = input(\"Nhập giá trị: \")\n",
    "    \n",
    "    if key == \"\":\n",
    "        break \n",
    "        \n",
    "print(D)"
   ]
  },
  {
   "cell_type": "markdown",
   "id": "65c98825",
   "metadata": {},
   "source": [
    "### Truy xuất phần tử trong dictionary\n",
    "\n",
    "Cú pháp:\n",
    "\n",
    "`<tên dictionary>[<key>]`\n",
    "\n",
    "<b>Ví dụ:</b>\n",
    "\n",
    "`a = {\"tên\": \"Nguyễn Tâm Điền\", \"tuổi\": 13, \"giới tính\": \"Nam\"}\n",
    "print(a[\"tên\"])`\n",
    "\n",
    "Màn hình sẽ in: Nguyễn Tâm Điền\n",
    "\n",
    "<b>Hãy khai báo một dictionary rồi in ra màn hình một phần tử bất kỳ trong dictionary đó</b>"
   ]
  },
  {
   "cell_type": "code",
   "execution_count": 31,
   "id": "f6159385",
   "metadata": {},
   "outputs": [
    {
     "name": "stdout",
     "output_type": "stream",
     "text": [
      "Nguyễn Tâm Điền\n"
     ]
    }
   ],
   "source": [
    "a = {\"tên\": \"Nguyễn Tâm Điền\", \"tuổi\": 13, \"giới tính\": \"Nam\"}\n",
    "print(a['tên'])"
   ]
  },
  {
   "cell_type": "markdown",
   "id": "afa92f87",
   "metadata": {},
   "source": [
    "### Sao chép dictionary\n",
    "\n",
    "##### Việc sao chép dictionary được thực hiện hệt như sao chép list, chúng ta cần phải sử dụng lệnh copy()"
   ]
  },
  {
   "cell_type": "markdown",
   "id": "ef7e800d",
   "metadata": {},
   "source": [
    "### Duyệt dictionary bằng lệnh for\n",
    "\n",
    "Cú pháp:\n",
    "\n",
    "`for <tên biến> in <tên dictionary>:`\n",
    "\n",
    "Biến sẽ có giá trị là từng key trong dictionary\n",
    "\n",
    "<b>Ví dụ:</b>\n",
    "\n",
    "`a = {\"tên\": \"Nguyễn Tâm Điền\", \"tuổi\": 13, \"giới tính\": \"Nam\"}\n",
    "for i in a:\n",
    "    print(i)`\n",
    "    \n",
    "Màn hình sẽ in ra:\n",
    "\n",
    "tên\n",
    "\n",
    "tuổi\n",
    "\n",
    "giới tính\n",
    "\n",
    "<b>Hãy khai báo một dictionary rồi in ra màn hình toàn bộ giá trị trong dictionary đó</b>"
   ]
  },
  {
   "cell_type": "code",
   "execution_count": 32,
   "id": "3bdd1508",
   "metadata": {},
   "outputs": [
    {
     "name": "stdout",
     "output_type": "stream",
     "text": [
      "tên\n",
      "tuổi\n",
      "giới tính\n"
     ]
    }
   ],
   "source": [
    "a = {\"tên\": \"Nguyễn Tâm Điền\", \"tuổi\": 13, \"giới tính\": \"Nam\"}\n",
    "\n",
    "for i in a:     \n",
    "    print(i)"
   ]
  },
  {
   "cell_type": "code",
   "execution_count": 34,
   "id": "9d0df328-3b01-4262-b100-3749497efee6",
   "metadata": {},
   "outputs": [
    {
     "name": "stdout",
     "output_type": "stream",
     "text": [
      "tên: Nguyễn Tâm Điền\n",
      "tuổi: 13\n",
      "giới tính: Nam\n"
     ]
    }
   ],
   "source": [
    "a = {\"tên\": \"Nguyễn Tâm Điền\", \"tuổi\": 13, \"giới tính\": \"Nam\"}\n",
    "\n",
    "for i in a:     \n",
    "    print(str(i) + \": \" + str(a[i]))"
   ]
  },
  {
   "cell_type": "markdown",
   "id": "1982f4b1",
   "metadata": {},
   "source": [
    "### Bài tập"
   ]
  },
  {
   "cell_type": "markdown",
   "id": "3060a950",
   "metadata": {},
   "source": [
    "Viết chương trình đếm số lần xuất hiện của một từ trong một văn bản nhất định"
   ]
  },
  {
   "cell_type": "code",
   "execution_count": 3,
   "id": "af64832c",
   "metadata": {},
   "outputs": [
    {
     "name": "stdout",
     "output_type": "stream",
     "text": [
      "['Những', 'tấm', 'ảnh', 'tôi', 'mang', 'về', 'đã', 'được', 'chọn', 'lấy', 'một', 'tấm', 'Trưởng', 'phòng', 'rất', 'bằng', 'lòng', 'về', 'tôi', 'Không', 'những', 'trong', 'bộ', 'lịch', 'năm', 'ấy', 'mà', 'mãi', 'mãi', 'về', 'sau', 'tấm', 'ảnh', 'chụp', 'của', 'tôi', 'vẫn', 'còn', 'được', 'treo', 'ở', 'nhiều', 'nơi', 'nhất', 'là', 'trong', 'các', 'gia', 'đình', 'sành', 'nghệ', 'thuật', 'Quái', 'lạ', 'tuy', 'là', 'ảnh', 'đen', 'trắng', 'nhưng', 'mỗi', 'lần', 'ngắm', 'kỹ', 'tôi', 'vẫn', 'thấy', 'hiện', 'lên', 'cái', 'màu', 'hồng', 'hồng', 'của', 'ánh', 'sương', 'mai', 'lúc', 'bấy', 'giờ', 'tôi', 'nhìn', 'thấy', 'từ', 'bãi', 'xe', 'tăng', 'hỏng', 'và', 'nếu', 'nhìn', 'lâu', 'hơn', 'bao', 'giờ', 'tôi', 'cũng', 'thấy', 'người', 'đàn', 'bà', 'ấy', 'đang', 'bước', 'ra', 'khỏi', 'tấm', 'ảnh', 'đó', 'là', 'một', 'người', 'đàn', 'bà', 'vùng', 'biển', 'cao', 'lớn', 'với', 'những', 'đường', 'nét', 'thô', 'kệch', 'tấm', 'lưng', 'áo', 'bạc', 'phếch', 'có', 'miếng', 'vá', 'nửa', 'thân', 'dưới', 'ướt', 'sũng', 'khuôn', 'mặt', 'rỗ', 'đã', 'nhợt', 'trắng', 'vì', 'kéo', 'lưới', 'suốt', 'đêm', 'Mụ', 'bước', 'những', 'bước', 'chậm', 'rãi', 'bàn', 'chân', 'dậm', 'trên', 'mặt', 'đất', 'chắc', 'chắn', 'hòa', 'lẫn', 'trong', 'đám', 'đông']\n",
      "Những: 1\n",
      "tấm: 5\n",
      "ảnh: 4\n",
      "tôi: 6\n",
      "mang: 1\n",
      "về: 3\n",
      "đã: 2\n",
      "được: 2\n",
      "chọn: 1\n",
      "lấy: 1\n",
      "một: 2\n",
      "Trưởng: 1\n",
      "phòng: 1\n",
      "rất: 1\n",
      "bằng: 1\n",
      "lòng: 1\n",
      "Không: 1\n",
      "những: 3\n",
      "trong: 3\n",
      "bộ: 1\n",
      "lịch: 1\n",
      "năm: 1\n",
      "ấy: 2\n",
      "mà: 1\n",
      "mãi: 2\n",
      "sau: 1\n",
      "chụp: 1\n",
      "của: 2\n",
      "vẫn: 2\n",
      "còn: 1\n",
      "treo: 1\n",
      "ở: 1\n",
      "nhiều: 1\n",
      "nơi: 1\n",
      "nhất: 1\n",
      "là: 3\n",
      "các: 1\n",
      "gia: 1\n",
      "đình: 1\n",
      "sành: 1\n",
      "nghệ: 1\n",
      "thuật: 1\n",
      "Quái: 1\n",
      "lạ: 1\n",
      "tuy: 1\n",
      "đen: 1\n",
      "trắng: 2\n",
      "nhưng: 1\n",
      "mỗi: 1\n",
      "lần: 1\n",
      "ngắm: 1\n",
      "kỹ: 1\n",
      "thấy: 3\n",
      "hiện: 1\n",
      "lên: 1\n",
      "cái: 1\n",
      "màu: 1\n",
      "hồng: 2\n",
      "ánh: 1\n",
      "sương: 1\n",
      "mai: 1\n",
      "lúc: 1\n",
      "bấy: 1\n",
      "giờ: 2\n",
      "nhìn: 2\n",
      "từ: 1\n",
      "bãi: 1\n",
      "xe: 1\n",
      "tăng: 1\n",
      "hỏng: 1\n",
      "và: 1\n",
      "nếu: 1\n",
      "lâu: 1\n",
      "hơn: 1\n",
      "bao: 1\n",
      "cũng: 1\n",
      "người: 2\n",
      "đàn: 2\n",
      "bà: 2\n",
      "đang: 1\n",
      "bước: 3\n",
      "ra: 1\n",
      "khỏi: 1\n",
      "đó: 1\n",
      "vùng: 1\n",
      "biển: 1\n",
      "cao: 1\n",
      "lớn: 1\n",
      "với: 1\n",
      "đường: 1\n",
      "nét: 1\n",
      "thô: 1\n",
      "kệch: 1\n",
      "lưng: 1\n",
      "áo: 1\n",
      "bạc: 1\n",
      "phếch: 1\n",
      "có: 1\n",
      "miếng: 1\n",
      "vá: 1\n",
      "nửa: 1\n",
      "thân: 1\n",
      "dưới: 1\n",
      "ướt: 1\n",
      "sũng: 1\n",
      "khuôn: 1\n",
      "mặt: 2\n",
      "rỗ: 1\n",
      "nhợt: 1\n",
      "vì: 1\n",
      "kéo: 1\n",
      "lưới: 1\n",
      "suốt: 1\n",
      "đêm: 1\n",
      "Mụ: 1\n",
      "chậm: 1\n",
      "rãi: 1\n",
      "bàn: 1\n",
      "chân: 1\n",
      "dậm: 1\n",
      "trên: 1\n",
      "đất: 1\n",
      "chắc: 1\n",
      "chắn: 1\n",
      "hòa: 1\n",
      "lẫn: 1\n",
      "đám: 1\n",
      "đông: 1\n"
     ]
    }
   ],
   "source": [
    "text = \"\"\"Những tấm ảnh tôi mang về, đã được chọn lấy một tấm. Trưởng phòng rất bằng lòng về tôi. Không những trong bộ lịch năm ấy mà mãi mãi về sau, tấm ảnh chụp của tôi vẫn còn được treo ở nhiều nơi, nhất là trong các gia đình sành nghệ thuật. Quái lạ, tuy là ảnh đen trắng nhưng mỗi lần ngắm kỹ, tôi vẫn thấy hiện lên cái màu hồng hồng của ánh sương mai lúc bấy giờ tôi nhìn thấy từ bãi xe tăng hỏng, và nếu nhìn lâu hơn, bao giờ tôi cũng thấy người đàn bà ấy đang bước ra khỏi tấm ảnh, đó là một người đàn bà vùng biển cao lớn với những đường nét thô kệch tấm lưng áo bạc phếch có miếng vá, nửa thân dưới ướt sũng khuôn mặt rỗ đã nhợt trắng vì kéo lưới suốt đêm. Mụ bước những bước chậm rãi, bàn chân dậm trên mặt đất chắc chắn, hòa lẫn trong đám đông.\"\"\"\n",
    "D = {}\n",
    "\n",
    "for i in ['.', ',', '?', '-', '!', '\"', ':', '(', ')']:\n",
    "    text = text.replace(i, '')\n",
    "    \n",
    "L = text.split()\n",
    "\n",
    "print(L)\n",
    "\n",
    "for i in L:\n",
    "    if i in D:\n",
    "        D[i] += 1\n",
    "    else:\n",
    "        D[i] = 1\n",
    "\n",
    "for i in D:\n",
    "    print(str(i) + \": \" + str(D[i]))"
   ]
  },
  {
   "cell_type": "markdown",
   "id": "57c6f1e7",
   "metadata": {},
   "source": [
    "Viết chương trình cho phép người dùng quản lý sản phẩm, gồm các chức năng sau: \n",
    "\n",
    "- Hiển thị danh sách sản phẩm\n",
    "- Thêm sản phẩm mới vào danh sách\n",
    "- Sửa tên của sản phẩm trong danh sách\n",
    "- Xoá một sản phẩm khỏi danh sách"
   ]
  },
  {
   "cell_type": "code",
   "execution_count": null,
   "id": "8541b8c3",
   "metadata": {},
   "outputs": [],
   "source": []
  }
 ],
 "metadata": {
  "kernelspec": {
   "display_name": "Python 3 (ipykernel)",
   "language": "python",
   "name": "python3"
  },
  "language_info": {
   "codemirror_mode": {
    "name": "ipython",
    "version": 3
   },
   "file_extension": ".py",
   "mimetype": "text/x-python",
   "name": "python",
   "nbconvert_exporter": "python",
   "pygments_lexer": "ipython3",
   "version": "3.10.5"
  }
 },
 "nbformat": 4,
 "nbformat_minor": 5
}
