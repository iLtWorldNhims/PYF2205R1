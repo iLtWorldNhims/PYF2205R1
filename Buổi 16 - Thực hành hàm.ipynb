{
 "cells": [
  {
   "cell_type": "markdown",
   "id": "028ffec3",
   "metadata": {},
   "source": [
    "# Thực hành hàm\n",
    "\n",
    "### Bài 1\n",
    "\n",
    "Viết hàm có dữ liệu đầu vào là 2 số a và b, số nào lớn hơn thì in bảng cửu chương của số đó"
   ]
  },
  {
   "cell_type": "code",
   "execution_count": 5,
   "id": "1974966b",
   "metadata": {
    "scrolled": false
   },
   "outputs": [
    {
     "name": "stdout",
     "output_type": "stream",
     "text": [
      "8 x 1 = 8\n",
      "8 x 2 = 16\n",
      "8 x 3 = 24\n",
      "8 x 4 = 32\n",
      "8 x 5 = 40\n",
      "8 x 6 = 48\n",
      "8 x 7 = 56\n",
      "8 x 8 = 64\n",
      "8 x 9 = 72\n",
      "8 x 10 = 80\n"
     ]
    }
   ],
   "source": [
    "def cuu_chuong(a,b):\n",
    "    if a > b:\n",
    "        for i in range(1,11):\n",
    "            print(a,\"x\",i,\"=\",a*i)\n",
    "    elif b > a:\n",
    "        for i in range(1,11):\n",
    "            print(b,\"x\",i,\"=\",b*i)\n",
    "    else:\n",
    "        print(\"2 số bằng nhau!\")\n",
    "\n",
    "cuu_chuong(6,8)"
   ]
  },
  {
   "cell_type": "markdown",
   "id": "9de8ffaa",
   "metadata": {},
   "source": [
    "### Bài 2\n",
    "\n",
    "Viết hàm `xoachuoi` có dữ liệu đầu vào là 2 chuỗi a và b, hãy tìm trong chuỗi a có chuỗi b hay không, nếu có hãy xóa toán bộ chuỗi b trong a.\n",
    "\n",
    "Sau đó trả về chuỗi a mới\n",
    "\n",
    "Ví dụ:\n",
    "\n",
    "chuoi1 = \"xin chào các bạn, các bạn có khỏe không?\"\n",
    "\n",
    "chuoi2 = \"các bạn\"\n",
    "\n",
    "chuoi3 = xoachuoi(chuoi1,chuoi2)\n",
    "\n",
    "print(chuoi3)\n",
    "\n",
    "Kết quả in ra là:\n",
    "xin chào ,  có khỏe không"
   ]
  },
  {
   "cell_type": "code",
   "execution_count": 6,
   "id": "32accde0",
   "metadata": {},
   "outputs": [
    {
     "name": "stdout",
     "output_type": "stream",
     "text": [
      "xin chào , các bạn có khỏe không hả các bạn?\n",
      "None\n"
     ]
    }
   ],
   "source": [
    "def xoa_chuoi(a, b):\n",
    "    if a.find(b):\n",
    "        a = a[:a.index(b)] + a[a.index(b) + len(b):]\n",
    "        \n",
    "    print(a)\n",
    "        \n",
    "a = \"xin chào các bạn, các bạn có khỏe không hả các bạn?\"\n",
    "\n",
    "b = \"các bạn\"\n",
    "\n",
    "c = xoa_chuoi(a, b)\n",
    "\n",
    "print(c)"
   ]
  },
  {
   "cell_type": "code",
   "execution_count": 11,
   "id": "5b7d49fb",
   "metadata": {
    "scrolled": true
   },
   "outputs": [
    {
     "name": "stdout",
     "output_type": "stream",
     "text": [
      "x\n",
      "None\n"
     ]
    }
   ],
   "source": [
    "def xoa_chuoi(a, b):\n",
    "    for b in a:\n",
    "        if a.find(b):\n",
    "            a = a[:a.index(b)] + a[a.index(b) + len(b):]\n",
    "        else:\n",
    "            continue\n",
    "            \n",
    "    print(a)\n",
    "        \n",
    "a = \"xin chào các bạn, các bạn có khỏe không hả các bạn?\"\n",
    "\n",
    "b = \"các bạn\"\n",
    "\n",
    "c = xoa_chuoi(a, b)\n",
    "\n",
    "print(c)"
   ]
  },
  {
   "cell_type": "code",
   "execution_count": 1,
   "id": "ebe68ef6",
   "metadata": {},
   "outputs": [
    {
     "name": "stdout",
     "output_type": "stream",
     "text": [
      "xin chào ,  có khỏe không hả ?\n",
      "None\n"
     ]
    }
   ],
   "source": [
    "###### ĐÚNG NÈEEEEEEEEEEEEEEEEEEEEEEEE\n",
    "\n",
    "def xoa_chuoi(a, b):\n",
    "    if a.index(b) > 0:\n",
    "        a = a.replace(b, \"\")\n",
    "\n",
    "    print(a)\n",
    "        \n",
    "a = \"xin chào các bạn, các bạn có khỏe không hả các bạn?\"\n",
    "\n",
    "b = \"các bạn\"\n",
    "\n",
    "c = xoa_chuoi(a, b)\n",
    "\n",
    "print(c)"
   ]
  },
  {
   "cell_type": "markdown",
   "id": "d626394e",
   "metadata": {},
   "source": [
    "### Bài 3\n",
    "\n",
    "Viết hàm `kiemtramatkhau` với dữ liệu đầu vào là 1 chuỗi có công dụng như sau:\n",
    "\n",
    "Kiểm tra xem chuỗi đầu vào có phải là mật khẩu mạnh hay không, nếu có trả về True, nếu không trả về False\n",
    "\n",
    "Mật khẩu mạnh là mật khẩu phải có ít nhất 1 chữ hoa, 1 chữ thường, 1 số và 1 ký tự đặc biệt"
   ]
  },
  {
   "cell_type": "code",
   "execution_count": 10,
   "id": "875d88f5",
   "metadata": {},
   "outputs": [
    {
     "name": "stdout",
     "output_type": "stream",
     "text": [
      "Nhập mật khẩu dzô nè: Bodoi@123\n",
      "True\n"
     ]
    }
   ],
   "source": [
    "def kiem_tra_mat_khau(chuoi):\n",
    "    kiem_tra = False\n",
    "    kiem_tra_1 = False\n",
    "    kiem_tra_2 = False\n",
    "    kiem_tra_3 = False\n",
    "    kiem_tra_4 = False\n",
    "    \n",
    "    for ki_tu in chuoi:\n",
    "        if ki_tu.isupper():\n",
    "            kiem_tra_1 = True\n",
    "        elif ki_tu.islower():\n",
    "            kiem_tra_2 = True\n",
    "        elif ki_tu.isdigit():\n",
    "            kiem_tra_3 = True\n",
    "        elif not ki_tu.isalpha() or not ki_tu.isdigit:\n",
    "            kiem_tra_4 = True\n",
    "            \n",
    "    kiem_tra = kiem_tra_1 and kiem_tra_2 and kiem_tra_3 and kiem_tra_4\n",
    "    \n",
    "    print(kiem_tra)\n",
    "    \n",
    "mat_khau = input(\"Nhập mật khẩu dzô nè: \")\n",
    "\n",
    "kiem_tra_mat_khau(mat_khau)"
   ]
  },
  {
   "cell_type": "markdown",
   "id": "1572568f",
   "metadata": {},
   "source": [
    "### Bài 4\n",
    "\n",
    "Viết hàm có 5 dữ liệu đầu vào là 5 số nguyên, tìm giá trị lớn nhì trong 5 số đó"
   ]
  },
  {
   "cell_type": "code",
   "execution_count": null,
   "id": "876707ae",
   "metadata": {},
   "outputs": [],
   "source": []
  },
  {
   "cell_type": "markdown",
   "id": "974d7da1",
   "metadata": {},
   "source": [
    "### Bài 5\n",
    "\n",
    "Nhập vào 2 cặp tọa độ tâm đường tròn và 2 bán kính R\n",
    "\n",
    "Hãy vẽ 2 hình tròn theo tọa độ và bán kính trên (tọa độ thứ nhất và bán kính thứ nhất là hình tròn thứ nhất, tọa độ thứ 2 với bán kính thứ 2 là hình tròn thứ hai)\n",
    "\n",
    "Viết hàm kiểm tra xem 2 hình tròn trên cắt nhau bao nhiêu điểm"
   ]
  },
  {
   "cell_type": "code",
   "execution_count": null,
   "id": "f7722021",
   "metadata": {},
   "outputs": [],
   "source": []
  },
  {
   "cell_type": "markdown",
   "id": "a2157de8",
   "metadata": {},
   "source": [
    "### Bài 6\n",
    "\n",
    "Nhập vào 2 tọa độ là 2 đỉnh của một hình chữ nhật\n",
    "\n",
    "Sau đó\n",
    "\n",
    "Nhập vào tọa độ tâm đường tròn và bán kính R\n",
    "\n",
    "Hãy vẽ hình hình chữ nhật và đường tròn trên\n",
    "\n",
    "Viết hàm kiểm tra xem đường tròn trên và hình chữ nhật cắt nhau tại bao nhiêu điểm"
   ]
  },
  {
   "cell_type": "code",
   "execution_count": null,
   "id": "e0d7b1a2",
   "metadata": {},
   "outputs": [],
   "source": []
  },
  {
   "cell_type": "markdown",
   "id": "d1491579",
   "metadata": {},
   "source": [
    "### Bài 7\n",
    "\n",
    "Viết hàm kiểm tra số nguyên tố\n",
    "\n",
    "Viết hàm kiểm tra số hoàn hảo\n",
    "\n",
    "Viết hàm kiểm tra số chính phương\n",
    "\n",
    "Viết hàm kiểm tra số Armstrong\n",
    "\n",
    "Nhập vào một chuỗi, hãy lọc và tìm ra những số ở trong chuỗi (2 chữ số liền nhau là một chuỗi)\n",
    "\n",
    "Ví dụ chuỗi: \"AB25SDc5DSjjh52\"\n",
    "\n",
    "Trong chuỗi này ta có 3 số: 25, 5 và 52\n",
    "\n",
    "Sau khi lọc số, dùng các hàm trên để kiểm tra và thực hiện như sau:\n",
    "\n",
    "Cho biến S\n",
    "\n",
    "- Nếu số đó là số nguyên tố, ta thực hiện S += số đó\n",
    "- Nếu số đó là số hoàn hảo, ta thực hiện S -= số đó\n",
    "- Nếu số đó là số chính phương, ta thực hiện S /= số đó\n",
    "- Nếu đó là số Armstrong ta cho S = 0\n",
    "\n",
    "Hãy tính và in S"
   ]
  },
  {
   "cell_type": "code",
   "execution_count": null,
   "id": "0b699e33",
   "metadata": {},
   "outputs": [],
   "source": []
  }
 ],
 "metadata": {
  "kernelspec": {
   "display_name": "Python 3 (ipykernel)",
   "language": "python",
   "name": "python3"
  },
  "language_info": {
   "codemirror_mode": {
    "name": "ipython",
    "version": 3
   },
   "file_extension": ".py",
   "mimetype": "text/x-python",
   "name": "python",
   "nbconvert_exporter": "python",
   "pygments_lexer": "ipython3",
   "version": "3.9.12"
  }
 },
 "nbformat": 4,
 "nbformat_minor": 5
}
