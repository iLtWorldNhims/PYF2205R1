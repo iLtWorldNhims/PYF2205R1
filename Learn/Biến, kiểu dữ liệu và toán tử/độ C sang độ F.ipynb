{
 "cells": [
  {
   "cell_type": "code",
   "execution_count": 4,
   "id": "00d5cc21",
   "metadata": {},
   "outputs": [
    {
     "name": "stdout",
     "output_type": "stream",
     "text": [
      " Hãy nhập nhiệt độ C từ bàn phím: 100\n",
      " Nhiệt độ F là:  212.0\n"
     ]
    }
   ],
   "source": [
    "c = input(\" Hãy nhập nhiệt độ C từ bàn phím: \")\n",
    "\n",
    "f = (int(c) * 1.8 + 32)\n",
    "\n",
    "print(\" Nhiệt độ F là: \", f)"
   ]
  },
  {
   "cell_type": "code",
   "execution_count": null,
   "id": "c460b082",
   "metadata": {},
   "outputs": [],
   "source": []
  }
 ],
 "metadata": {
  "kernelspec": {
   "display_name": "Python 3 (ipykernel)",
   "language": "python",
   "name": "python3"
  },
  "language_info": {
   "codemirror_mode": {
    "name": "ipython",
    "version": 3
   },
   "file_extension": ".py",
   "mimetype": "text/x-python",
   "name": "python",
   "nbconvert_exporter": "python",
   "pygments_lexer": "ipython3",
   "version": "3.10.5"
  }
 },
 "nbformat": 4,
 "nbformat_minor": 5
}
