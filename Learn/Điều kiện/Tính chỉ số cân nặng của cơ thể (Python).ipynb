{
 "cells": [
  {
   "cell_type": "code",
   "execution_count": 2,
   "id": "db912009",
   "metadata": {},
   "outputs": [
    {
     "name": "stdout",
     "output_type": "stream",
     "text": [
      "Vui lòng nhập vào chiều cao của bạn tính theo đơn vị mét: 1.65\n",
      "Vui lòng nhập vào cân nặng của bạn tính theo đơn vị kg: 65\n",
      "Bình thường\n"
     ]
    }
   ],
   "source": [
    "chieu_cao = float(input(\"Vui lòng nhập vào chiều cao của bạn tính theo đơn vị mét: \"))\n",
    "can_nang = float(input(\"Vui lòng nhập vào cân nặng của bạn tính theo đơn vị kg: \"))\n",
    "\n",
    "BMI = can_nang / (chieu_cao ** 2)\n",
    "\n",
    "if BMI < 16: \n",
    "    print(\"Gầy cấp độ III\")\n",
    "elif BMI < 17:\n",
    "    print(\"Gầy cấp độ II\")\n",
    "elif BMI < 18.5:\n",
    "    print(\"Gầy cấp độ I\")\n",
    "elif BMI < 25:\n",
    "    print(\"Bình thường\")\n",
    "elif BMI < 30:\n",
    "    print(\"Thừa cân\")\n",
    "elif BMI < 35: \n",
    "    print(\"Béo phì cấp độ I\")\n",
    "elif BMI < 40:    \n",
    "    print(\"Béo phì cấp độ II\")\n",
    "else:\n",
    "    print(\"Béo phì cấp độ III\")"
   ]
  }
 ],
 "metadata": {
  "kernelspec": {
   "display_name": "Python 3 (ipykernel)",
   "language": "python",
   "name": "python3"
  },
  "language_info": {
   "codemirror_mode": {
    "name": "ipython",
    "version": 3
   },
   "file_extension": ".py",
   "mimetype": "text/x-python",
   "name": "python",
   "nbconvert_exporter": "python",
   "pygments_lexer": "ipython3",
   "version": "3.9.12"
  }
 },
 "nbformat": 4,
 "nbformat_minor": 5
}
