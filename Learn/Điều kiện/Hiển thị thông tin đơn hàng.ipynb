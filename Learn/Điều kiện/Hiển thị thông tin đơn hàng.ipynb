{
 "cells": [
  {
   "cell_type": "code",
   "execution_count": 2,
   "id": "973c8d31",
   "metadata": {},
   "outputs": [
    {
     "name": "stdout",
     "output_type": "stream",
     "text": [
      "Hãy cho tui một số tiền: 169\n",
      "Tổng:  119\n"
     ]
    }
   ],
   "source": [
    "tien = int(input(\"Hãy cho tui một số tiền: \"))\n",
    "if tien >= 150:\n",
    "\tprint(\"Tổng: \", tien - 50)\n",
    "elif tien >= 100:\n",
    "\tprint(\"Tổng: \", tien - 25)\n",
    "elif tien >= 75:\n",
    "\tprint(\"Tổng: \", tien - 15)\n",
    "else:\n",
    "    print(\"Tổng: \", tien)"
   ]
  }
 ],
 "metadata": {
  "kernelspec": {
   "display_name": "Python 3 (ipykernel)",
   "language": "python",
   "name": "python3"
  },
  "language_info": {
   "codemirror_mode": {
    "name": "ipython",
    "version": 3
   },
   "file_extension": ".py",
   "mimetype": "text/x-python",
   "name": "python",
   "nbconvert_exporter": "python",
   "pygments_lexer": "ipython3",
   "version": "3.9.12"
  }
 },
 "nbformat": 4,
 "nbformat_minor": 5
}
