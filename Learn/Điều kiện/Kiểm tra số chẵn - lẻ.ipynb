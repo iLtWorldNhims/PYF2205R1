{
 "cells": [
  {
   "cell_type": "code",
   "execution_count": 5,
   "id": "a7b720db",
   "metadata": {},
   "outputs": [
    {
     "name": "stdout",
     "output_type": "stream",
     "text": [
      "Nhập dô một số đê: 69.96\n",
      "Đây không phải số tự nhiên!\n"
     ]
    }
   ],
   "source": [
    "a = input(\"Nhập dô một số đê: \")\n",
    "a = float(a)\n",
    "if a % 2 == 0:\n",
    "    print('Đây là số chẵn!')\n",
    "elif a % 2 == 1:\n",
    "    print('Đây là số lẻ!')\n",
    "else:\n",
    "    print('Đây không phải số tự nhiên!')"
   ]
  }
 ],
 "metadata": {
  "kernelspec": {
   "display_name": "Python 3 (ipykernel)",
   "language": "python",
   "name": "python3"
  },
  "language_info": {
   "codemirror_mode": {
    "name": "ipython",
    "version": 3
   },
   "file_extension": ".py",
   "mimetype": "text/x-python",
   "name": "python",
   "nbconvert_exporter": "python",
   "pygments_lexer": "ipython3",
   "version": "3.9.12"
  }
 },
 "nbformat": 4,
 "nbformat_minor": 5
}
