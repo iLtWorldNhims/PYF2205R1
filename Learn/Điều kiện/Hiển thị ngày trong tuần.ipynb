{
 "cells": [
  {
   "cell_type": "code",
   "execution_count": 10,
   "id": "05cc3268",
   "metadata": {},
   "outputs": [
    {
     "name": "stdout",
     "output_type": "stream",
     "text": [
      "Hãy cho tui một số từ 1 tới 7: 7\n",
      "Chủ nhật\n"
     ]
    }
   ],
   "source": [
    "so = int(input(\"Hãy cho tui một số từ 1 tới 7: \"))\n",
    "if so == 1:\n",
    "\tprint(\"Thứ 2\")\n",
    "elif so == 2:\n",
    "\tprint(\"Thứ 3\")\n",
    "elif so == 3:\n",
    "\tprint(\"Thứ tư\")\n",
    "elif so == 4:\n",
    "\tprint(\"Thứ 5\")\n",
    "elif so == 5:\n",
    "\tprint(\"Thứ 6\")\n",
    "elif so == 6:\n",
    "\tprint(\"Thứ 7\")\n",
    "elif so == 7:\n",
    "\tprint(\"Chủ nhật\")\n",
    "else:\n",
    "    print(\"Lỗi, ngoài phạm vi!\")"
   ]
  }
 ],
 "metadata": {
  "kernelspec": {
   "display_name": "Python 3 (ipykernel)",
   "language": "python",
   "name": "python3"
  },
  "language_info": {
   "codemirror_mode": {
    "name": "ipython",
    "version": 3
   },
   "file_extension": ".py",
   "mimetype": "text/x-python",
   "name": "python",
   "nbconvert_exporter": "python",
   "pygments_lexer": "ipython3",
   "version": "3.9.12"
  }
 },
 "nbformat": 4,
 "nbformat_minor": 5
}
