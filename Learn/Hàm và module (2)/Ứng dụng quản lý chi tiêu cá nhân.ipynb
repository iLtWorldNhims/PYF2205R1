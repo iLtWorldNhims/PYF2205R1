{
 "cells": [
  {
   "cell_type": "code",
   "execution_count": 23,
   "id": "c3b80692",
   "metadata": {},
   "outputs": [
    {
     "name": "stdout",
     "output_type": "stream",
     "text": [
      "Name: Carabao\n",
      "Your expenses: []\n",
      "What do you want to do? -\n",
      "1. Add\n",
      "2. Remove\n",
      "Select option 1 or 2: 1\n",
      "Item cost: 55000\n",
      "Date: 17/07/22\n",
      "Your expenses:  [{'name': 'Carabao', 'cost': 55000, 'date': '17/07/22'}]\n"
     ]
    }
   ],
   "source": [
    "def add_item(myTempList, item):    \n",
    "    myTempList.append(item)\n",
    "    \n",
    "def find_index_item(myTempList, item_name):\n",
    "    result = -1\n",
    "    length = len(myTempList)\n",
    "    for i in range(length):\n",
    "        if myTempList[i]['name'] == item_name:\n",
    "            result = i\n",
    "    return result\n",
    "\n",
    "def remove_item(myTempList, item_name):\n",
    "    if find_index_item(myTempList, item_name) > -1:\n",
    "        del myTempList[find_index_item(myTempList, item_name)]\n",
    "    else:\n",
    "        print(item_name + \" not in list\")\n",
    "        \n",
    "expenses = []\n",
    "\n",
    "name_input = input(\"Name: \")\n",
    "        \n",
    "print(\"Your expenses:\", expenses)\n",
    "\n",
    "print(\"What do you want to do? -\\n\"\\\n",
    "        \"1. Add\\n\" \\\n",
    "        \"2. Remove\")\n",
    "\n",
    "option = int(input(\"Select option 1 or 2: \"))\n",
    "\n",
    "if option == 1:\n",
    "    cost_input = int(input(\"Item cost: \"))\n",
    "    date_input = input(\"Date: \")\n",
    "    item = {'name': name_input, 'cost':cost_input, 'date':date_input}\n",
    "    add_item(expenses, item)\n",
    "    print(\"Your expenses: \", expenses)\n",
    "elif option == 2:\n",
    "    remove_item(expenses, name_input)\n",
    "    print(\"Your expenses: \", expenses)\n",
    "else:\n",
    "    print(\"Invalid input\")"
   ]
  },
  {
   "cell_type": "code",
   "execution_count": 33,
   "id": "d7436d87",
   "metadata": {},
   "outputs": [
    {
     "name": "stdout",
     "output_type": "stream",
     "text": [
      "Name: Lấy quạt sửa\n",
      "Your expenses: [{'name': 'Carabao', 'cost': 55000, 'date': '17/07/22'}, {'name': 'Phô mai con bò cười', 'cost': 35000, 'date': '17/07/22'}, {'name': 'Bánh hỏi', 'cost': 30000, 'date': '17/07/22'}, {'name': 'Saigon Silver', 'cost': 15000, 'date': '17/07/22'}, {'name': '3kg gạo 15k', 'cost': 45000, 'date': '17/07/22'}]\n",
      "What do you want to do? -\n",
      "1. Add\n",
      "2. Remove\n",
      "Select option 1 or 2: 1\n",
      "Item cost: 000000\n",
      "Date: 17/07/22\n",
      "Your expenses:  [{'name': 'Carabao', 'cost': 55000, 'date': '17/07/22'}, {'name': 'Phô mai con bò cười', 'cost': 35000, 'date': '17/07/22'}, {'name': 'Bánh hỏi', 'cost': 30000, 'date': '17/07/22'}, {'name': 'Saigon Silver', 'cost': 15000, 'date': '17/07/22'}, {'name': '3kg gạo 15k', 'cost': 45000, 'date': '17/07/22'}, {'name': 'Lấy quạt sửa', 'cost': 0, 'date': '17/07/22'}]\n"
     ]
    }
   ],
   "source": [
    "name_input = input(\"Name: \")\n",
    "        \n",
    "print(\"Your expenses:\", expenses)\n",
    "\n",
    "print(\"What do you want to do? -\\n\"\\\n",
    "        \"1. Add\\n\" \\\n",
    "        \"2. Remove\")\n",
    "\n",
    "option = int(input(\"Select option 1 or 2: \"))\n",
    "\n",
    "if option == 1:\n",
    "    cost_input = int(input(\"Item cost: \"))\n",
    "    date_input = input(\"Date: \")\n",
    "    item = {'name': name_input, 'cost':cost_input, 'date':date_input}\n",
    "    add_item(expenses, item)\n",
    "    print(\"Your expenses: \", expenses)\n",
    "elif option == 2:\n",
    "    remove_item(expenses, name_input)\n",
    "    print(\"Your expenses: \", expenses)\n",
    "else:\n",
    "    print(\"Invalid input\")"
   ]
  }
 ],
 "metadata": {
  "kernelspec": {
   "display_name": "Python 3 (ipykernel)",
   "language": "python",
   "name": "python3"
  },
  "language_info": {
   "codemirror_mode": {
    "name": "ipython",
    "version": 3
   },
   "file_extension": ".py",
   "mimetype": "text/x-python",
   "name": "python",
   "nbconvert_exporter": "python",
   "pygments_lexer": "ipython3",
   "version": "3.10.5"
  }
 },
 "nbformat": 4,
 "nbformat_minor": 5
}
