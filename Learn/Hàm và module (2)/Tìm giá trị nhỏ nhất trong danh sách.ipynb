{
 "cells": [
  {
   "cell_type": "code",
   "execution_count": 68,
   "id": "6b7815c5-ae54-492f-9436-e19cba243f85",
   "metadata": {},
   "outputs": [
    {
     "name": "stdout",
     "output_type": "stream",
     "text": [
      "Your list: [406, 613, 782, 440, 80, 354, 778, 200, 504, 167]\n",
      "Min number:  80\n"
     ]
    }
   ],
   "source": [
    "import random as r\n",
    "\n",
    "def get_min_number(numbers):\n",
    "    result = numbers[0]\n",
    "    \n",
    "    for num in numbers:\n",
    "        if result > num:\n",
    "            result = num\n",
    "\n",
    "    return result\n",
    "\n",
    "numbers = []\n",
    "\n",
    "for i in range(10):\n",
    "    numbers.append(r.randint(1, 1000))\n",
    "    \n",
    "print(\"Your list:\", numbers)\n",
    "\n",
    "min_number = get_min_number(numbers)\n",
    "\n",
    "print(\"Min number: \", min_number)"
   ]
  }
 ],
 "metadata": {
  "kernelspec": {
   "display_name": "Python 3 (ipykernel)",
   "language": "python",
   "name": "python3"
  },
  "language_info": {
   "codemirror_mode": {
    "name": "ipython",
    "version": 3
   },
   "file_extension": ".py",
   "mimetype": "text/x-python",
   "name": "python",
   "nbconvert_exporter": "python",
   "pygments_lexer": "ipython3",
   "version": "3.10.5"
  }
 },
 "nbformat": 4,
 "nbformat_minor": 5
}
