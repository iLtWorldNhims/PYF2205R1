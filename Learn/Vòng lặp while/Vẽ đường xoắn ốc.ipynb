{
 "cells": [
  {
   "cell_type": "code",
   "execution_count": null,
   "id": "ce5abb2d",
   "metadata": {},
   "outputs": [],
   "source": [
    "from turtle import *\n",
    "\n",
    "speed = 0\n",
    "\n",
    "d = 0.1\n",
    "\n",
    "while distance(0, 0) < 200:\n",
    "    \n",
    "    fd(d)\n",
    "    lt(10)\n",
    "    d += 0.1"
   ]
  },
  {
   "cell_type": "code",
   "execution_count": null,
   "id": "81090d6c",
   "metadata": {},
   "outputs": [],
   "source": []
  }
 ],
 "metadata": {
  "kernelspec": {
   "display_name": "Python 3 (ipykernel)",
   "language": "python",
   "name": "python3"
  },
  "language_info": {
   "codemirror_mode": {
    "name": "ipython",
    "version": 3
   },
   "file_extension": ".py",
   "mimetype": "text/x-python",
   "name": "python",
   "nbconvert_exporter": "python",
   "pygments_lexer": "ipython3",
   "version": "3.9.12"
  }
 },
 "nbformat": 4,
 "nbformat_minor": 5
}
