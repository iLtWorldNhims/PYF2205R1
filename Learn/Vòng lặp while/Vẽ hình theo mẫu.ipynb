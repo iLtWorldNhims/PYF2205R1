{
 "cells": [
  {
   "cell_type": "code",
   "execution_count": 1,
   "id": "f0f18e65",
   "metadata": {},
   "outputs": [],
   "source": [
    "from turtle import *\n",
    "speed(0)\n",
    "bgcolor('black')\n",
    "r = 100\n",
    "for i in range(6):\n",
    "    color('pink')\n",
    "    for i in range(2):\n",
    "        circle(r, 90)\n",
    "        circle(r/2, 90)\n",
    "    rt(10)\n",
    "    color('blue')\n",
    "    for i in range(2):\n",
    "        circle(r, 90)\n",
    "        circle(r/2, 90)\n",
    "    rt(10)\n",
    "    color('green')\n",
    "    for i in range(2):\n",
    "        circle(r, 90)\n",
    "        circle(r/2, 90)\n",
    "    rt(10)\n",
    "    color('yellow')\n",
    "    for i in range(2):\n",
    "        circle(r, 90)\n",
    "        circle(r/2, 90)\n",
    "    rt(10)\n",
    "    color('orange')\n",
    "    for i in range(2):\n",
    "        circle(r, 90)\n",
    "        circle(r/2, 90)\n",
    "    rt(10)\n",
    "    color('red')\n",
    "    for i in range(2):\n",
    "        circle(r, 90)\n",
    "        circle(r/2, 90)\n",
    "    rt(10)"
   ]
  },
  {
   "cell_type": "code",
   "execution_count": null,
   "id": "711e019e",
   "metadata": {},
   "outputs": [],
   "source": []
  }
 ],
 "metadata": {
  "kernelspec": {
   "display_name": "Python 3 (ipykernel)",
   "language": "python",
   "name": "python3"
  },
  "language_info": {
   "codemirror_mode": {
    "name": "ipython",
    "version": 3
   },
   "file_extension": ".py",
   "mimetype": "text/x-python",
   "name": "python",
   "nbconvert_exporter": "python",
   "pygments_lexer": "ipython3",
   "version": "3.9.12"
  }
 },
 "nbformat": 4,
 "nbformat_minor": 5
}
