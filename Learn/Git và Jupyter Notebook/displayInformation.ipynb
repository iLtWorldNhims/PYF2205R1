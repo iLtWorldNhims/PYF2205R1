{
 "cells": [
  {
   "cell_type": "code",
   "execution_count": 1,
   "id": "071ce60f",
   "metadata": {},
   "outputs": [
    {
     "name": "stdout",
     "output_type": "stream",
     "text": [
      "Họ và tên:  Phạm Phương Đào Ngọc\n",
      "Ngày sinh: 06/01/2002\n",
      "Địa chỉ: Chợ Chơn Thành, thị trấn Chơn Thành, tỉnh Bình Phước\n",
      "Mục đích đến với khoá học Python: Để được cấp chứng chỉ và giới thiệu việc làm. Để bắt đầu kiếm tiền với sở thích của mình và phát triển lên thành sự nghiệp bền vững và lâu dài.\n"
     ]
    }
   ],
   "source": [
    "print('Họ và tên:  Phạm Phương Đào Ngọc')\n",
    "print('Ngày sinh: 06/01/2002')\n",
    "print('Địa chỉ: Chợ Chơn Thành, thị trấn Chơn Thành, tỉnh Bình Phước')\n",
    "print('Mục đích đến với khoá học Python: Để được cấp chứng chỉ và giới thiệu việc làm. Để bắt đầu kiếm tiền với sở thích của mình và phát triển lên thành sự nghiệp bền vững và lâu dài.')\n"
   ]
  }
 ],
 "metadata": {
  "kernelspec": {
   "display_name": "Python 3 (ipykernel)",
   "language": "python",
   "name": "python3"
  },
  "language_info": {
   "codemirror_mode": {
    "name": "ipython",
    "version": 3
   },
   "file_extension": ".py",
   "mimetype": "text/x-python",
   "name": "python",
   "nbconvert_exporter": "python",
   "pygments_lexer": "ipython3",
   "version": "3.9.12"
  }
 },
 "nbformat": 4,
 "nbformat_minor": 5
}
