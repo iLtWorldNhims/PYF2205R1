{
 "cells": [
  {
   "cell_type": "code",
   "execution_count": 1,
   "id": "ccc7367d",
   "metadata": {},
   "outputs": [
    {
     "name": "stdout",
     "output_type": "stream",
     "text": [
      "Nhập vào số nguyên đầu tiên: 69\n",
      "Nhập vào số nguyên thứ hai: 169\n",
      "Fizz Buzz 71 Fizz 73 74 FizzBuzz 76 77 Fizz 79 Buzz Fizz 82 83 Fizz Buzz 86 Fizz 88 89 FizzBuzz 91 92 Fizz 94 Buzz Fizz 97 98 Fizz Buzz 101 Fizz 103 104 FizzBuzz 106 107 Fizz 109 Buzz Fizz 112 113 Fizz Buzz 116 Fizz 118 119 FizzBuzz 121 122 Fizz 124 Buzz Fizz 127 128 Fizz Buzz 131 Fizz 133 134 FizzBuzz 136 137 Fizz 139 Buzz Fizz 142 143 Fizz Buzz 146 Fizz 148 149 FizzBuzz 151 152 Fizz 154 Buzz Fizz 157 158 Fizz Buzz 161 Fizz 163 164 FizzBuzz 166 167 Fizz 169 "
     ]
    }
   ],
   "source": [
    "a = int(input(\"Nhập vào số nguyên đầu tiên: \"))\n",
    "b = int(input(\"Nhập vào số nguyên thứ hai: \"))\n",
    "\n",
    "for i in range(a, b + 1):\n",
    "\tif i % 3 == 0 and i % 5 == 0:\n",
    "\t\tprint(\"FizzBuzz\", end = \" \")\n",
    "\telif i % 5 == 0:\n",
    "\t\tprint(\"Buzz\", end = \" \")\n",
    "\telif i % 3 == 0:\n",
    "\t\tprint(\"Fizz\", end = \" \")\n",
    "\telse:\n",
    "\t\tprint(i, end = \" \")"
   ]
  }
 ],
 "metadata": {
  "kernelspec": {
   "display_name": "Python 3 (ipykernel)",
   "language": "python",
   "name": "python3"
  },
  "language_info": {
   "codemirror_mode": {
    "name": "ipython",
    "version": 3
   },
   "file_extension": ".py",
   "mimetype": "text/x-python",
   "name": "python",
   "nbconvert_exporter": "python",
   "pygments_lexer": "ipython3",
   "version": "3.9.12"
  }
 },
 "nbformat": 4,
 "nbformat_minor": 5
}
