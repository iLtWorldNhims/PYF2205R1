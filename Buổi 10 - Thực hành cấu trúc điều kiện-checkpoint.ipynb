{
 "cells": [
  {
   "cell_type": "markdown",
   "id": "dcdb816e",
   "metadata": {},
   "source": [
    "# Thực hành cấu trúc điều khiển\n",
    "\n",
    "### Bài 1\n",
    "\n",
    "Cho phương trình bậc 2: ax^2 + bx + c = 0\n",
    "\n",
    "Nhập a, b, c\n",
    "\n",
    "Giải và biện luận phương trình trên"
   ]
  },
  {
   "cell_type": "code",
   "execution_count": 9,
   "id": "b5a5c325",
   "metadata": {},
   "outputs": [
    {
     "name": "stdout",
     "output_type": "stream",
     "text": [
      "Nhập a: 1\n",
      "Nhập b: -6\n",
      "Nhập c: 8\n",
      "Phương trình trên có 2 nghiệm đó là:  4.0 và 2.0\n"
     ]
    }
   ],
   "source": [
    "a = float(input(\"Nhập a: \"))\n",
    "b = float(input(\"Nhập b: \"))\n",
    "c = float(input(\"Nhập c: \"))\n",
    "if a == 0:\n",
    "    if b == 0:\n",
    "        if c == 0:\n",
    "            print(\"Phương trình có vô số nghiệm!\")\n",
    "        else:\n",
    "            print(\"Phương trình vô nghiệm!\")\n",
    "else:\n",
    "    delta = b ** 2 - 4 * a * c\n",
    "    if delta < 0:\n",
    "        print(\"Phương trình vô nghiệm!\")\n",
    "    elif delta == 0:\n",
    "        x = -b / (2 * a)\n",
    "        print(\"Phương trình trên có 1 nghiệm duy nhất đó là: \", x)\n",
    "    else:\n",
    "        x1 = (-b + delta ** 0.5 ) / (2 * a)\n",
    "        x2 = (-b - delta ** 0.5) / (2 * a)\n",
    "        print(\"Phương trình trên có 2 nghiệm đó là: \", x1, \"và\", x2)"
   ]
  },
  {
   "cell_type": "markdown",
   "id": "6f7d329d",
   "metadata": {},
   "source": [
    "### Bài 2\n",
    "\n",
    "Hãy nhập vào một số\n",
    "\n",
    "Xác định coi đó có phải là số nguyên tố hay không"
   ]
  },
  {
   "cell_type": "code",
   "execution_count": null,
   "id": "049c85f5",
   "metadata": {},
   "outputs": [],
   "source": []
  },
  {
   "cell_type": "markdown",
   "id": "75f7717b",
   "metadata": {},
   "source": [
    "### Bài 3\n",
    "\n",
    "Hãy nhập vào số n\n",
    "\n",
    "Hãy đếm số chữ số 0 tận cùng của n giai thừa\n",
    "\n",
    "(Bài này nâng cao, mọi người có thể bỏ qua)"
   ]
  },
  {
   "cell_type": "code",
   "execution_count": null,
   "id": "789e0e76",
   "metadata": {},
   "outputs": [],
   "source": []
  },
  {
   "cell_type": "markdown",
   "id": "29cd6c81",
   "metadata": {},
   "source": [
    "### Bài 4\n",
    "\n",
    "In ra tất cả các số chia hết cho 3 nhỏ hơn 100"
   ]
  },
  {
   "cell_type": "code",
   "execution_count": 10,
   "id": "0b848981",
   "metadata": {},
   "outputs": [
    {
     "name": "stdout",
     "output_type": "stream",
     "text": [
      "0\n",
      "3\n",
      "6\n",
      "9\n",
      "12\n",
      "15\n",
      "18\n",
      "21\n",
      "24\n",
      "27\n",
      "30\n",
      "33\n",
      "36\n",
      "39\n",
      "42\n",
      "45\n",
      "48\n",
      "51\n",
      "54\n",
      "57\n",
      "60\n",
      "63\n",
      "66\n",
      "69\n",
      "72\n",
      "75\n",
      "78\n",
      "81\n",
      "84\n",
      "87\n",
      "90\n",
      "93\n",
      "96\n",
      "99\n"
     ]
    }
   ],
   "source": [
    "k = 0\n",
    "for i in range(100):\n",
    "    if k % 3 == 0:\n",
    "        print(k)\n",
    "    k += 1   "
   ]
  },
  {
   "cell_type": "markdown",
   "id": "04dbf99b",
   "metadata": {},
   "source": [
    "### Bài 5\n",
    "\n",
    "In ra tất cả các số lẻ nhưng không chia hết cho 3 nhỏ hơn 100"
   ]
  },
  {
   "cell_type": "code",
   "execution_count": 2,
   "id": "769eb439",
   "metadata": {},
   "outputs": [
    {
     "name": "stdout",
     "output_type": "stream",
     "text": [
      "1\n",
      "5\n",
      "7\n",
      "11\n",
      "13\n",
      "17\n",
      "19\n",
      "23\n",
      "25\n",
      "29\n",
      "31\n",
      "35\n",
      "37\n",
      "41\n",
      "43\n",
      "47\n",
      "49\n",
      "53\n",
      "55\n",
      "59\n",
      "61\n",
      "65\n",
      "67\n",
      "71\n",
      "73\n",
      "77\n",
      "79\n",
      "83\n",
      "85\n",
      "89\n",
      "91\n",
      "95\n",
      "97\n"
     ]
    }
   ],
   "source": [
    "n = 0\n",
    "for i in range(100):\n",
    "    if n % 3 != 0 and n % 2 != 0:\n",
    "        print(n)\n",
    "    n += 1"
   ]
  },
  {
   "cell_type": "markdown",
   "id": "26dd47fb",
   "metadata": {},
   "source": [
    "### Bài 5\n",
    "\n",
    "Tại một cửa hàng nọ có menu như sau:\n",
    "\n",
    "1. Gà rán giá 35k\n",
    "2. Hamburger giá 50k\n",
    "3. Pesi giá 10k\n",
    "\n",
    "Nhập số lượng món hàng cần mua\n",
    "\n",
    "Tính và in ra tổng giá tiền (hiển thị có dấu chấm mỗi 3 chữ số để người dùng để quan sát)\n",
    "\n",
    "Nếu giá trị đơn hàng trên 2 triệu, giảm 10% cho khách, trên 4 triệu, giảm 15%\n",
    "\n",
    "Tính và in ra tổng giá tiền được giảm (hiển thị có dấu chấm mỗi 3 chữ số để người dùng để quan sát)\n",
    "\n",
    "Tính và in ra tổng giá tiền khách cần trả (hiển thị có dấu chấm mỗi 3 chữ số để người dùng để quan sát)\n",
    "\n",
    "In ra dòng chữ \"Cảm ơn quý khách đã mua hàng\""
   ]
  },
  {
   "cell_type": "code",
   "execution_count": 7,
   "id": "8509df1e",
   "metadata": {},
   "outputs": [
    {
     "name": "stdout",
     "output_type": "stream",
     "text": [
      "Mời quý khách nhập số lượng gà rán cần mua: 2\n",
      "Mời quý khách nhập số lượng hamburger cần mua: 3\n",
      "Mời quý khách nhập số lượng pepsi cần mua: 5\n",
      "Tổng số tiền trước khi giảm giá của quý khách là: 270k\n",
      "Tổng số tiền quý khách được giảm là: 0k\n",
      "Tổng số tiền quý khách cần phải trả là: 270k\n",
      "Cảm ơn quý khách đã mua hàng và sử dụng dịch vụ của chúng tôi! Hẹn gặp lại quý khách.\n"
     ]
    }
   ],
   "source": [
    "print(\"Gà rán giá 35k\")\n",
    "print(\"Hamburger giá 50k\")\n",
    "print(\"Gà rán giá 35k\")\n",
    "\n",
    "a = int(input(\"Mời quý khách nhập số lượng gà rán cần mua: \"))\n",
    "b = int(input(\"Mời quý khách nhập số lượng hamburger cần mua: \"))\n",
    "c = int(input(\"Mời quý khách nhập số lượng pepsi cần mua: \"))\n",
    "\n",
    "ga_ran = 35 * a\n",
    "hamburger = 50 * b\n",
    "pepsi = 10 * c\n",
    "\n",
    "tong_tien = ga_ran + hamburger + pepsi\n",
    "\n",
    "print(\"Tổng số tiền trước khi giảm giá của quý khách là:\", str(tong_tien) + \"k\")\n",
    "\n",
    "if tong_tien > 2000:\n",
    "    sau_giam *= 0.9\n",
    "elif tong_tien > 4000:\n",
    "    sau_giam *= 0.85\n",
    "else:\n",
    "    sau_giam = tong_tien\n",
    "    \n",
    "giam = tong_tien - sau_giam\n",
    "\n",
    "print(\"Tổng số tiền quý khách được giảm là:\", str(giam) + \"k\")\n",
    "\n",
    "print(\"Tổng số tiền quý khách cần phải trả là:\", str(tong_tien) + \"k\")\n",
    "\n",
    "print(\"Cảm ơn quý khách đã mua hàng và sử dụng dịch vụ của chúng tôi! Hẹn gặp lại quý khách.\")\n",
    "\n",
    "\n",
    "\n"
   ]
  },
  {
   "cell_type": "markdown",
   "id": "ab10a1ce",
   "metadata": {},
   "source": [
    "### Bài 6\n",
    "\n",
    "Nhập vào chiều cao (cm) và cân nặng (kg), tính số BMI và xét rồi xin kết quả theo dữ liệu sau:\n",
    "\n",
    "- BMI < 16: Gầy cấp độ III\n",
    "- 16 <= BMI < 17:  Gầy cấp độ II\n",
    "- 17<= BMI < 18.5: Gầy cấp độ I\n",
    "- 18.5 <= BMI < 25: Bình thường\n",
    "- 25 <= BMI < 30: Thừa cân\n",
    "- 30 <= BMI < 35 : Béo phì cấp độ I\n",
    "- 35 <= BMI < 40: Béo phì cấp độ II\n",
    "- BMI > 40: Béo phì cấp độ III"
   ]
  },
  {
   "cell_type": "code",
   "execution_count": null,
   "id": "1058f441",
   "metadata": {},
   "outputs": [],
   "source": []
  },
  {
   "cell_type": "markdown",
   "id": "f7620342",
   "metadata": {},
   "source": [
    "### Bài 7\n",
    "\n",
    "Nhập ngày, tháng, năm. Hãy tính và in ra màn hình kể từ đầu năm đến ngày vừa nhập là bao nhiêu ngày."
   ]
  },
  {
   "cell_type": "code",
   "execution_count": null,
   "id": "4c57f0a5",
   "metadata": {},
   "outputs": [],
   "source": []
  }
 ],
 "metadata": {
  "kernelspec": {
   "display_name": "Python 3 (ipykernel)",
   "language": "python",
   "name": "python3"
  },
  "language_info": {
   "codemirror_mode": {
    "name": "ipython",
    "version": 3
   },
   "file_extension": ".py",
   "mimetype": "text/x-python",
   "name": "python",
   "nbconvert_exporter": "python",
   "pygments_lexer": "ipython3",
   "version": "3.9.12"
  }
 },
 "nbformat": 4,
 "nbformat_minor": 5
}
