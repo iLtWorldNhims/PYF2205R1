{
 "cells": [
  {
   "cell_type": "markdown",
   "id": "f13965b3",
   "metadata": {
    "jp-MarkdownHeadingCollapsed": true,
    "tags": []
   },
   "source": [
    "### Bài 1\n",
    "\n",
    "Viết hàm `tientaxi` tính tiền taxi với tham số đầu vào là số km đi được và trả về số tiền\n",
    "\n",
    "- 1km đầu là 15000.\n",
    "- Từ km thứ 2 đến km thứ 10 là 14000.\n",
    "- Từ km thứ 11 đến km thứ 20 là 12500.\n",
    "- Từ km thứ 21 đến km thứ 30 là 11000.\n",
    "- Trên 30km thì mỗi km tăng thêm là 9000."
   ]
  },
  {
   "cell_type": "code",
   "execution_count": 1,
   "id": "84b992c7",
   "metadata": {},
   "outputs": [
    {
     "name": "stdout",
     "output_type": "stream",
     "text": [
      "Nhập số km: 7\n",
      "99000\n"
     ]
    }
   ],
   "source": [
    "def tientaxi():\n",
    "    km = int(input(\"Nhập số km: \"))\n",
    "    \n",
    "    if km <= 1:\n",
    "        return 15000\n",
    "    if km <= 10:\n",
    "        return 15000 + (km - 1) * 14000\n",
    "    if km <= 20:\n",
    "        return 15000 + 14000 * 9 + (km - 10) * 12500\n",
    "    if km <= 30:\n",
    "        return 15000 + 14000 * 9 + 10 * 12500 + (km - 20) * 11000\n",
    "    return 15000 + 14000 * 9 + 10 * 12500 + 10 * 11000 + (km - 30) * 9000\n",
    "\n",
    "print(tientaxi())"
   ]
  },
  {
   "cell_type": "markdown",
   "id": "7c40ebdb",
   "metadata": {
    "tags": []
   },
   "source": [
    "### Bài 2\n",
    "\n",
    "Một hãng cung cấp dịch vụ điện thoại khuyến khích người dùng đăng ký số thuê bao mới bằng cách, khi người dùng đến đăng ký thuê báo sẽ được tặng 2 số may mắn n và k, hãng sẽ khuyến mãi cho người đó số tiền vào tài khoản từ số n sau khi xóa k chữ số\n",
    "\n",
    "Hãy viết hàm `tienkm` cho vào n và k, trả về số lớn nhất có thể sau khi xóa k chữ số trong n"
   ]
  },
  {
   "cell_type": "code",
<<<<<<< HEAD
<<<<<<< HEAD
   "execution_count": 12,
=======
   "execution_count": 3,
>>>>>>> 0616256dd0a5de577263df95c0c02e466a82ca28
=======
   "execution_count": 3,
>>>>>>> 0616256dd0a5de577263df95c0c02e466a82ca28
   "id": "b8b6af8f",
   "metadata": {},
   "outputs": [
    {
     "name": "stdout",
     "output_type": "stream",
     "text": [
<<<<<<< HEAD
<<<<<<< HEAD
      "785\n"
=======
      "6592\n"
>>>>>>> 0616256dd0a5de577263df95c0c02e466a82ca28
=======
      "6592\n"
>>>>>>> 0616256dd0a5de577263df95c0c02e466a82ca28
     ]
    }
   ],
   "source": [
<<<<<<< HEAD
<<<<<<< HEAD
    "n = 724585\n",
    "k = 2\n",
    "\n",
    "def xoachuoi(s, i):\n",
    "    return s[:i] + s[i + 1:]\n",
    "\n",
    "def tienkm(n, k):\n",
    "    n = str(n)\n",
    "    for i in range(k):\n",
    "        for j in range(0, len(n) - 1):\n",
    "            if n[j] < n[j + 1]:\n",
    "                n = xoachuoi(n, j)\n",
    "                break\n",
    "    return n\n",
    "                \n",
    "print(tienkm(n, 3))"
=======
=======
>>>>>>> 0616256dd0a5de577263df95c0c02e466a82ca28
    "n = 3645492 ## xóa k chữ số sao cho ra số mới lớn nhất\n",
    "k = 2\n",
    "\n",
    "def xoachuoi(s,i):\n",
    "    return s[:i] + s[i+1:]\n",
    "\n",
    "## so sánh 2 số kế nhau, nếu số đằng trước nhỏ hơn số đằng sau thì xóa số đằng trước\n",
    "def tienkm(n,k):\n",
    "    n = str(n)\n",
    "    for i in range(k):\n",
    "        for j in range(0,len(n)-1):\n",
    "            if n[j] < n[j+1]:\n",
    "                n = xoachuoi(n,j)\n",
    "                k -= 1\n",
    "                break\n",
    "    if k > 0:\n",
    "        n = n[:-k]\n",
    "    return n\n",
    "        \n",
    "print(tienkm(n,3))"
<<<<<<< HEAD
>>>>>>> 0616256dd0a5de577263df95c0c02e466a82ca28
=======
>>>>>>> 0616256dd0a5de577263df95c0c02e466a82ca28
   ]
  },
  {
   "cell_type": "code",
<<<<<<< HEAD
<<<<<<< HEAD
   "execution_count": 15,
   "id": "f2ccf50e-deea-4ba4-bcdd-bc5974773ff5",
=======
   "execution_count": 7,
   "id": "131e95b5",
>>>>>>> 0616256dd0a5de577263df95c0c02e466a82ca28
=======
   "execution_count": 7,
   "id": "131e95b5",
>>>>>>> 0616256dd0a5de577263df95c0c02e466a82ca28
   "metadata": {},
   "outputs": [
    {
     "name": "stdout",
     "output_type": "stream",
     "text": [
<<<<<<< HEAD
<<<<<<< HEAD
      "785\n"
=======
      "6962\n"
>>>>>>> 0616256dd0a5de577263df95c0c02e466a82ca28
=======
      "6962\n"
>>>>>>> 0616256dd0a5de577263df95c0c02e466a82ca28
     ]
    }
   ],
   "source": [
<<<<<<< HEAD
<<<<<<< HEAD
    "n = 724585\n",
    "k = 2\n",
    "\n",
    "def xoachuoi(s, i):\n",
    "    return s[:i] + s[i + 1:]\n",
    "\n",
    "def tienkm(n, k):\n",
    "    n = str(n)\n",
    "    j = 0\n",
    "    while True:\n",
    "        if n[j] < n[j + 1]:\n",
    "            n = xoachuoi(n, j)\n",
=======
=======
>>>>>>> 0616256dd0a5de577263df95c0c02e466a82ca28
    "n = 6458962 ## xóa k chữ số sao cho ra số mới lớn nhất\n",
    "k = 2\n",
    "\n",
    "def xoachuoi(s,i):\n",
    "    return s[:i] + s[i+1:]\n",
    "\n",
    "## so sánh 2 số kế nhau, nếu số đằng trước nhỏ hơn số đằng sau thì xóa số đằng trước\n",
    "def tienkm(n,k):\n",
    "    n = str(n)\n",
    "    j = 0\n",
    "    while True:\n",
    "        if n[j] < n[j+1]:\n",
    "            n = xoachuoi(n,j)\n",
<<<<<<< HEAD
>>>>>>> 0616256dd0a5de577263df95c0c02e466a82ca28
=======
>>>>>>> 0616256dd0a5de577263df95c0c02e466a82ca28
    "            k -= 1\n",
    "            if k == 0:\n",
    "                break\n",
    "        else:\n",
    "            j += 1\n",
    "            if j >= len(n) - 1:\n",
    "                break\n",
    "    if k > 0:\n",
    "        n = n[:-k]\n",
    "    return n\n",
<<<<<<< HEAD
<<<<<<< HEAD
    "                \n",
    "print(tienkm(n, 3))"
   ]
  },
  {
   "cell_type": "code",
   "execution_count": 3,
   "id": "e9bb1ea6-32f7-455f-b645-696a0b275c46",
   "metadata": {},
   "outputs": [
    {
     "name": "stdout",
     "output_type": "stream",
     "text": [
      "75123\n"
     ]
    }
   ],
   "source": [
    "s = \"758123\"\n",
    "def xoachuoi(s,i):\n",
    "    s = s[:i] + s[i+1:]\n",
    "    return s\n",
    "s = xoachuoi(s,2)\n",
    "print(s)"
=======
    "        \n",
    "print(tienkm(n,3))"
>>>>>>> 0616256dd0a5de577263df95c0c02e466a82ca28
=======
    "        \n",
    "print(tienkm(n,3))"
>>>>>>> 0616256dd0a5de577263df95c0c02e466a82ca28
   ]
  },
  {
   "cell_type": "markdown",
   "id": "4c877020",
   "metadata": {
    "jp-MarkdownHeadingCollapsed": true,
    "tags": []
   },
   "source": [
    "\n",
    "### Bài 3\n",
    "\n",
    "Cấp số cộng là một dãy số mà kể từ số hạng thứ hai trở đi thì mỗi số hạng hơn số hạng liền trước của nó k đơn vị\n",
    "\n",
    "Ví dụ:\n",
    "- 2, 4, 6, 8, 10,.. là một cấp số cộng với k là 2\n",
    "- 3, 6, 9, 12,... là một cấp số cộng với k là 3\n",
    "\n",
    "Tí đã viết được 4 số là 1 cấp số cộng nhưng Tèo lại xóa đi mất 1 số\n",
    "\n",
    "Bạn hãy viết hàm `timcsc` cho vào 3 số hạng là 3 số còn lại của cấp số cộng, trả về số bị thiếu (trong trường hợp có 2 đáp án, trả về đáp án lớn nhất)\n",
    "\n",
    "Ví dụ:\n",
    "\n",
    "- timcsc(4,6,8) kết quả là 10\n",
    "- timcsc(10,1,4) kết quả là 7"
   ]
  },
  {
   "cell_type": "code",
   "execution_count": 10,
   "id": "6e1fcaf0",
   "metadata": {},
   "outputs": [
    {
     "name": "stdin",
     "output_type": "stream",
     "text": [
      "Nhập a:  0\n",
      "Nhập b:  10\n",
      "Nhập c:  15\n"
     ]
    },
    {
     "name": "stdout",
     "output_type": "stream",
     "text": [
      "5\n"
     ]
    }
   ],
   "source": [
    "def timcsc():\n",
    "    a = int(input(\"Nhập a: \"))\n",
    "    b = int(input(\"Nhập b: \"))\n",
    "    c = int(input(\"Nhập c: \"))\n",
    "    \n",
    "    if a > b:\n",
    "        a, b = b, a\n",
    "    if a > c:\n",
    "        a, c = c, a\n",
    "    if b > c:\n",
    "        b, c = c, b\n",
    "        \n",
    "    k1 = b - a\n",
    "    k2 = c - b\n",
    "    \n",
    "    if k1 == k2 * 2:\n",
    "        return a + k2\n",
    "    elif k2 == k1 * 2:\n",
    "        return b + k1\n",
    "    elif k1 == k2:\n",
    "        return c + k1\n",
    "    \n",
    "    return None\n",
    "    \n",
    "print(timcsc())"
   ]
  }
 ],
 "metadata": {
  "kernelspec": {
   "display_name": "Python 3 (ipykernel)",
   "language": "python",
   "name": "python3"
  },
  "language_info": {
   "codemirror_mode": {
    "name": "ipython",
    "version": 3
   },
   "file_extension": ".py",
   "mimetype": "text/x-python",
   "name": "python",
   "nbconvert_exporter": "python",
   "pygments_lexer": "ipython3",
   "version": "3.9.12"
  }
 },
 "nbformat": 4,
 "nbformat_minor": 5
}
