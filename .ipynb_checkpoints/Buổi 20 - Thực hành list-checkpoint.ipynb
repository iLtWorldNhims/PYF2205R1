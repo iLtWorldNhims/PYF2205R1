{
 "cells": [
  {
   "cell_type": "markdown",
   "id": "011431b9",
   "metadata": {},
   "source": [
    "# Thực hành List\n",
    "\n",
    "##### Chú ý: list một dãy số người ta còn gọi là một mảng\n",
    "\n",
    "### Bài 1"
   ]
  },
  {
   "cell_type": "markdown",
   "id": "61a90628",
   "metadata": {},
   "source": [
    "Viết hàm với đầu vào là một mảng, hãy tính và trả về giá trị trung bình của mảng"
   ]
  },
  {
   "cell_type": "code",
   "execution_count": 11,
   "id": "bcc197d5",
   "metadata": {},
   "outputs": [
    {
     "name": "stdout",
     "output_type": "stream",
     "text": [
      "[-65, 98, -57, -1, 91, -6]\n",
      "10.0\n"
     ]
    }
   ],
   "source": [
    "import random as r\n",
    "\n",
    "def mean(L):\n",
    "    sum = 0\n",
    "    for i in L:\n",
    "        sum += i\n",
    "    mean = sum / len(L)\n",
    "    return mean\n",
    "\n",
    "L = []\n",
    "\n",
    "for i in range(r.randint(1, 10)):\n",
    "    L.append(r.randint(-100, 100))\n",
    "    \n",
    "print(L)\n",
    "    \n",
    "print(mean(L))"
   ]
  },
  {
   "cell_type": "markdown",
   "id": "30d26c1b",
   "metadata": {},
   "source": [
    "### Bài 2"
   ]
  },
  {
   "cell_type": "markdown",
   "id": "674ef26c",
   "metadata": {},
   "source": [
    "Viết hàm với đầu vào là một mảng, hãy tìm và trả về giá trị âm lớn nhất trong mảng"
   ]
  },
  {
   "cell_type": "code",
   "execution_count": 34,
   "id": "1a9cb505",
   "metadata": {},
   "outputs": [
    {
     "name": "stdout",
     "output_type": "stream",
     "text": [
      "[94, -45, -95, -76, 93, -78, 73, -63]\n",
      "-45\n"
     ]
    }
   ],
   "source": [
    "def nega_max(L):\n",
    "    max = 0\n",
    "    \n",
    "    for i in L:\n",
    "        if i < 0:\n",
    "            if max == 0 or max < i:\n",
    "                max = i\n",
    "    if max >= 0:\n",
    "        return None\n",
    "    \n",
    "    return max\n",
    "\n",
    "L = []\n",
    "\n",
    "for i in range(r.randint(1, 10)):\n",
    "    L.append(r.randint(-100, 100))\n",
    "    \n",
    "print(L)\n",
    "    \n",
    "print(nega_max(L))"
   ]
  },
  {
   "cell_type": "markdown",
   "id": "95cfaa74",
   "metadata": {},
   "source": [
    "### Bài 3"
   ]
  },
  {
   "cell_type": "markdown",
   "id": "5361a4b8",
   "metadata": {},
   "source": [
    "Viết hàm với giá trị đầu vào là một mảng, hãy sắp xếp và trả về mảng có độ lớn tăng dần"
   ]
  },
  {
   "cell_type": "code",
   "execution_count": 43,
   "id": "91ad4d5d",
   "metadata": {},
   "outputs": [
    {
     "name": "stdout",
     "output_type": "stream",
     "text": [
      "[-91, -53, 65, 5, 75]\n",
      "[-91, -53, 5, 65, 75]\n"
     ]
    }
   ],
   "source": [
    "def arrange(L):\n",
    "    for i in range(len(L) - 1):\n",
    "        for k in range(i+1, len(L)):\n",
    "            if L[i] > L[k]:\n",
    "                L[i], L[k] = L[k], L[i]\n",
    "    return L\n",
    "\n",
    "L = []\n",
    "\n",
    "for i in range(r.randint(1, 10)):\n",
    "    L.append(r.randint(-100, 100))\n",
    "    \n",
    "print(L)\n",
    "\n",
    "print(arrange(L))"
   ]
  },
  {
   "cell_type": "markdown",
   "id": "025cc0cb",
   "metadata": {},
   "source": [
    "### Bài 4"
   ]
  },
  {
   "cell_type": "markdown",
   "id": "dbf885a9",
   "metadata": {},
   "source": [
    "Viết hàm với giá trị đầu vào là một mảng, tìm x sao cho đoạn [-x,x] chứa tất cả các giá trị có trong mảng"
   ]
  },
  {
   "cell_type": "code",
   "execution_count": 48,
   "id": "84606ea2",
   "metadata": {},
   "outputs": [
    {
     "name": "stdout",
     "output_type": "stream",
     "text": [
      "[14, 92, -48, 2, 43, -54, 7]\n",
      "(-92, 92)\n"
     ]
    }
   ],
   "source": [
    "def contain():\n",
    "    mi = L[0]\n",
    "    ma = L[0]\n",
    "    \n",
    "    for i in L:\n",
    "        if mi > i:\n",
    "            mi = i\n",
    "        if ma < i:\n",
    "            ma = i\n",
    "            \n",
    "    if abs(ma) < abs(mi):\n",
    "        ma = -mi\n",
    "    else:\n",
    "        mi = -ma\n",
    "        \n",
    "    return mi, ma\n",
    "\n",
    "L = []\n",
    "\n",
    "for i in range(r.randint(1, 10)):\n",
    "    L.append(r.randint(-100, 100))\n",
    "    \n",
    "print(L)\n",
    "\n",
    "print(contain())"
   ]
  },
  {
   "cell_type": "markdown",
   "id": "98aa10b5",
   "metadata": {},
   "source": [
    "### Bài 5"
   ]
  },
  {
   "cell_type": "markdown",
   "id": "a7fe3092",
   "metadata": {},
   "source": [
    "Viết hàm với giá trị đầu vào là một mảng, Hãy tìm một vị trí trong mảng thỏa hai điền kiện: có hai giá trị lân cận và giá trị tại vị trí đó bằng tích hai giá trị lân cận. Nếu mảng không tồn tại giá trị như vậy thì hàm trả về giá trị - 1"
   ]
  },
  {
   "cell_type": "code",
   "execution_count": 139,
   "id": "9d55cb01",
   "metadata": {},
   "outputs": [
    {
     "name": "stdout",
     "output_type": "stream",
     "text": [
      "[201, 27, -410, -160, -923, -924, 542, 359]\n",
      "-1\n"
     ]
    }
   ],
   "source": [
    "def find_i(L):\n",
    "    for i in range(1, len(L) - 1):\n",
    "        if L[i] == L[i-1] * L[i+1]:\n",
    "            return i\n",
    "    return -1\n",
    "\n",
    "L = []\n",
    "\n",
    "for i in range(r.randint(1, 10)):\n",
    "    L.append(r.randint(-1000, 1000))\n",
    "    \n",
    "print(L)\n",
    "    \n",
    "print(find_i(L))"
   ]
  },
  {
   "cell_type": "markdown",
   "id": "035325d7",
   "metadata": {},
   "source": [
    "### Bài 6"
   ]
  },
  {
   "cell_type": "markdown",
   "id": "e2d35127",
   "metadata": {},
   "source": [
    "Viết hàm có giá trị đầu vào là một mảng. Hãy tìm giá trị đầu tiên trong mảng một chiều các số nguyên có chữ sốđầu tiên là chữ số lẻ. Nếu trong mảng không tồn tại giá trị như vậy thì hàm sẽ trả về giá trị 0."
   ]
  },
  {
   "cell_type": "code",
   "execution_count": 44,
   "id": "b8a8b8a2",
   "metadata": {},
   "outputs": [
    {
     "name": "stdout",
     "output_type": "stream",
     "text": [
      "[-29, 28, 26, 28, -61, -72, -65, -79]\n",
      "-72\n"
     ]
    }
   ],
   "source": [
    "import random as r\n",
    "\n",
    "def find_i(L):\n",
    "    for i in range(len(L)):\n",
    "        if L[i] >= 0:\n",
    "            if int(str(L[i])[0]) % 2 != 0:\n",
    "                return L[i]\n",
    "        else:\n",
    "            if int(str(L[i])[1]) % 2 != 0:\n",
    "                return L[i]\n",
    "    return 0\n",
    "\n",
    "L = []\n",
    "\n",
    "for i in range(r.randint(1, 10)):\n",
    "    L.append(r.randint(-100, 100))\n",
    "    \n",
    "print(L)\n",
    "    \n",
    "print(find_i(L))"
   ]
  },
  {
   "cell_type": "markdown",
   "id": "da270d1a",
   "metadata": {},
   "source": [
    "### Bài 7"
   ]
  },
  {
   "cell_type": "markdown",
   "id": "079fdafe",
   "metadata": {},
   "source": [
    "Viết hàm có giá trị đầu vào là một mảng. Hãy tìm giá trị đầu tiên trong mảng có dạng 2^k. Nếu mảng không tồn tại giá trị dạng 2^k thì hàm sẽ trả về giá trị 0."
   ]
  },
  {
   "cell_type": "code",
   "execution_count": 64,
   "id": "f9311f33",
   "metadata": {},
   "outputs": [
    {
     "name": "stdout",
     "output_type": "stream",
     "text": [
      "[24, 14, 3, 32]\n",
      "32\n"
     ]
    }
   ],
   "source": [
    "def find_i(L):\n",
    "    for i in L:\n",
    "        k = i\n",
    "        while k > 2:\n",
    "            k /= 2\n",
    "        if k == 2:\n",
    "            return i\n",
    "    return 0\n",
    "\n",
    "L = []\n",
    "\n",
    "for i in range(r.randint(1, 10)):\n",
    "    L.append(r.randint(0, 100))\n",
    "    \n",
    "print(L)\n",
    "    \n",
    "print(find_i(L))"
   ]
  },
  {
   "cell_type": "markdown",
   "id": "80c8ab17",
   "metadata": {},
   "source": [
    "### Bài 8"
   ]
  },
  {
   "cell_type": "markdown",
   "id": "47c3a2e2",
   "metadata": {},
   "source": [
    "Viết hàm có giá trị đầu vào là một mảng. Hãy tìm giá trị thỏa điều kiện toàn chữ số lẻ và là giá trị lớn nhất thỏa điều kiện ấy trong mảng (nếu mảng không có giá trị thỏa điều kiện trên thì hàm trả về giá trị 0)"
   ]
  },
  {
   "cell_type": "code",
   "execution_count": 133,
   "id": "f8740d98",
   "metadata": {},
   "outputs": [
    {
     "name": "stdout",
     "output_type": "stream",
     "text": [
      "[65, 40, 37, 97, 74, 42, 28, 73]\n",
      "97\n"
     ]
    }
   ],
   "source": [
    "def find_i(L):\n",
    "    odd_string = \"\"\n",
    "    odd_digits_numbers = []\n",
    "\n",
    "    for i in L:\n",
    "        for k in str(i):\n",
    "            if int(k) % 2 != 0:\n",
    "                odd_string += k\n",
    "            else:\n",
    "                break\n",
    "        \n",
    "        if odd_string == \"\" or int(odd_string) != i:\n",
    "            odd_string = 0\n",
    "        \n",
    "        odd_digits_numbers.append(int(odd_string))\n",
    "        \n",
    "        odd_string = \"\"\n",
    "        \n",
    "    maximum = 0\n",
    "    \n",
    "    for i in odd_digits_numbers:        \n",
    "        if maximum < i:\n",
    "            maximum = i\n",
    "    \n",
    "    return maximum\n",
    "\n",
    "L = []\n",
    "\n",
    "for i in range(r.randint(1, 10)):\n",
    "    L.append(r.randint(0, 100))\n",
    "    \n",
    "print(L)\n",
    "    \n",
    "print(find_i(L))"
   ]
  },
  {
   "cell_type": "markdown",
   "id": "8a09bf26",
   "metadata": {},
   "source": [
    "### Bài 9"
   ]
  },
  {
   "cell_type": "markdown",
   "id": "09f9a4c6",
   "metadata": {},
   "source": [
    "Trong kỳ thi học sinh giỏi môn Tin học, một học sinh là người đạt giải đặc biệt. Ban tổ chức cho phép học sinh đó chọn các phần thưởng cho mình.\n",
    "\n",
    "Các phần thưởng xếp thành một dãy được đánh số từ 1 đến N (0 ≤ N ≤ 10000), phần thưởng thứ i có giá trị là Ai (1 ≤ Ai ≤ 100).\n",
    "\n",
    "Học sinh được phép chọn các phần thưởng cho mình theo nguyên tắc không chọn 3 phần thưởng liên tiếp nhau trong dãy.\n",
    "\n",
    "Viết chương trình để máy tính hướng dẫn học sinh đó chọn các phần thưởng sao cho tổng giá trị của các phần thưởng nhận được là lớn nhất.\n",
    "\n",
    "Nhập vào N, sau đó nhập n lần các giá trị Ai\n",
    "\n",
    "In ra giá trị lớn nhất học sinh được chọn, và các vị trí mà học sinh cần chọn để đạt được giá trị lớn nhất"
   ]
  },
  {
   "cell_type": "code",
   "execution_count": 69,
   "id": "c350a1e9",
   "metadata": {},
   "outputs": [
    {
     "name": "stdout",
     "output_type": "stream",
     "text": [
      "[93, 18, 80, 50, 59, 56, 56, 62, 82, 77]\n",
      "('Các giá trị lớn nhất trong dãy không liên tiếp nhau: [93, 82, 80]', 'Tổng của các giá trị: 255', 'Vị trí của các giá trị: [1, 9, 3]')\n"
     ]
    }
   ],
   "source": [
    "from random import *\n",
    "\n",
    "def maximum(A):\n",
    "    max1 = 0\n",
    "    max2 = 0\n",
    "    max3 = 0\n",
    "    max4 = 0\n",
    "    maximum = max1 + max2 + max3\n",
    "    max_list_index = []\n",
    "    max_list = []\n",
    "    \n",
    "    A1 = A.copy()\n",
    "    \n",
    "    for i in A1:\n",
    "        if max1 < i:\n",
    "            max1 = i\n",
    "    A1.remove(max1)\n",
    "    \n",
    "    for i in A1:\n",
    "        if max2 < i:\n",
    "            max2 = i\n",
    "    A1.remove(max2)\n",
    "    \n",
    "    for i in A1:\n",
    "        if max3 < i:\n",
    "            max3 = i\n",
    "    A1.remove(max3)\n",
    "    \n",
    "    for i in A1:\n",
    "        if max4 < i:\n",
    "            max4 = i\n",
    "    A1.remove(max4)\n",
    "    \n",
    "    if A.index(max2) == A.index(max1) - 1:\n",
    "        if A.index(max3) == A.index(max2) - 1 or A.index(max3) == A.index(max1) + 1:\n",
    "            maximum = max1 + max2 + max4\n",
    "            max_list = [max1, max2, max4]\n",
    "\n",
    "    elif A.index(max2) == A.index(max1) + 1:\n",
    "        if A.index(max3) == A.index(max2) + 1 or A.index(max3) == A.index(max1) - 1:\n",
    "            maximum = max1 + max2 + max4\n",
    "            max_list = [max1, max2, max4]\n",
    "            \n",
    "    else:\n",
    "        maximum = max1 + max2 + max3\n",
    "        max_list = [max1, max2, max3]\n",
    "            \n",
    "    for i in max_list:\n",
    "        max_list_index.append(A.index(i) + 1)\n",
    "    \n",
    "    return \"Các giá trị lớn nhất trong dãy không liên tiếp nhau: \" + str(max_list), \"Tổng của các giá trị: \" + str(maximum), \"Vị trí của các giá trị: \" + str(max_list_index)\n",
    "\n",
    "N = 10\n",
    "A = []\n",
    "\n",
    "for i in range(N):\n",
    "    A.append(randint(1, 100))\n",
    "    \n",
    "print(A)\n",
    "\n",
    "print(maximum(A))"
   ]
  }
 ],
 "metadata": {
  "kernelspec": {
   "display_name": "Python 3 (ipykernel)",
   "language": "python",
   "name": "python3"
  },
  "language_info": {
   "codemirror_mode": {
    "name": "ipython",
    "version": 3
   },
   "file_extension": ".py",
   "mimetype": "text/x-python",
   "name": "python",
   "nbconvert_exporter": "python",
   "pygments_lexer": "ipython3",
   "version": "3.10.5"
  }
 },
 "nbformat": 4,
 "nbformat_minor": 5
}
