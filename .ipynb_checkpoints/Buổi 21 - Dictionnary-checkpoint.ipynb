{
 "cells": [
  {
   "cell_type": "markdown",
   "id": "a20f121d",
   "metadata": {},
   "source": [
    "# Dictionnary\n",
    "\n",
    "Dictionnary là một dạng list đặc biệt, nó khác list ở chỗ không lưu trữ các giá trị theo chỉ số vị trí, thay vào đó Dictionary sẽ lưu trữ các giá trị theo key\n",
    "\n",
    "##### Tài liệu tham khảo: https://www.w3schools.com/python/python_dictionaries.asp\n",
    "\n",
    "### Khai báo một dictionary\n",
    "\n",
    "Cú pháp:\n",
    "\n",
    "`<tên dictionary> = {}`\n",
    "\n",
    "### Dictionary được khai báo bằng hai dấu hoặc nhọn\n",
    "\n",
    "Đây là một dictionary rỗng\n",
    "\n",
    "<b>Ví dụ 1:</b>\n",
    "\n",
    "`a = {}`\n",
    "\n",
    "a là một dictionary rỗng\n",
    "\n",
    "<b>Ví dụ 2:</b>\n",
    "\n",
    "`a = {\"tên\": \"Nguyễn Tâm Điền\", \"tuổi\": 13, \"giới tính\": \"Nam\"}`\n",
    "\n",
    "b là một dictionary có 3 key, mõi key đều có một giá trị riêng biệt\n",
    "\n",
    "Key có thể mang kiểu dữ liệu là chuỗi hoặc số\n",
    "\n",
    "##### Mỗi một key đều phải có giá trị của riêng nó, không thể khai báo key không có giá trị\n",
    "\n",
    "<b>Hãy khai báo một dictionary có 3 phần tử</b>"
   ]
  },
  {
   "cell_type": "code",
   "execution_count": 8,
   "id": "d835f461",
   "metadata": {},
   "outputs": [
    {
     "name": "stdout",
     "output_type": "stream",
     "text": [
      "hi\n",
      "4\n"
     ]
    }
   ],
   "source": [
    "D = {'tiếng Anh': 'hi', 'tiếng Việt': 'xin chào', 'tiếng Pháp': 'bonjour', 'tiếng Nhật': 'hi'}\n",
    "print(D['tiếng Anh'])\n",
    "print(len(D))"
   ]
  },
  {
   "cell_type": "code",
   "execution_count": 13,
   "id": "0d9a4027-0500-4e23-a512-282d5f0a5624",
   "metadata": {},
   "outputs": [
    {
     "name": "stdout",
     "output_type": "stream",
     "text": [
      "4\n",
      "hello\n",
      "{'tiếng Anh': 'hello', 'tiếng Việt': 'xin chào', 'tiếng Pháp': 'bonjour', 'tiếng Nhật': 'hi'}\n"
     ]
    }
   ],
   "source": [
    "D = {'tiếng Anh': 'hi', 'tiếng Việt': 'xin chào', 'tiếng Pháp': 'bonjour', 'tiếng Nhật': 'hi', 'tiếng Anh': 'hello'}\n",
    "print(len(D))\n",
    "print(D['tiếng Anh'])\n",
    "print(D)"
   ]
  },
  {
   "cell_type": "markdown",
   "id": "be1e321c",
   "metadata": {},
   "source": [
    "### Thêm key vào dictionary\n",
    "\n",
    "Cú pháp:\n",
    "\n",
    "`<tên dictionary>[<key>] = <giá trị>`\n",
    "\n",
    "<b>Ví dụ 1:</b>\n",
    "\n",
    "`a = {}\n",
    "a[\"tên\"] = \"NTD\"`\n",
    "\n",
    "a là một dictionary có một phần tử, phần tử đó có key là \"tên\" và giá trị của key đó là \"NTD\"\n",
    "\n",
    "##### Lưu ý, nếu trong trường hợp đã tồn tại key trong dictionary, dùng lệnh trên sẽ thay đổi giá trị key đó (không phải thêm key khác vào)\n",
    "\n",
    "<b>Ví dụ 2:</b>\n",
    "\n",
    "`a = {}\n",
    "a[\"tên\"] = \"NTD\"\n",
    "a[\"tên\"] = \"Nguyễn Tâm Điền\"`\n",
    "\n",
    "a vẫn là một dictionary có một phần tử, phần tử đó có key là \"tên\" và giá trị của key đó là \"Nguyễn Tâm Điền\"\n",
    "\n",
    "<b>Hãy khai báo một dictionary không có phần tử nào, sau đó thêm một phần tử vào dictionary đó</b>"
   ]
  },
  {
   "cell_type": "code",
   "execution_count": 15,
   "id": "7573ebef",
   "metadata": {},
   "outputs": [
    {
     "name": "stdout",
     "output_type": "stream",
     "text": [
      "['hi', 'hello', 'xin chào']\n"
     ]
    }
   ],
   "source": [
    "L = ['hi', 'hello']\n",
    "L.append('xin chào')\n",
    "print(L)"
   ]
  },
  {
   "cell_type": "code",
   "execution_count": 17,
   "id": "f50a522b-4f09-4151-9df4-71dadfa7848b",
   "metadata": {},
   "outputs": [
    {
     "name": "stdout",
     "output_type": "stream",
     "text": [
      "{'tiếng Anh': 'hi', 'tiếng Việt': 'xin chào', 'tiếng Pháp': 'bonjour'}\n"
     ]
    }
   ],
   "source": [
    "D = {'tiếng Anh': 'hi', 'tiếng Việt': 'xin chào'}\n",
    "D['tiếng Pháp'] = 'bonjour'\n",
    "print(D)"
   ]
  },
  {
   "cell_type": "code",
   "execution_count": 18,
   "id": "4219b482-3454-47b5-bf96-ad56ec4828e4",
   "metadata": {},
   "outputs": [
    {
     "name": "stdout",
     "output_type": "stream",
     "text": [
      "{'tiếng Anh': 'hi', 'tiếng Việt': 'chào', 'tiếng Pháp': 'bonjour'}\n"
     ]
    }
   ],
   "source": [
    "D = {'tiếng Anh': 'hi', 'tiếng Việt': 'xin chào'}\n",
    "D['tiếng Pháp'] = 'bonjour'\n",
    "D['tiếng Việt'] = 'chào'\n",
    "print(D)"
   ]
  },
  {
   "cell_type": "code",
   "execution_count": null,
   "id": "82904820-6a6f-42d8-a3b0-7f426fd9337f",
   "metadata": {},
   "outputs": [],
   "source": [
    "L = ['hi', 'xin chào', 'hello']\n",
    "D = {'tiếng Anh': 'hello', 'tiếng Việt': 'xin chào'}\n",
    "\n"
   ]
  },
  {
   "cell_type": "code",
   "execution_count": 27,
   "id": "7bd3a34a-53d8-4a3d-a528-2359e8ce9d50",
   "metadata": {},
   "outputs": [
    {
     "name": "stdin",
     "output_type": "stream",
     "text": [
      "Nhập key:  tieng anh\n",
      "Nhập giá trị:  hello\n",
      "Nhập key:  tieng phap\n",
      "Nhập giá trị:  bonjour\n",
      "Nhập key:  tieng viet\n",
      "Nhập giá trị:  xin chao\n",
      "Nhập key:  tieng phap\n"
     ]
    },
    {
     "name": "stdout",
     "output_type": "stream",
     "text": [
      "Key đã tồn tại\n"
     ]
    },
    {
     "name": "stdin",
     "output_type": "stream",
     "text": [
      "Nhập key:  \n"
     ]
    },
    {
     "name": "stdout",
     "output_type": "stream",
     "text": [
      "{'tieng anh': 'hello', 'tieng phap': 'bonjour', 'tieng viet': 'xin chao'}\n"
     ]
    }
   ],
   "source": [
    "D = {}\n",
    "\n",
    "while True:\n",
    "    key = input(\"Nhập key: \")\n",
    "    \n",
    "    if key == \"\":\n",
    "        break \n",
    "        \n",
    "    if key in D:\n",
    "        print(\"Key đã tồn tại\")\n",
    "        key = input(\"Nhập key: \")\n",
    "        \n",
    "    if key == \"\":\n",
    "        break\n",
    "        \n",
    "    if key not in D:\n",
    "        D[key] = input(\"Nhập giá trị: \")\n",
    "    \n",
    "    if key == \"\":\n",
    "        break \n",
    "        \n",
    "print(D)"
   ]
  },
  {
   "cell_type": "markdown",
   "id": "65c98825",
   "metadata": {},
   "source": [
    "### Truy xuất phần tử trong dictionary\n",
    "\n",
    "Cú pháp:\n",
    "\n",
    "`<tên dictionary>[<key>]`\n",
    "\n",
    "<b>Ví dụ:</b>\n",
    "\n",
    "`a = {\"tên\": \"Nguyễn Tâm Điền\", \"tuổi\": 13, \"giới tính\": \"Nam\"}\n",
    "print(a[\"tên\"])`\n",
    "\n",
    "Màn hình sẽ in: Nguyễn Tâm Điền\n",
    "\n",
    "<b>Hãy khai báo một dictionary rồi in ra màn hình một phần tử bất kỳ trong dictionary đó</b>"
   ]
  },
  {
   "cell_type": "code",
   "execution_count": 31,
   "id": "f6159385",
   "metadata": {},
   "outputs": [
    {
     "name": "stdout",
     "output_type": "stream",
     "text": [
      "Nguyễn Tâm Điền\n"
     ]
    }
   ],
   "source": [
    "a = {\"tên\": \"Nguyễn Tâm Điền\", \"tuổi\": 13, \"giới tính\": \"Nam\"}\n",
    "print(a['tên'])"
   ]
  },
  {
   "cell_type": "markdown",
   "id": "afa92f87",
   "metadata": {},
   "source": [
    "### Sao chép dictionary\n",
    "\n",
    "##### Việc sao chép dictionary được thực hiện hệt như sao chép list, chúng ta cần phải sử dụng lệnh copy()"
   ]
  },
  {
   "cell_type": "markdown",
   "id": "ef7e800d",
   "metadata": {},
   "source": [
    "### Duyệt dictionary bằng lệnh for\n",
    "\n",
    "Cú pháp:\n",
    "\n",
    "`for <tên biến> in <tên dictionary>:`\n",
    "\n",
    "Biến sẽ có giá trị là từng key trong dictionary\n",
    "\n",
    "<b>Ví dụ:</b>\n",
    "\n",
    "`a = {\"tên\": \"Nguyễn Tâm Điền\", \"tuổi\": 13, \"giới tính\": \"Nam\"}\n",
    "for i in a:\n",
    "    print(i)`\n",
    "    \n",
    "Màn hình sẽ in ra:\n",
    "\n",
    "tên\n",
    "\n",
    "tuổi\n",
    "\n",
    "giới tính\n",
    "\n",
    "<b>Hãy khai báo một dictionary rồi in ra màn hình toàn bộ giá trị trong dictionary đó</b>"
   ]
  },
  {
   "cell_type": "code",
   "execution_count": 32,
   "id": "3bdd1508",
   "metadata": {},
   "outputs": [
    {
     "name": "stdout",
     "output_type": "stream",
     "text": [
      "tên\n",
      "tuổi\n",
      "giới tính\n"
     ]
    }
   ],
   "source": [
    "a = {\"tên\": \"Nguyễn Tâm Điền\", \"tuổi\": 13, \"giới tính\": \"Nam\"}\n",
    "\n",
    "for i in a:     \n",
    "    print(i)"
   ]
  },
  {
   "cell_type": "code",
   "execution_count": 34,
   "id": "9d0df328-3b01-4262-b100-3749497efee6",
   "metadata": {},
   "outputs": [
    {
     "name": "stdout",
     "output_type": "stream",
     "text": [
      "tên: Nguyễn Tâm Điền\n",
      "tuổi: 13\n",
      "giới tính: Nam\n"
     ]
    }
   ],
   "source": [
    "a = {\"tên\": \"Nguyễn Tâm Điền\", \"tuổi\": 13, \"giới tính\": \"Nam\"}\n",
    "\n",
    "for i in a:     \n",
    "    print(str(i) + \": \" + str(a[i]))"
   ]
  },
  {
   "cell_type": "markdown",
   "id": "1982f4b1",
   "metadata": {},
   "source": [
    "### Bài tập"
   ]
  },
  {
   "cell_type": "markdown",
   "id": "3060a950",
   "metadata": {},
   "source": [
    "Viết chương trình đếm số lần xuất hiện của một từ trong một văn bản nhất định"
   ]
  },
  {
   "cell_type": "code",
   "execution_count": 3,
   "id": "af64832c",
   "metadata": {},
   "outputs": [
    {
     "name": "stdout",
     "output_type": "stream",
     "text": [
      "['Những', 'tấm', 'ảnh', 'tôi', 'mang', 'về', 'đã', 'được', 'chọn', 'lấy', 'một', 'tấm', 'Trưởng', 'phòng', 'rất', 'bằng', 'lòng', 'về', 'tôi', 'Không', 'những', 'trong', 'bộ', 'lịch', 'năm', 'ấy', 'mà', 'mãi', 'mãi', 'về', 'sau', 'tấm', 'ảnh', 'chụp', 'của', 'tôi', 'vẫn', 'còn', 'được', 'treo', 'ở', 'nhiều', 'nơi', 'nhất', 'là', 'trong', 'các', 'gia', 'đình', 'sành', 'nghệ', 'thuật', 'Quái', 'lạ', 'tuy', 'là', 'ảnh', 'đen', 'trắng', 'nhưng', 'mỗi', 'lần', 'ngắm', 'kỹ', 'tôi', 'vẫn', 'thấy', 'hiện', 'lên', 'cái', 'màu', 'hồng', 'hồng', 'của', 'ánh', 'sương', 'mai', 'lúc', 'bấy', 'giờ', 'tôi', 'nhìn', 'thấy', 'từ', 'bãi', 'xe', 'tăng', 'hỏng', 'và', 'nếu', 'nhìn', 'lâu', 'hơn', 'bao', 'giờ', 'tôi', 'cũng', 'thấy', 'người', 'đàn', 'bà', 'ấy', 'đang', 'bước', 'ra', 'khỏi', 'tấm', 'ảnh', 'đó', 'là', 'một', 'người', 'đàn', 'bà', 'vùng', 'biển', 'cao', 'lớn', 'với', 'những', 'đường', 'nét', 'thô', 'kệch', 'tấm', 'lưng', 'áo', 'bạc', 'phếch', 'có', 'miếng', 'vá', 'nửa', 'thân', 'dưới', 'ướt', 'sũng', 'khuôn', 'mặt', 'rỗ', 'đã', 'nhợt', 'trắng', 'vì', 'kéo', 'lưới', 'suốt', 'đêm', 'Mụ', 'bước', 'những', 'bước', 'chậm', 'rãi', 'bàn', 'chân', 'dậm', 'trên', 'mặt', 'đất', 'chắc', 'chắn', 'hòa', 'lẫn', 'trong', 'đám', 'đông']\n",
      "Những: 1, tấm: 5, ảnh: 4, tôi: 6, mang: 1, về: 3, đã: 2, được: 2, chọn: 1, lấy: 1, một: 2, Trưởng: 1, phòng: 1, rất: 1, bằng: 1, lòng: 1, Không: 1, những: 3, trong: 3, bộ: 1, lịch: 1, năm: 1, ấy: 2, mà: 1, mãi: 2, sau: 1, chụp: 1, của: 2, vẫn: 2, còn: 1, treo: 1, ở: 1, nhiều: 1, nơi: 1, nhất: 1, là: 3, các: 1, gia: 1, đình: 1, sành: 1, nghệ: 1, thuật: 1, Quái: 1, lạ: 1, tuy: 1, đen: 1, trắng: 2, nhưng: 1, mỗi: 1, lần: 1, ngắm: 1, kỹ: 1, thấy: 3, hiện: 1, lên: 1, cái: 1, màu: 1, hồng: 2, ánh: 1, sương: 1, mai: 1, lúc: 1, bấy: 1, giờ: 2, nhìn: 2, từ: 1, bãi: 1, xe: 1, tăng: 1, hỏng: 1, và: 1, nếu: 1, lâu: 1, hơn: 1, bao: 1, cũng: 1, người: 2, đàn: 2, bà: 2, đang: 1, bước: 3, ra: 1, khỏi: 1, đó: 1, vùng: 1, biển: 1, cao: 1, lớn: 1, với: 1, đường: 1, nét: 1, thô: 1, kệch: 1, lưng: 1, áo: 1, bạc: 1, phếch: 1, có: 1, miếng: 1, vá: 1, nửa: 1, thân: 1, dưới: 1, ướt: 1, sũng: 1, khuôn: 1, mặt: 2, rỗ: 1, nhợt: 1, vì: 1, kéo: 1, lưới: 1, suốt: 1, đêm: 1, Mụ: 1, chậm: 1, rãi: 1, bàn: 1, chân: 1, dậm: 1, trên: 1, đất: 1, chắc: 1, chắn: 1, hòa: 1, lẫn: 1, đám: 1, đông: 1, "
     ]
    }
   ],
   "source": [
    "text = \"\"\"Những tấm ảnh tôi mang về, đã được chọn lấy một tấm. Trưởng phòng rất bằng lòng về tôi. Không những trong bộ lịch năm ấy mà mãi mãi về sau, tấm ảnh chụp của tôi vẫn còn được treo ở nhiều nơi, nhất là trong các gia đình sành nghệ thuật. Quái lạ, tuy là ảnh đen trắng nhưng mỗi lần ngắm kỹ, tôi vẫn thấy hiện lên cái màu hồng hồng của ánh sương mai lúc bấy giờ tôi nhìn thấy từ bãi xe tăng hỏng, và nếu nhìn lâu hơn, bao giờ tôi cũng thấy người đàn bà ấy đang bước ra khỏi tấm ảnh, đó là một người đàn bà vùng biển cao lớn với những đường nét thô kệch tấm lưng áo bạc phếch có miếng vá, nửa thân dưới ướt sũng khuôn mặt rỗ đã nhợt trắng vì kéo lưới suốt đêm. Mụ bước những bước chậm rãi, bàn chân dậm trên mặt đất chắc chắn, hòa lẫn trong đám đông.\"\"\"\n",
    "D = {}\n",
    "\n",
    "for i in ['.', ',', '?', '-', '!', '\"', ':', '(', ')']:\n",
    "    text = text.replace(i, '')\n",
    "    \n",
    "L = text.split()\n",
    "\n",
    "print(L)\n",
    "\n",
    "for i in L:\n",
    "    if i in D:\n",
    "        D[i] += 1\n",
    "    else:\n",
    "        D[i] = 1\n",
    "\n",
    "for i in D:\n",
    "    print(str(i) + \": \" + str(D[i]), end = \", \")"
   ]
  },
  {
   "cell_type": "markdown",
   "id": "57c6f1e7",
   "metadata": {},
   "source": [
    "Viết chương trình cho phép người dùng quản lý sản phẩm, gồm các chức năng sau: \n",
    "\n",
    "- Hiển thị danh sách sản phẩm\n",
    "- Thêm sản phẩm mới vào danh sách\n",
    "- Sửa tên của sản phẩm trong danh sách\n",
    "- Xoá một sản phẩm khỏi danh sách"
   ]
  },
  {
   "cell_type": "code",
   "execution_count": 5,
   "id": "8541b8c3",
   "metadata": {},
   "outputs": [
    {
     "name": "stdout",
     "output_type": "stream",
     "text": [
      "\n",
      "Nhập H - hiển thị sản phẩm\n",
      "Nhập T - thêm sản phẩm\n",
      "Nhập S - sửa sản phẩm\n",
      "Nhập X - xóa sản phẩm\n",
      "Nhập 0 để thoát chương trình\n",
      "\n"
     ]
    },
    {
     "name": "stdin",
     "output_type": "stream",
     "text": [
      "Nhập lệnh: h\n",
      "Nhập lệnh: l\n",
      "Nhập lệnh: H\n"
     ]
    },
    {
     "name": "stdout",
     "output_type": "stream",
     "text": [
      "----------------\n",
      "\n",
      "1: Bún bò\n",
      "2: Phở bò\n",
      "\n",
      "----------------\n"
     ]
    },
    {
     "name": "stdin",
     "output_type": "stream",
     "text": [
      "Nhập lệnh: T\n",
      "Nhập vào ID (nhập 0 để thoát chức năng): 1\n"
     ]
    },
    {
     "name": "stdout",
     "output_type": "stream",
     "text": [
      "ID đã tồn tại, vui lòng nhập lại!\n"
     ]
    },
    {
     "name": "stdin",
     "output_type": "stream",
     "text": [
      "Nhập vào ID (nhập 0 để thoát chức năng): 2\n"
     ]
    },
    {
     "name": "stdout",
     "output_type": "stream",
     "text": [
      "ID đã tồn tại, vui lòng nhập lại!\n"
     ]
    },
    {
     "name": "stdin",
     "output_type": "stream",
     "text": [
      "Nhập vào ID (nhập 0 để thoát chức năng): 3\n",
      "Nhập vào tên sản phẩm: Bún riêu\n",
      "Nhập lệnh: H\n"
     ]
    },
    {
     "name": "stdout",
     "output_type": "stream",
     "text": [
      "----------------\n",
      "\n",
      "1: Bún bò\n",
      "2: Phở bò\n",
      "3: Bún riêu\n",
      "\n",
      "----------------\n"
     ]
    },
    {
     "name": "stdin",
     "output_type": "stream",
     "text": [
      "Nhập lệnh: T\n",
      "Nhập vào ID (nhập 0 để thoát chức năng): 4\n",
      "Nhập vào tên sản phẩm: Hủ tiếu\n",
      "Nhập lệnh: H\n"
     ]
    },
    {
     "name": "stdout",
     "output_type": "stream",
     "text": [
      "----------------\n",
      "\n",
      "1: Bún bò\n",
      "2: Phở bò\n",
      "3: Bún riêu\n",
      "4: Hủ tiếu\n",
      "\n",
      "----------------\n"
     ]
    },
    {
     "name": "stdin",
     "output_type": "stream",
     "text": [
      "Nhập lệnh: 0\n"
     ]
    }
   ],
   "source": [
    "def hienthisanpham(D):\n",
    "    print(\"----------------\")\n",
    "    print()\n",
    "    for i in D: print(i, \": \", D[i], sep = \"\")\n",
    "    print()\n",
    "    print(\"----------------\")\n",
    "    \n",
    "def themsanpham(D):\n",
    "    while True:\n",
    "        ID = input(\"Nhập vào ID (nhập 0 để thoát chức năng):\")\n",
    "        if ID == \"0\": return\n",
    "        if ID not in D: break\n",
    "        print(\"ID đã tồn tại, vui lòng nhập lại!\")\n",
    "    name = input(\"Nhập vào tên sản phẩm:\")\n",
    "    D[ID] = name\n",
    "    \n",
    "def suasanpham(D):\n",
    "    while True:\n",
    "        ID = input(\"Nhập vào ID (nhập 0 để thoát chức năng):\")\n",
    "        if ID == \"0\": return\n",
    "        if ID in D: break\n",
    "        print(\"ID chưa tồn tại, vui lòng nhập lại!\")\n",
    "    name = input(\"Nhập vào tên sản phẩm mới:\")\n",
    "    D[ID] = name\n",
    "    \n",
    "def xoasanpham(D):\n",
    "    while True:\n",
    "        ID = input(\"Nhập vào ID (nhập 0 để thoát chức năng):\")\n",
    "        if ID == \"0\": return\n",
    "        if ID in D: break\n",
    "        print(\"ID chưa tồn tại, vui lòng nhập lại!\")\n",
    "    xacnhan = input(\"Bạn có muốn xóa sản phẩm \" + D[ID] + \" không? Nếu có nhập C, nếu không nhập bất kỳ:\")\n",
    "    if xacnhan.lower() == \"c\":\n",
    "        D.pop(ID)\n",
    "        print(\"Bạn đã xóa sản phẩm!\")\n",
    "        \n",
    "D = {\"1\": \"Bún bò\", \"2\": \"Phở bò\"}\n",
    "\n",
    "print('''\n",
    "Nhập H - hiển thị sản phẩm\n",
    "Nhập T - thêm sản phẩm\n",
    "Nhập S - sửa sản phẩm\n",
    "Nhập X - xóa sản phẩm\n",
    "Nhập 0 để thoát chương trình\n",
    "''')\n",
    "\n",
    "while True:\n",
    "    a = input(\"Nhập lệnh:\")\n",
    "    if a == \"H\":\n",
    "        hienthisanpham(D)\n",
    "    elif a == \"T\":\n",
    "        themsanpham(D)\n",
    "    elif a == \"S\":\n",
    "        suasanpham(D)\n",
    "    elif a == \"X\":\n",
    "        xoasanpham(D)\n",
    "    elif a == \"0\":\n",
    "        break"
   ]
  }
 ],
 "metadata": {
  "kernelspec": {
   "display_name": "Python 3 (ipykernel)",
   "language": "python",
   "name": "python3"
  },
  "language_info": {
   "codemirror_mode": {
    "name": "ipython",
    "version": 3
   },
   "file_extension": ".py",
   "mimetype": "text/x-python",
   "name": "python",
   "nbconvert_exporter": "python",
   "pygments_lexer": "ipython3",
   "version": "3.10.5"
  }
 },
 "nbformat": 4,
 "nbformat_minor": 5
}
