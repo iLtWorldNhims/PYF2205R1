{
 "cells": [
  {
   "cell_type": "markdown",
   "id": "028ffec3",
   "metadata": {},
   "source": [
    "# Thực hành hàm\n",
    "\n",
    "### Bài 1\n",
    "\n",
    "Viết hàm có dữ liệu đầu vào là 2 số a và b, số nào lớn hơn thì in bảng cửu chương của số đó"
   ]
  },
  {
   "cell_type": "code",
   "execution_count": 5,
   "id": "1974966b",
   "metadata": {
    "scrolled": true
   },
   "outputs": [
    {
     "name": "stdout",
     "output_type": "stream",
     "text": [
      "8 x 1 = 8\n",
      "8 x 2 = 16\n",
      "8 x 3 = 24\n",
      "8 x 4 = 32\n",
      "8 x 5 = 40\n",
      "8 x 6 = 48\n",
      "8 x 7 = 56\n",
      "8 x 8 = 64\n",
      "8 x 9 = 72\n",
      "8 x 10 = 80\n"
     ]
    }
   ],
   "source": [
    "def cuu_chuong(a,b):\n",
    "    if a > b:\n",
    "        for i in range(1,11):\n",
    "            print(a,\"x\",i,\"=\",a*i)\n",
    "    elif b > a:\n",
    "        for i in range(1,11):\n",
    "            print(b,\"x\",i,\"=\",b*i)\n",
    "    else:\n",
    "        print(\"2 số bằng nhau!\")\n",
    "\n",
    "cuu_chuong(6,8)"
   ]
  },
  {
   "cell_type": "markdown",
   "id": "9de8ffaa",
   "metadata": {},
   "source": [
    "### Bài 2\n",
    "\n",
    "Viết hàm `xoachuoi` có dữ liệu đầu vào là 2 chuỗi a và b, hãy tìm trong chuỗi a có chuỗi b hay không, nếu có hãy xóa toán bộ chuỗi b trong a.\n",
    "\n",
    "Sau đó trả về chuỗi a mới\n",
    "\n",
    "Ví dụ:\n",
    "\n",
    "chuoi1 = \"xin chào các bạn, các bạn có khỏe không?\"\n",
    "\n",
    "chuoi2 = \"các bạn\"\n",
    "\n",
    "chuoi3 = xoachuoi(chuoi1,chuoi2)\n",
    "\n",
    "print(chuoi3)\n",
    "\n",
    "Kết quả in ra là:\n",
    "xin chào ,  có khỏe không"
   ]
  },
  {
   "cell_type": "code",
   "execution_count": 6,
   "id": "87ff080a",
   "metadata": {
    "scrolled": true
   },
   "outputs": [
    {
     "name": "stdout",
     "output_type": "stream",
     "text": [
      "xin chào , các bạn có khỏe không hả các bạn?\n",
      "None\n"
     ]
    }
   ],
   "source": [
    "# SAI\n",
    "\n",
    "def xoa_chuoi(a, b):\n",
    "    if a.find(b):\n",
    "        a = a[:a.index(b)] + a[a.index(b) + len(b):]\n",
    "        \n",
    "    print(a)\n",
    "        \n",
    "a = \"xin chào các bạn, các bạn có khỏe không hả các bạn?\"\n",
    "\n",
    "b = \"các bạn\"\n",
    "\n",
    "c = xoa_chuoi(a, b)\n",
    "\n",
    "print(c)"
   ]
  },
  {
   "cell_type": "code",
   "execution_count": 11,
   "id": "43958b8f",
   "metadata": {},
   "outputs": [
    {
     "name": "stdout",
     "output_type": "stream",
     "text": [
      "x\n",
      "None\n"
     ]
    }
   ],
   "source": [
    "# BÍ\n",
    "\n",
    "def xoa_chuoi(a, b):\n",
    "    for b in a:\n",
    "        if a.find(b):\n",
    "            a = a[:a.index(b)] + a[a.index(b) + len(b):]\n",
    "        else:\n",
    "            continue\n",
    "            \n",
    "    print(a)\n",
    "        \n",
    "a = \"xin chào các bạn, các bạn có khỏe không hả các bạn?\"\n",
    "\n",
    "b = \"các bạn\"\n",
    "\n",
    "c = xoa_chuoi(a, b)\n",
    "\n",
    "print(c)"
   ]
  },
  {
   "cell_type": "code",
   "execution_count": 1,
   "id": "69b8ce0f",
   "metadata": {
    "scrolled": true
   },
   "outputs": [
    {
     "name": "stdout",
     "output_type": "stream",
     "text": [
      "xin chào ,  có khỏe không hả ?\n",
      "None\n"
     ]
    }
   ],
   "source": [
    "###### ĐÚNG NÈEEEEEEEEEEEEEEEEEEEEEEEE\n",
    "\n",
    "def xoa_chuoi(a, b):\n",
    "    if a.index(b) > 0:\n",
    "        a = a.replace(b, \"\")\n",
    "\n",
    "    print(a)\n",
    "        \n",
    "a = \"xin chào các bạn, các bạn có khỏe không hả các bạn?\"\n",
    "\n",
    "b = \"các bạn\"\n",
    "\n",
    "c = xoa_chuoi(a, b)\n",
    "\n",
    "print(c)"
   ]
  },
  {
   "cell_type": "code",
   "execution_count": null,
   "id": "15d859a1",
   "metadata": {},
   "outputs": [],
   "source": [
    "def xoa_chuoi(a, b):\n",
    "    for i in a:\n",
    "        if i + a[:len(b) + 1] == b:\n",
    "            a = a[:len(b)]"
   ]
  },
  {
   "cell_type": "code",
   "execution_count": 4,
   "id": "4211566d",
   "metadata": {},
   "outputs": [
    {
     "name": "stdout",
     "output_type": "stream",
     "text": [
      "xin chào ,  có khỏe không hả ?\n"
     ]
    }
   ],
   "source": [
    "# Sửa lại từ bài chôm\n",
    "\n",
    "a = \"xin chào các bạn, các bạn có khỏe không hả các bạn?\"\n",
    "b = \"các bạn\"\n",
    "\n",
    "def xoa_chuoi(a, b):\n",
    "    for i in range(len(a) - len(b)):\n",
    "        if a[i:i + len(b)] == b:\n",
    "            a = a[:i] + a[i + len(b):]\n",
    "    return b\n",
    "\n",
    "chuoi3 = xoachuoi(chuoi1,chuoi2)\n",
    "print(chuoi3)"
   ]
  },
  {
   "cell_type": "code",
   "execution_count": 10,
   "id": "99a3dcb0",
   "metadata": {},
   "outputs": [
    {
     "name": "stdout",
     "output_type": "stream",
     "text": [
      "xin chào các bạn có khỏe không?\n"
     ]
    }
   ],
   "source": [
    "# Chôm (của Nhân thì phải)\n",
    "\n",
    "chuoi1 = \"xin chào các bạncác bạn có khỏe không?\"\n",
    "chuoi2 = \"các bạn\"\n",
    "\n",
    "def xoachuoi(chuoi1, chuoi2):\n",
    "    a = len(chuoi1)\n",
    "    b = len(chuoi2)\n",
    "    for i in range(a - b):\n",
    "        if chuoi1[i:i+b] == chuoi2:\n",
    "            chuoi1 = chuoi1[:i] + chuoi1[i+b:]\n",
    "    return chuoi1\n",
    "\n",
    "chuoi3 = xoachuoi(chuoi1,chuoi2)\n",
    "print(chuoi3)"
   ]
  },
  {
   "cell_type": "code",
   "execution_count": 6,
   "id": "a25ed403",
   "metadata": {},
   "outputs": [
    {
     "name": "stdout",
     "output_type": "stream",
     "text": [
      "xin chào ,  có khỏe không hả \n"
     ]
    }
   ],
   "source": [
    "# Thầy (For sure :)\n",
    "\n",
    "chuoi1 = \"xin chào các bạn, các bạn có khỏe không hả các bạn\"\n",
    "chuoi2 = \"các bạn\"\n",
    "\n",
    "def xoa_chuoi(chuoi1, chuoi2):\n",
    "    a = len(chuoi1)\n",
    "    b = len(chuoi2)\n",
    "    i = 0 \n",
    "    while i <= (a - b):\n",
    "        if chuoi1[i:i + b] == chuoi2:\n",
    "            chuoi1 = chuoi1[:i] + chuoi1[i + b:]\n",
    "            a -= b\n",
    "        else:\n",
    "            i += 1\n",
    "    return chuoi1\n",
    "\n",
    "chuoi3 = xoa_chuoi(chuoi1, chuoi2)\n",
    "print(chuoi3)"
   ]
  },
  {
   "cell_type": "code",
   "execution_count": 9,
   "id": "8858fe31",
   "metadata": {},
   "outputs": [
    {
     "name": "stdout",
     "output_type": "stream",
     "text": [
      "Có b trong a\n",
      "Có b trong a\n"
     ]
    },
    {
     "data": {
      "text/plain": [
       "'xin chào ,  có khỏe không hả các bạn'"
      ]
     },
     "execution_count": 9,
     "metadata": {},
     "output_type": "execute_result"
    }
   ],
   "source": [
    "# Của ai đó (Đúng,... mà đúng cái cù lôi á!!! muahaha :>)\n",
    "\n",
    "def xoachuoi(a,b):\n",
    "    c = \"\"\n",
    "    ito = 0\n",
    "    for i in range(len(a) - len(b)):\n",
    "        if i <= ito:\n",
    "            continue\n",
    "        if a[i:i + len(b)] == b:\n",
    "            print('Có b trong a')\n",
    "            ito = i + len(b)\n",
    "        else:\n",
    "            c += a[i]\n",
    "    return c + a[len(a) - len(b):]\n",
    "            \n",
    "a = \"xin chào các bạn, các bạn có khỏe không hả các bạn\"\n",
    "b = \"các bạn\"\n",
    "\n",
    "xoachuoi(a,b)"
   ]
  },
  {
   "cell_type": "markdown",
   "id": "d626394e",
   "metadata": {},
   "source": [
    "### Bài 3\n",
    "\n",
    "Viết hàm `kiemtramatkhau` với dữ liệu đầu vào là 1 chuỗi có công dụng như sau:\n",
    "\n",
    "Kiểm tra xem chuỗi đầu vào có phải là mật khẩu mạnh hay không, nếu có trả về True, nếu không trả về False\n",
    "\n",
    "Mật khẩu mạnh là mật khẩu phải có ít nhất 1 chữ hoa, 1 chữ thường, 1 số và 1 ký tự đặc biệt"
   ]
  },
  {
   "cell_type": "code",
   "execution_count": 20,
   "id": "875d88f5",
   "metadata": {},
   "outputs": [
    {
     "name": "stdout",
     "output_type": "stream",
     "text": [
      "Nhập mật khẩu dzô nè: Nhims @ 612002\n",
      "True\n"
     ]
    }
   ],
   "source": [
    "def kiem_tra_mat_khau(chuoi):\n",
    "    kiem_tra = False\n",
    "    kiem_tra_1 = False\n",
    "    kiem_tra_2 = False\n",
    "    kiem_tra_3 = False\n",
    "    kiem_tra_4 = False\n",
    "    \n",
    "    for ki_tu in chuoi:\n",
    "        if ki_tu.isupper():\n",
    "            kiem_tra_1 = True\n",
    "        elif ki_tu.islower():\n",
    "            kiem_tra_2 = True\n",
    "        elif ki_tu.isdigit():\n",
    "            kiem_tra_3 = True\n",
    "        elif not ki_tu.isalpha() or not ki_tu.isdigit:\n",
    "            kiem_tra_4 = True\n",
    "            \n",
    "    kiem_tra = kiem_tra_1 and kiem_tra_2 and kiem_tra_3 and kiem_tra_4\n",
    "    \n",
    "    return kiem_tra\n",
    "    \n",
    "mat_khau = input(\"Nhập mật khẩu dzô nè: \")\n",
    "\n",
    "print(kiem_tra_mat_khau(mat_khau))"
   ]
  },
  {
   "cell_type": "markdown",
   "id": "1572568f",
   "metadata": {},
   "source": [
    "### Bài 4\n",
    "\n",
    "Viết hàm có 5 dữ liệu đầu vào là 5 số nguyên, tìm giá trị lớn nhì trong 5 số đó"
   ]
  },
  {
   "cell_type": "code",
   "execution_count": 17,
   "id": "876707ae",
   "metadata": {
    "scrolled": true
   },
   "outputs": [
    {
     "name": "stdout",
     "output_type": "stream",
     "text": [
      "Nhập số thứ nhất: 1\n",
      "Nhập số thứ hai: 23\n",
      "Nhập số thứ ba: 4\n",
      "Nhập số thứ tư: 5\n",
      "Nhập số thứ năm: 6\n",
      "Số lớn nhất là: 23\n"
     ]
    },
    {
     "ename": "ValueError",
     "evalue": "invalid literal for int() with base 10: ''",
     "output_type": "error",
     "traceback": [
      "\u001b[1;31m---------------------------------------------------------------------------\u001b[0m",
      "\u001b[1;31mValueError\u001b[0m                                Traceback (most recent call last)",
      "Input \u001b[1;32mIn [17]\u001b[0m, in \u001b[0;36m<cell line: 43>\u001b[1;34m()\u001b[0m\n\u001b[0;32m     40\u001b[0m d \u001b[38;5;241m=\u001b[39m \u001b[38;5;28mint\u001b[39m(\u001b[38;5;28minput\u001b[39m(\u001b[38;5;124m\"\u001b[39m\u001b[38;5;124mNhập số thứ tư: \u001b[39m\u001b[38;5;124m\"\u001b[39m))\n\u001b[0;32m     41\u001b[0m e \u001b[38;5;241m=\u001b[39m \u001b[38;5;28mint\u001b[39m(\u001b[38;5;28minput\u001b[39m(\u001b[38;5;124m\"\u001b[39m\u001b[38;5;124mNhập số thứ năm: \u001b[39m\u001b[38;5;124m\"\u001b[39m))\n\u001b[1;32m---> 43\u001b[0m \u001b[43mso_lon_nhi\u001b[49m\u001b[43m(\u001b[49m\u001b[43ma\u001b[49m\u001b[43m,\u001b[49m\u001b[43m \u001b[49m\u001b[43mb\u001b[49m\u001b[43m,\u001b[49m\u001b[43m \u001b[49m\u001b[43mc\u001b[49m\u001b[43m,\u001b[49m\u001b[43m \u001b[49m\u001b[43md\u001b[49m\u001b[43m,\u001b[49m\u001b[43m \u001b[49m\u001b[43me\u001b[49m\u001b[43m)\u001b[49m\n",
      "Input \u001b[1;32mIn [17]\u001b[0m, in \u001b[0;36mso_lon_nhi\u001b[1;34m(a, b, c, d, e)\u001b[0m\n\u001b[0;32m     28\u001b[0m \u001b[38;5;28;01melse\u001b[39;00m:\n\u001b[0;32m     29\u001b[0m     \u001b[38;5;28mmax\u001b[39m \u001b[38;5;241m=\u001b[39m \u001b[38;5;28mint\u001b[39m(e)\n\u001b[1;32m---> 30\u001b[0m \u001b[38;5;28;01mif\u001b[39;00m \u001b[38;5;28;43mint\u001b[39;49m\u001b[43m(\u001b[49m\u001b[43mb\u001b[49m\u001b[43m)\u001b[49m \u001b[38;5;241m>\u001b[39m\u001b[38;5;241m=\u001b[39m \u001b[38;5;28mmax\u001b[39m:\n\u001b[0;32m     31\u001b[0m     \u001b[38;5;28mmax\u001b[39m \u001b[38;5;241m=\u001b[39m \u001b[38;5;28mint\u001b[39m(b)\n\u001b[0;32m     32\u001b[0m \u001b[38;5;28;01mif\u001b[39;00m \u001b[38;5;28mint\u001b[39m(c) \u001b[38;5;241m>\u001b[39m\u001b[38;5;241m=\u001b[39m \u001b[38;5;28mmax\u001b[39m:\n",
      "\u001b[1;31mValueError\u001b[0m: invalid literal for int() with base 10: ''"
     ]
    }
   ],
   "source": [
    "###### SAI RỒI!!!!!!!!!!!!!!!!\n",
    "\n",
    "def so_lon_nhi(a, b, c, d, e):\n",
    "    if int(a) >= int(e):\n",
    "        max = int(a)\n",
    "    else:\n",
    "        max = int(e)\n",
    "    if int(b) >= max:\n",
    "        max = int(b)\n",
    "    if int(c) >= max:\n",
    "        max = int(c)\n",
    "    if int(d) >= max:\n",
    "        max = int(d)\n",
    "    \n",
    "    print(\"Số lớn nhất là:\", max)\n",
    "        \n",
    "    if a == max:\n",
    "        a = \"\"\n",
    "    elif b == max:\n",
    "        b = \"\"\n",
    "    elif c == max:\n",
    "        c = \"\"\n",
    "    elif d == max:\n",
    "        d = \"\"\n",
    "    else:\n",
    "        e = \"\"\n",
    "    \n",
    "    if int(a) >= int(e):\n",
    "        max = int(a)\n",
    "    else:\n",
    "        max = int(e)\n",
    "    if int(b) >= max:\n",
    "        max = int(b)\n",
    "    if int(c) >= max:\n",
    "        max = int(c)\n",
    "    if int(d) >= max:\n",
    "        max = int(d)\n",
    "    \n",
    "a = int(input(\"Nhập số thứ nhất: \"))\n",
    "b = int(input(\"Nhập số thứ hai: \"))\n",
    "c = int(input(\"Nhập số thứ ba: \"))\n",
    "d = int(input(\"Nhập số thứ tư: \"))\n",
    "e = int(input(\"Nhập số thứ năm: \"))\n",
    "\n",
    "so_lon_nhi(a, b, c, d, e)"
   ]
  },
  {
   "cell_type": "code",
   "execution_count": null,
   "id": "ccb82e67",
   "metadata": {
    "scrolled": true
   },
   "outputs": [],
   "source": [
    "####### BÍ IDEA!!!!!!!!!!!!!!!\n",
    "\n",
    "def so_lon_nhi(a, b, c, d, e):\n",
    "    if a >= e:\n",
    "        max = a\n",
    "    else:\n",
    "        max = e\n",
    "    if b >= max:\n",
    "        max = b\n",
    "    if c >= max:\n",
    "        max = c\n",
    "    if d >= max:\n",
    "        max = d\n",
    "    \n",
    "    print(\"Số lớn nhất là:\", max)\n",
    "        \n",
    "    if a == max:\n",
    "        a = \"\"\n",
    "    elif b == max:\n",
    "        b = \"\"\n",
    "    elif c == max:\n",
    "        c = \"\"\n",
    "    elif d == max:\n",
    "        d = \"\"\n",
    "    else:\n",
    "        e = \"\"\n",
    "    \n",
    "    if a >= e:\n",
    "        max = a\n",
    "    else:\n",
    "        max = e\n",
    "    if b >= max:\n",
    "        max = b\n",
    "    if c >= max:\n",
    "        max = c\n",
    "    if d >= max:\n",
    "        max = d\n",
    "    \n",
    "a = int(input(\"Nhập số thứ nhất: \"))\n",
    "b = int(input(\"Nhập số thứ hai: \"))\n",
    "c = int(input(\"Nhập số thứ ba: \"))\n",
    "d = int(input(\"Nhập số thứ tư: \"))\n",
    "e = int(input(\"Nhập số thứ năm: \"))\n",
    "\n",
    "so_lon_nhi(a, b, c, d, e)"
   ]
  },
  {
   "cell_type": "code",
   "execution_count": 3,
   "id": "12983b2b",
   "metadata": {},
   "outputs": [
    {
     "name": "stdout",
     "output_type": "stream",
     "text": [
      "Nhập số thứ nhất: 69\n",
      "Nhập số thứ hai: 96\n",
      "Nhập số thứ ba: 669\n",
      "Nhập số thứ tư: 996\n",
      "Nhập số thứ năm: 699\n",
      "\n",
      "Số lớn thứ nhì là: 699\n"
     ]
    }
   ],
   "source": [
    "###### ĐÚNG RỒI NÈ!!!!!!!!!!!!\n",
    "\n",
    "def so_lon_nhi(a, b, c, d, e):\n",
    "    if a < b:\n",
    "        a, b = b, a\n",
    "    if a < c:\n",
    "        a, c = c, a\n",
    "    if a < d:\n",
    "        a, d = d, a    \n",
    "    if a < e:\n",
    "        a, e = e, a\n",
    "    if b < c:\n",
    "        b, c = c, b\n",
    "    if b < d:\n",
    "        b, d = d, b\n",
    "    if b < e:\n",
    "        b, e = e, b\n",
    "        \n",
    "    print()\n",
    "    print(\"Số lớn thứ nhì là:\", b)\n",
    "        \n",
    "a = int(input(\"Nhập số thứ nhất: \"))\n",
    "b = int(input(\"Nhập số thứ hai: \"))\n",
    "c = int(input(\"Nhập số thứ ba: \"))\n",
    "d = int(input(\"Nhập số thứ tư: \"))\n",
    "e = int(input(\"Nhập số thứ năm: \"))\n",
    "\n",
    "so_lon_nhi(a, b, c, d, e)"
   ]
  },
  {
   "cell_type": "markdown",
   "id": "974d7da1",
   "metadata": {},
   "source": [
    "### Bài 5\n",
    "\n",
    "Nhập vào 2 cặp tọa độ tâm đường tròn và 2 bán kính R\n",
    "\n",
    "Hãy vẽ 2 hình tròn theo tọa độ và bán kính trên (tọa độ thứ nhất và bán kính thứ nhất là hình tròn thứ nhất, tọa độ thứ 2 với bán kính thứ 2 là hình tròn thứ hai)\n",
    "\n",
    "Viết hàm kiểm tra xem 2 hình tròn trên cắt nhau bao nhiêu điểm"
   ]
  },
  {
   "cell_type": "code",
   "execution_count": 2,
   "id": "f7722021",
   "metadata": {
    "scrolled": true
   },
   "outputs": [
    {
     "name": "stdout",
     "output_type": "stream",
     "text": [
      "Nhập tọa độ x1: 50\n",
      "Nhập tọa độ y1: 100\n",
      "Nhập bán kính R1: 25\n",
      "Nhập tọa độ x2: 25\n",
      "Nhập tọa độ y2: 100\n",
      "Nhập bán kính R2: 50\n",
      "Khoảng cách giữa tâm 2 hình tròn là: 25.0\n",
      "Tổng số giao điểm của 2 đương tròn trên là: 1\n"
     ]
    }
   ],
   "source": [
    "from turtle import *\n",
    "speed(1)\n",
    "\n",
    "x1 = float(input(\"Nhập tọa độ x1: \"))\n",
    "y1 = float(input(\"Nhập tọa độ y1: \"))\n",
    "R1 = float(input(\"Nhập bán kính R1: \"))\n",
    "\n",
    "x2 = float(input(\"Nhập tọa độ x2: \"))\n",
    "y2 = float(input(\"Nhập tọa độ y2: \"))\n",
    "R2 = float(input(\"Nhập bán kính R2: \"))\n",
    "\n",
    "def giao_diem_2_hinh_tron(x1, y1, R1, x2, y2, R2):\n",
    "    pu()\n",
    "    goto(x1, y1 - R1)\n",
    "    pd()\n",
    "    circle(R1)\n",
    "\n",
    "    pu()\n",
    "    goto(x2, y2)\n",
    "    d = distance(x1, y1)\n",
    "    goto(x2, y2 - R2)\n",
    "    pd()\n",
    "    circle(R2)\n",
    "\n",
    "    print(\"Khoảng cách giữa tâm 2 hình tròn là:\", d)\n",
    "    \n",
    "    if d == 0 and R1 == R2: # Cùng tâm và bán kính\n",
    "        print(\"2 đường tròn trên có vô số giao điểm (2 đường tròn trùng nhau)\")\n",
    "    elif d < abs(R1 - R2) or d > R1 + R2: # Ở trong hoặc ngoài nhau\n",
    "        print(\"2 đường tròn trên không có giao điểm nào (không cắt nhau)\")\n",
    "    elif d == R1 + R2 or d == abs(R1 - R2): # Ngoại tiếp or nội tiếp\n",
    "        print(\"Tổng số giao điểm của 2 đương tròn trên là: 1\")\n",
    "    elif abs(R1 - R2) < d < R1 + R2: # Cắt nhau\n",
    "        print(\"Tổng số giao điểm của 2 đường tròn trên là: 2\")\n",
    "    \n",
    "giao_diem_2_hinh_tron(x1, y1, R1, x2, y2, R2)"
   ]
  },
  {
   "cell_type": "markdown",
   "id": "a2157de8",
   "metadata": {},
   "source": [
    "### Bài 6\n",
    "\n",
    "Nhập vào 2 tọa độ là 2 đỉnh của một hình chữ nhật\n",
    "\n",
    "Sau đó\n",
    "\n",
    "Nhập vào tọa độ tâm đường tròn và bán kính R\n",
    "\n",
    "Hãy vẽ hình hình chữ nhật và đường tròn trên\n",
    "\n",
    "Viết hàm kiểm tra xem đường tròn trên và hình chữ nhật cắt nhau tại bao nhiêu điểm"
   ]
  },
  {
   "cell_type": "code",
   "execution_count": 1,
   "id": "e0d7b1a2",
   "metadata": {
    "scrolled": true
   },
   "outputs": [
    {
     "name": "stdout",
     "output_type": "stream",
     "text": [
      "Nhập toạ độ đỉnh x1: 50\n",
      "Nhập toạ độ đỉnh y1: 100\n",
      "Nhập toạ độ đỉnh x2: 100\n",
      "Nhập toạ độ đỉnh y2: 200\n",
      "Nhập toạ độ tâm đường tròn x: 150\n",
      "Nhập toạ độ tâm đường tròn y: 100\n",
      "Nhập bán kính đường tròn: 50\n"
     ]
    }
   ],
   "source": [
    "from turtle import *\n",
    "\n",
    "x1 = float(input(\"Nhập toạ độ đỉnh x1: \"))\n",
    "y1 = float(input(\"Nhập toạ độ đỉnh y1: \"))\n",
    "\n",
    "x2 = float(input(\"Nhập toạ độ đỉnh x2: \"))\n",
    "y2 = float(input(\"Nhập toạ độ đỉnh y2: \"))\n",
    "\n",
    "x = float(input(\"Nhập toạ độ tâm đường tròn x: \"))\n",
    "y = float(input(\"Nhập toạ độ tâm đường tròn y: \"))\n",
    "r = float(input(\"Nhập bán kính đường tròn: \"))\n",
    "\n",
    "pu()\n",
    "goto(x, y - r) # Đi đến đáy hình tròn\n",
    "pd()\n",
    "circle(r) # Vẽ hình tròn\n",
    "\n",
    "pu()\n",
    "goto(x1, y1) # Đỉnh 1\n",
    "pd()\n",
    "goto(x1, y2) # Đỉnh 3\n",
    "goto(x2, y2) # Đỉnh 2\n",
    "d = distance(x1, y1) # Chiều dài đường chéo hình chữ nhật (hcn)\n",
    "goto(x2, y1) # Đỉnh 4\n",
    "goto(x1, y1) # Vẽ xong hcn\n",
    "\n",
    "def giao_diem():\n",
    "    if (x1 + x2) / 2 == x and (y1 + y2) / 2 == y: # Nếu tâm đối xứng hcn trùng với tâm đường tròn\n",
    "        if d / 2 == r: # Nếu một phần hai đường chéo của hcn bằng với bán kinh hình tròn\n",
    "            print(\"Có tất cả 4 giao điểm (hình chữ nhật nội tiếp hình tròn)\")\n",
    "        elif d / 2 > r:\n",
    "            print(\"\")"
   ]
  },
  {
   "cell_type": "markdown",
   "id": "d1491579",
   "metadata": {},
   "source": [
    "### Bài 7\n",
    "\n",
    "Viết hàm kiểm tra số nguyên tố\n",
    "\n",
    "Viết hàm kiểm tra số hoàn hảo\n",
    "\n",
    "Viết hàm kiểm tra số chính phương\n",
    "\n",
    "Viết hàm kiểm tra số Armstrong\n",
    "\n",
    "Nhập vào một chuỗi, hãy lọc và tìm ra những số ở trong chuỗi (2 chữ số liền nhau là một chuỗi)\n",
    "\n",
    "Ví dụ chuỗi: \"AB25SDc5DSjjh52\"\n",
    "\n",
    "Trong chuỗi này ta có 3 số: 25, 5 và 52\n",
    "\n",
    "Sau khi lọc số, dùng các hàm trên để kiểm tra và thực hiện như sau:\n",
    "\n",
    "Cho biến S\n",
    "\n",
    "- Nếu số đó là số nguyên tố, ta thực hiện S += số đó\n",
    "- Nếu số đó là số hoàn hảo, ta thực hiện S -= số đó\n",
    "- Nếu số đó là số chính phương, ta thực hiện S /= số đó\n",
    "- Nếu đó là số Armstrong ta cho S = 0\n",
    "\n",
    "Hãy tính và in S"
   ]
  },
  {
   "cell_type": "code",
   "execution_count": 2,
   "id": "0b699e33",
   "metadata": {
    "scrolled": true
   },
   "outputs": [
    {
     "name": "stdout",
     "output_type": "stream",
     "text": [
      "Nhập số a: 13\n",
      "True\n",
      "Nhập số b: 6\n",
      "True\n",
      "Nhập số c: 4\n",
      "True\n",
      "Nhập số d: 153\n",
      "True\n",
      "Nhập vào một chuỗi: AB25SDc5DSjjh52\n",
      "5.0\n"
     ]
    }
   ],
   "source": [
    "def so_nguyen_to(a): # Hàm kiểm tra số nguyên tố\n",
    "    flag = True\n",
    "    if a > 1:\n",
    "        for i in range(2, a):\n",
    "            if a % i == 0:\n",
    "                flag = False\n",
    "    if flag and a > 1:\n",
    "        return True\n",
    "    else:\n",
    "        return False\n",
    "    \n",
    "a = int(input(\"Nhập số a: \")) # Nhập số để kiểm tra số nguyên tố\n",
    "\n",
    "print(so_nguyen_to(a)) # In kết quả của hàm kiểm tra số nguyên tố\n",
    "\n",
    "def so_hoan_hao(b): # Hàm kiểm tra số hoàn hảo\n",
    "    tong = 0\n",
    "    for i in range(1, b):\n",
    "        if b % i == 0:\n",
    "            tong += i\n",
    "            \n",
    "    if tong == b:\n",
    "        return True\n",
    "    else:\n",
    "        return False\n",
    "    \n",
    "b = int(input(\"Nhập số b: \")) # Nhập số để kiểm tra số hoàn hảo\n",
    "        \n",
    "print(so_hoan_hao(b)) # In kết quả của hàm kiểm tra số hoàn hảo\n",
    "\n",
    "def so_chinh_phuong(c): # Hàm kiểm tra số chính phương\n",
    "    if c >= 0:\n",
    "        if c ** 0.5 == int(c ** 0.5):\n",
    "            return True\n",
    "    return False\n",
    "    \n",
    "c = float(input(\"Nhập số c: \")) # Nhập số để kiểm tra số chính phương\n",
    "\n",
    "print(so_chinh_phuong(c)) # In kết quả của hàm kiểm tra số chính phương\n",
    "    \n",
    "def so_armstrong(d): # Tạo hàm kiểm tra số Armstrong\n",
    "    tong = 0\n",
    "    for i in d:\n",
    "        tong += int(i) ** len(d)\n",
    "    if int(d) == tong:\n",
    "        return True\n",
    "    return False\n",
    "        \n",
    "d = input(\"Nhập số d: \") # Nhập số để kiểm tra số Armstrong\n",
    "\n",
    "print(so_armstrong(d)) # In ra kết quả hàm kiểm tra số Armstrong\n",
    "\n",
    "chuoi = input(\"Nhập vào một chuỗi: \")\n",
    "def loc_so_va_kiem_tra(chuoi):\n",
    "    S = 0\n",
    "    so = \"\"\n",
    "\n",
    "    for i in chuoi:\n",
    "        if i.isdigit():\n",
    "            so += i\n",
    "        elif so != \"\":\n",
    "            so = int(so)\n",
    "            \n",
    "            if so_nguyen_to(so) == True:\n",
    "                S += so\n",
    "            elif so_hoan_hao(so) == True:\n",
    "                S -= so\n",
    "            elif so_chinh_phuong(so) == True:\n",
    "                S /= so\n",
    "            elif so_armstrong(str(so)) == True:\n",
    "                S = 0\n",
    "            \n",
    "            so = \"\"\n",
    "            chuoi = chuoi[chuoi.index(i):]\n",
    "\n",
    "    print(S)\n",
    "    \n",
    "loc_so_va_kiem_tra(chuoi)"
   ]
  },
  {
   "cell_type": "code",
   "execution_count": 40,
   "id": "1b454bb5",
   "metadata": {},
   "outputs": [
    {
     "data": {
      "text/plain": [
       "True"
      ]
     },
     "execution_count": 40,
     "metadata": {},
     "output_type": "execute_result"
    }
   ],
   "source": [
    "def so_hoan_hao(b): # Hàm kiểm tra số hoàn hảo\n",
    "    tong = 0\n",
    "    for i in range(1, b):\n",
    "        if b % i == 0:\n",
    "            tong += i\n",
    "            \n",
    "    if tong == b and b > 0:\n",
    "        return True\n",
    "    else:\n",
    "        return False\n",
    "    \n",
    "so_hoan_hao(6)"
   ]
  },
  {
   "cell_type": "code",
   "execution_count": 38,
   "id": "f194f188",
   "metadata": {},
   "outputs": [
    {
     "data": {
      "text/plain": [
       "True"
      ]
     },
     "execution_count": 38,
     "metadata": {},
     "output_type": "execute_result"
    }
   ],
   "source": [
    "def scp(a):\n",
    "    if (a**0.5)%1 == 0:\n",
    "        return True\n",
    "    return False\n",
    "\n",
    "scp(9)"
   ]
  },
  {
   "cell_type": "code",
   "execution_count": 41,
   "id": "2d122630",
   "metadata": {},
   "outputs": [
    {
     "ename": "TypeError",
     "evalue": "object of type 'int' has no len()",
     "output_type": "error",
     "traceback": [
      "\u001b[1;31m---------------------------------------------------------------------------\u001b[0m",
      "\u001b[1;31mTypeError\u001b[0m                                 Traceback (most recent call last)",
      "Input \u001b[1;32mIn [41]\u001b[0m, in \u001b[0;36m<cell line: 1>\u001b[1;34m()\u001b[0m\n\u001b[1;32m----> 1\u001b[0m \u001b[38;5;28mprint\u001b[39m(\u001b[38;5;28;43mlen\u001b[39;49m\u001b[43m(\u001b[49m\u001b[38;5;241;43m123\u001b[39;49m\u001b[43m)\u001b[49m)\n",
      "\u001b[1;31mTypeError\u001b[0m: object of type 'int' has no len()"
     ]
    }
   ],
   "source": [
    "print(len(123))"
   ]
  }
 ],
 "metadata": {
  "kernelspec": {
   "display_name": "Python 3 (ipykernel)",
   "language": "python",
   "name": "python3"
  },
  "language_info": {
   "codemirror_mode": {
    "name": "ipython",
    "version": 3
   },
   "file_extension": ".py",
   "mimetype": "text/x-python",
   "name": "python",
   "nbconvert_exporter": "python",
   "pygments_lexer": "ipython3",
   "version": "3.9.12"
  }
 },
 "nbformat": 4,
 "nbformat_minor": 5
}
