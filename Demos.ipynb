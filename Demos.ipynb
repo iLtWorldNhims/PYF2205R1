{
 "cells": [
  {
   "cell_type": "code",
   "execution_count": 23,
   "id": "94dab1fe",
   "metadata": {},
   "outputs": [
    {
     "name": "stdout",
     "output_type": "stream",
     "text": [
      "2329670714192\n",
      "2329670713872\n"
     ]
    }
   ],
   "source": [
    "a = 10\n",
    "b = 20\n",
    "print(id(b))\n",
    "print(id(a))"
   ]
  },
  {
   "cell_type": "code",
   "execution_count": 18,
   "id": "49e5640d",
   "metadata": {},
   "outputs": [
    {
     "data": {
      "text/plain": [
       "2329670713872"
      ]
     },
     "execution_count": 18,
     "metadata": {},
     "output_type": "execute_result"
    }
   ],
   "source": [
    "id(a)"
   ]
  },
  {
   "cell_type": "code",
   "execution_count": 24,
   "id": "0d1bd19f",
   "metadata": {},
   "outputs": [
    {
     "data": {
      "text/plain": [
       "2329670714192"
      ]
     },
     "execution_count": 24,
     "metadata": {},
     "output_type": "execute_result"
    }
   ],
   "source": [
    "id(b)"
   ]
  },
  {
   "cell_type": "code",
   "execution_count": 26,
   "id": "dd60e2de",
   "metadata": {},
   "outputs": [
    {
     "data": {
      "text/plain": [
       "True"
      ]
     },
     "execution_count": 26,
     "metadata": {},
     "output_type": "execute_result"
    }
   ],
   "source": [
    "a is a"
   ]
  },
  {
   "cell_type": "code",
   "execution_count": 27,
   "id": "3ef1df3e",
   "metadata": {},
   "outputs": [
    {
     "data": {
      "text/plain": [
       "False"
      ]
     },
     "execution_count": 27,
     "metadata": {},
     "output_type": "execute_result"
    }
   ],
   "source": [
    "a is b"
   ]
  },
  {
   "cell_type": "code",
   "execution_count": 28,
   "id": "1247dff2",
   "metadata": {},
   "outputs": [
    {
     "data": {
      "text/plain": [
       "True"
      ]
     },
     "execution_count": 28,
     "metadata": {},
     "output_type": "execute_result"
    }
   ],
   "source": [
    "a is not b"
   ]
  },
  {
   "cell_type": "code",
   "execution_count": 29,
   "id": "dbbbad1b",
   "metadata": {},
   "outputs": [
    {
     "name": "stdout",
     "output_type": "stream",
     "text": [
      "id of myList 2329752678336\n",
      "id of myTempList 2329752678336\n",
      "['Orange', 'Apple', 'Grapes', 'Mango']\n",
      "['Orange', 'Apple', 'Grapes', 'Mango']\n",
      "<class 'list'>\n"
     ]
    }
   ],
   "source": [
    "# Một danh sách được tạo sẵn\n",
    "myList = [\"Orange\", \"Apple\",\"Grapes\"]\n",
    "# Hàm sẽ thêm 1 phần tử vào danh sách\n",
    "def addItem(myTempList):\n",
    "    print('id of myTempList', id(myTempList))\n",
    "    myTempList += [\"Mango\"]\n",
    "    print(myTempList)\n",
    "#In ra kết quả\n",
    "print('id of myList', id(myList))\n",
    "addItem(myList)\n",
    "print(myList)\n",
    "print(type(myList))"
   ]
  },
  {
   "cell_type": "markdown",
   "id": "f8fe3dd9",
   "metadata": {
    "slideshow": {
     "slide_type": "notes"
    },
    "tags": [
     "cocaiconcac",
     "cocailon",
     "co",
     "cai",
     "dau",
     "buoi"
    ]
   },
   "source": [
    "Hello, World!"
   ]
  },
  {
   "cell_type": "markdown",
   "id": "e2d53577",
   "metadata": {
    "tags": [
     "Headings"
    ]
   },
   "source": [
    "# This is a level 1 heading\n",
    "## This is a level 2 heading\n",
    "### This is a level 3 heading\n",
    "#### This is a level 4 heading\n",
    "##### This is a level 5 heading\n",
    "###### This is a level 6 heading\n",
    "####### This is not a heading"
   ]
  },
  {
   "cell_type": "code",
   "execution_count": 30,
   "id": "aefd3a87",
   "metadata": {},
   "outputs": [],
   "source": [
    "def function(arg_one, arg_two,\n",
    "             \targ_three, arg_four):\n",
    "    \treturn arg_one"
   ]
  },
  {
   "cell_type": "code",
   "execution_count": 31,
   "id": "9517e011",
   "metadata": {},
   "outputs": [
    {
     "name": "stdout",
     "output_type": "stream",
     "text": [
      "1\n"
     ]
    }
   ],
   "source": [
    "print(function(1,2,3,4))"
   ]
  },
  {
   "cell_type": "code",
   "execution_count": 32,
   "id": "12122350",
   "metadata": {
    "tags": [
     "Comment",
     "(bình",
     "luận)"
    ]
   },
   "outputs": [],
   "source": [
    "def   quadratic(a, b, c, x):\n",
    "    # Tính toán nghiệm của một phương trình bậc hai bằng cách sử dụng bậc hai\n",
    "    # Công thức\n",
    "    #\n",
    "    # Luôn có hai nghiệm của phương trình bậc hai, x_1 và x_2.\n",
    "    x_1 = (- b+(b**2-4*a*c)**(1/2)) / (2*a)\n",
    "    x_2 = (- b-(b**2-4*a*c)**(1/2)) / (2*a)\n",
    "    return x_1, x_2"
   ]
  },
  {
   "cell_type": "code",
   "execution_count": 34,
   "id": "697bda42",
   "metadata": {},
   "outputs": [
    {
     "name": "stdout",
     "output_type": "stream",
     "text": [
      "(-0.029691072509530743, -11.226719183900727)\n"
     ]
    }
   ],
   "source": [
    "print(quadratic(39,439,13,3))"
   ]
  },
  {
   "cell_type": "code",
   "execution_count": 38,
   "id": "e5ea8e7c",
   "metadata": {
    "tags": [
     "Sai"
    ]
   },
   "outputs": [],
   "source": [
    "def    sum_number_v1(number1, number2  =  0):\n",
    "\ttotal  = number1 + number2\n",
    "\treturn total"
   ]
  },
  {
   "cell_type": "code",
   "execution_count": null,
   "id": "8b0f8b11",
   "metadata": {
    "tags": [
     "Đúng"
    ]
   },
   "outputs": [],
   "source": [
    "def    sum_number_v1(number1, number2=0):\n",
    "\ttotal  = number1 + number2\n",
    "\treturn total"
   ]
  },
  {
   "cell_type": "code",
   "execution_count": 37,
   "id": "d328d4ad",
   "metadata": {},
   "outputs": [
    {
     "name": "stdout",
     "output_type": "stream",
     "text": [
      "124\n"
     ]
    }
   ],
   "source": [
    "print(sum_number_v1(124))"
   ]
  },
  {
   "cell_type": "code",
   "execution_count": 39,
   "id": "5671ec10",
   "metadata": {
    "tags": [
     "Sai"
    ]
   },
   "outputs": [],
   "source": [
    "def  calulate_number_v1():\n",
    "\tnumber1 = 10\n",
    "\tnumber2 = 20\n",
    "\ttotal = number1   +number2\n",
    "\tminus = number1-  number2\n",
    "\treturn total,  minus"
   ]
  },
  {
   "cell_type": "code",
   "execution_count": 40,
   "id": "2386e4d9",
   "metadata": {
    "tags": [
     "Đúng"
    ]
   },
   "outputs": [],
   "source": [
    "def  calulate_number_v1():\n",
    "\tnumber1 = 10\n",
    "\tnumber2 = 20\n",
    "\ttotal = number1 + number2\n",
    "\tminus = number1-number2\n",
    "\treturn total,  minus"
   ]
  },
  {
   "cell_type": "code",
   "execution_count": 41,
   "id": "b48052fd",
   "metadata": {},
   "outputs": [
    {
     "name": "stdout",
     "output_type": "stream",
     "text": [
      "(30, -10)\n"
     ]
    }
   ],
   "source": [
    "print(calulate_number_v1())"
   ]
  },
  {
   "cell_type": "code",
   "execution_count": 45,
   "id": "f52a57f8",
   "metadata": {},
   "outputs": [
    {
     "name": "stdout",
     "output_type": "stream",
     "text": [
      "[1, 2, 22, 45, 33, 3]\n"
     ]
    }
   ],
   "source": [
    "numbers = [1, 2, 66, 22, 45, 33, 3]\n",
    "\n",
    "def remove_largest_number(numbers):\n",
    "    largest = 0\n",
    "    for number in numbers:\n",
    "        if number > largest:\n",
    "            largest = number\n",
    "    numbers.remove(largest)\n",
    "\n",
    "\n",
    "remove_largest_number(numbers)\n",
    "print(numbers)"
   ]
  },
  {
   "cell_type": "code",
   "execution_count": 1,
   "id": "32f67503",
   "metadata": {
    "tags": [
     "Vẽ",
     "36",
     "hình",
     "vuông",
     "thành",
     "vỏng",
     "tròn",
     "với",
     "mỗi",
     "cách",
     "nhau",
     "một",
     "góc",
     "là",
     "10",
     "độ"
    ]
   },
   "outputs": [],
   "source": [
    "import turtle\n",
    "square = turtle.Turtle()\n",
    "\n",
    "square.speed(0)\n",
    "\n",
    "def draw_square(angle):\n",
    "    for i in range(3):\n",
    "        square.forward(100)\n",
    "        square.right(90)    \n",
    "\n",
    "    square.forward(100)\n",
    "    square.right(90 + angle)\n",
    "    \n",
    "step = 360\n",
    "angle = 360 / step\n",
    "for i in range(step):\n",
    "    draw_square(angle) \n",
    "\n",
    "square.forward(300)\n",
    "    \n",
    "for i in range(step):\n",
    "    draw_square(angle) \n",
    "    \n",
    "turtle.done()"
   ]
  },
  {
   "cell_type": "code",
   "execution_count": 2,
   "id": "c6ab5806",
   "metadata": {},
   "outputs": [
    {
     "name": "stdout",
     "output_type": "stream",
     "text": [
      "Fruits inside function ['Orange', 'Apple', 'Grapes', 'Mango']\n",
      "Fruits outside function ['Orange', 'Apple', 'Grapes', 'Mango']\n"
     ]
    }
   ],
   "source": [
    "fruits = [\"Orange\", \"Apple\", \"Grapes\"]\n",
    "\n",
    "def add_fruit(fruits, fruit_to_add):    \n",
    "    fruits.append(fruit_to_add)    \n",
    "    print('Fruits inside function', fruits)\n",
    "\n",
    "fruit_to_add = \"Mango\"\n",
    "add_fruit(fruits, fruit_to_add)\n",
    "print('Fruits outside function', fruits)"
   ]
  },
  {
   "cell_type": "code",
   "execution_count": 1,
   "id": "934aea7d",
   "metadata": {},
   "outputs": [
    {
     "name": "stdout",
     "output_type": "stream",
     "text": [
      "Enter first number: 61\n",
      "Enter second number: 2002\n",
      "Enter the operation +, -, *, / :*\n",
      "61 * 2002 = 122122\n"
     ]
    }
   ],
   "source": [
    "def add(num1, num2):\n",
    "    return num1 + num2\n",
    "  \n",
    "def subtract(num1, num2):\n",
    "    return num1 - num2\n",
    "  \n",
    "def multiply(num1, num2):\n",
    "    return num1 * num2\n",
    "\n",
    "def divide(num1, num2):\n",
    "    return num1 / num2\n",
    "    \n",
    "number_1 = int(input(\"Enter first number: \"))\n",
    "number_2 = int(input(\"Enter second number: \"))\n",
    "option = input(\"Enter the operation +, -, *, / :\")\n",
    "\n",
    "if option == '+':\n",
    "    print(number_1, \"+\", number_2, \"=\", add(number_1, number_2))\n",
    "  \n",
    "elif option == '-':\n",
    "    print(number_1, \"-\", number_2, \"=\", subtract(number_1, number_2))\n",
    "  \n",
    "elif option == '*':\n",
    "    print(number_1, \"*\", number_2, \"=\", multiply(number_1, number_2))\n",
    "  \n",
    "elif option == '/':\n",
    "    print(number_1, \"/\", number_2, \"=\", divide(number_1, number_2))\n",
    "    \n",
    "else:\n",
    "    print(\"Invalid input\")"
   ]
  },
  {
   "cell_type": "code",
   "execution_count": 2,
   "id": "6be9b877",
   "metadata": {},
   "outputs": [
    {
     "name": "stdout",
     "output_type": "stream",
     "text": [
      "This is line 1\n",
      "This is line 2\n",
      "This is line 3\n"
     ]
    }
   ],
   "source": [
    "paragraph = \"\"\"This is line 1\n",
    "This is line 2\n",
    "This is line 3\"\"\"\n",
    "\n",
    "print(paragraph)"
   ]
  },
  {
   "cell_type": "code",
   "execution_count": null,
   "id": "2ff2633b",
   "metadata": {},
   "outputs": [],
   "source": []
  }
 ],
 "metadata": {
  "celltoolbar": "Tags",
  "kernelspec": {
   "display_name": "Python 3 (ipykernel)",
   "language": "python",
   "name": "python3"
  },
  "language_info": {
   "codemirror_mode": {
    "name": "ipython",
    "version": 3
   },
   "file_extension": ".py",
   "mimetype": "text/x-python",
   "name": "python",
   "nbconvert_exporter": "python",
   "pygments_lexer": "ipython3",
   "version": "3.10.5"
  }
 },
 "nbformat": 4,
 "nbformat_minor": 5
}
