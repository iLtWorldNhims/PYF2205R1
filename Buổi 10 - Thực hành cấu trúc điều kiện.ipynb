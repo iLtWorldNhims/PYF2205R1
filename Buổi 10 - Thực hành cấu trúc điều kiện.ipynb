{
 "cells": [
  {
   "cell_type": "markdown",
   "id": "dcdb816e",
   "metadata": {},
   "source": [
    "# Thực hành cấu trúc điều khiển\n",
    "\n",
    "### Bài 1\n",
    "\n",
    "Cho phương trình bậc 2: ax^2 + bx + c = 0\n",
    "\n",
    "Nhập a, b, c\n",
    "\n",
    "Giải và biện luận phương trình trên"
   ]
  },
  {
   "cell_type": "code",
   "execution_count": 9,
   "id": "b5a5c325",
   "metadata": {},
   "outputs": [
    {
     "name": "stdout",
     "output_type": "stream",
     "text": [
      "Nhập a: 1\n",
      "Nhập b: -6\n",
      "Nhập c: 8\n",
      "Phương trình trên có 2 nghiệm đó là:  4.0 và 2.0\n"
     ]
    }
   ],
   "source": [
    "a = float(input(\"Nhập a: \"))\n",
    "b = float(input(\"Nhập b: \"))\n",
    "c = float(input(\"Nhập c: \"))\n",
    "if a == 0:\n",
    "    if b == 0:\n",
    "        if c == 0:\n",
    "            print(\"Phương trình có vô số nghiệm!\")\n",
    "        else:\n",
    "            print(\"Phương trình vô nghiệm!\")\n",
    "else:\n",
    "    delta = b ** 2 - 4 * a * c\n",
    "    if delta < 0:\n",
    "        print(\"Phương trình vô nghiệm!\")\n",
    "    elif delta == 0:\n",
    "        x = -b / (2 * a)\n",
    "        print(\"Phương trình trên có 1 nghiệm duy nhất đó là: \", x)\n",
    "    else:\n",
    "        x1 = (-b + delta ** 0.5 ) / (2 * a)\n",
    "        x2 = (-b - delta ** 0.5) / (2 * a)\n",
    "        print(\"Phương trình trên có 2 nghiệm đó là: \", x1, \"và\", x2)"
   ]
  },
  {
   "cell_type": "markdown",
   "id": "6f7d329d",
   "metadata": {},
   "source": [
    "### Bài 2\n",
    "\n",
    "Hãy nhập vào một số\n",
    "\n",
    "Xác định coi đó có phải là số nguyên tố hay không"
   ]
  },
  {
   "cell_type": "code",
   "execution_count": 17,
   "id": "049c85f5",
   "metadata": {},
   "outputs": [
    {
     "name": "stdout",
     "output_type": "stream",
     "text": [
      "Nhap vao mot so: 8\n",
      "8 khong phai la so nguyen to!\n"
     ]
    }
   ],
   "source": [
    "a = int(input(\"Nhap vao mot so: \"))\n",
    "\n",
    "k = 2\n",
    "\n",
    "co = True\n",
    "\n",
    "if a > 1:\n",
    "\tfor i in range(2, a):\n",
    "\t\tif a % k == 0:\n",
    "            co = False\n",
    "\tk += 1\n",
    "\tif co == True:\n",
    "\t\tprint(a,  \"la so nguyen to!\")\n",
    "\telse:\n",
    "\t\tprint(a, \"khong phai la so nguyen to!\")\n",
    "else:\n",
    "\tprint(a, \"khong phai la so nguyen to!\")"
   ]
  },
  {
   "cell_type": "code",
   "execution_count": 21,
   "id": "7c6092d4",
   "metadata": {},
   "outputs": [
    {
     "name": "stdout",
     "output_type": "stream",
     "text": [
      "Nhap vao mot so: 2\n",
      "2 la so nguyen to!\n"
     ]
    }
   ],
   "source": [
    "a = int(input(\"Nhap vao mot so: \"))\n",
    "\n",
    "k = 2\n",
    "## Nhập a = 8\n",
    "co = True\n",
    "\n",
    "if a > 1:\n",
    "    for i in range(2, a): ## nếu như nhập a = 8 thì i sẽ chạy từ 2 đến 7\n",
    "        co = a % i != 0 ## biến cờ luôn bị ghi đè ~~> giá trị biến co = 8 % 7 != 0 ~~> là true\n",
    "    if co == True:\n",
    "        print(a,  \"la so nguyen to!\")\n",
    "    else:\n",
    "        print(a, \"khong phai la so nguyen to!\")\n",
    "else:\n",
    "    print(a, \"khong phai la so nguyen to!\")"
   ]
  },
  {
   "cell_type": "markdown",
   "id": "75f7717b",
   "metadata": {},
   "source": [
    "### Bài 3\n",
    "\n",
    "Hãy nhập vào số n\n",
    "\n",
    "Hãy đếm số chữ số 0 tận cùng của n giai thừa\n",
    "\n",
    "(Bài này nâng cao, mọi người có thể bỏ qua)"
   ]
  },
  {
   "cell_type": "code",
   "execution_count": null,
   "id": "789e0e76",
   "metadata": {},
   "outputs": [],
   "source": []
  },
  {
   "cell_type": "markdown",
   "id": "29cd6c81",
   "metadata": {},
   "source": [
    "### Bài 4\n",
    "\n",
    "In ra tất cả các số chia hết cho 3 nhỏ hơn 100"
   ]
  },
  {
   "cell_type": "code",
   "execution_count": 10,
   "id": "0b848981",
   "metadata": {},
   "outputs": [
    {
     "name": "stdout",
     "output_type": "stream",
     "text": [
      "0\n",
      "3\n",
      "6\n",
      "9\n",
      "12\n",
      "15\n",
      "18\n",
      "21\n",
      "24\n",
      "27\n",
      "30\n",
      "33\n",
      "36\n",
      "39\n",
      "42\n",
      "45\n",
      "48\n",
      "51\n",
      "54\n",
      "57\n",
      "60\n",
      "63\n",
      "66\n",
      "69\n",
      "72\n",
      "75\n",
      "78\n",
      "81\n",
      "84\n",
      "87\n",
      "90\n",
      "93\n",
      "96\n",
      "99\n"
     ]
    }
   ],
   "source": [
    "k = 0\n",
    "for i in range(100):\n",
    "    if k % 3 == 0:\n",
    "        print(k)\n",
    "    k += 1   "
   ]
  },
  {
   "cell_type": "markdown",
   "id": "04dbf99b",
   "metadata": {},
   "source": [
    "### Bài 5\n",
    "\n",
    "In ra tất cả các số lẻ nhưng không chia hết cho 3 nhỏ hơn 100"
   ]
  },
  {
   "cell_type": "code",
   "execution_count": 2,
   "id": "769eb439",
   "metadata": {},
   "outputs": [
    {
     "name": "stdout",
     "output_type": "stream",
     "text": [
      "1\n",
      "5\n",
      "7\n",
      "11\n",
      "13\n",
      "17\n",
      "19\n",
      "23\n",
      "25\n",
      "29\n",
      "31\n",
      "35\n",
      "37\n",
      "41\n",
      "43\n",
      "47\n",
      "49\n",
      "53\n",
      "55\n",
      "59\n",
      "61\n",
      "65\n",
      "67\n",
      "71\n",
      "73\n",
      "77\n",
      "79\n",
      "83\n",
      "85\n",
      "89\n",
      "91\n",
      "95\n",
      "97\n"
     ]
    }
   ],
   "source": [
    "n = 0\n",
    "for i in range(100):\n",
    "    if n % 3 != 0 and n % 2 != 0:\n",
    "        print(n)\n",
    "    n += 1"
   ]
  },
  {
   "cell_type": "markdown",
   "id": "26dd47fb",
   "metadata": {},
   "source": [
    "### Bài 5\n",
    "\n",
    "Tại một cửa hàng nọ có menu như sau:\n",
    "\n",
    "1. Gà rán giá 35k\n",
    "2. Hamburger giá 50k\n",
    "3. Pesi giá 10k\n",
    "\n",
    "Nhập số lượng món hàng cần mua\n",
    "\n",
    "Tính và in ra tổng giá tiền (hiển thị có dấu chấm mỗi 3 chữ số để người dùng để quan sát)\n",
    "\n",
    "Nếu giá trị đơn hàng trên 2 triệu, giảm 10% cho khách, trên 4 triệu, giảm 15%\n",
    "\n",
    "Tính và in ra tổng giá tiền được giảm (hiển thị có dấu chấm mỗi 3 chữ số để người dùng để quan sát)\n",
    "\n",
    "Tính và in ra tổng giá tiền khách cần trả (hiển thị có dấu chấm mỗi 3 chữ số để người dùng để quan sát)\n",
    "\n",
    "In ra dòng chữ \"Cảm ơn quý khách đã mua hàng\""
   ]
  },
  {
   "cell_type": "code",
   "execution_count": 1,
   "id": "8509df1e",
   "metadata": {
    "scrolled": true
   },
   "outputs": [
    {
     "name": "stdout",
     "output_type": "stream",
     "text": [
      "Gà rán giá 35k\n",
      "Hamburger giá 50k\n",
      "Gà rán giá 35k\n",
      "Mời quý khách nhập số lượng gà rán cần mua: 90\n",
      "Mời quý khách nhập số lượng hamburger cần mua: 99\n",
      "Mời quý khách nhập số lượng pepsi cần mua: 100\n",
      "1,234,567\n",
      "Tổng số tiền trước khuyen mai của quý khách là: 9,100,000 VND\n",
      "Quy khach duoc giam 10%: 910,000 VND\n",
      "Tổng số tiền quy khach can phai thanh toan là: 8,190,000 VND\n",
      "Cảm ơn quý khách đã mua hàng và sử dụng dịch vụ của chúng tôi! Hẹn gặp lại quý khách.\n"
     ]
    }
   ],
   "source": [
    "print(\"Gà rán giá 35k\")\n",
    "print(\"Hamburger giá 50k\")\n",
    "print(\"Gà rán giá 35k\")\n",
    "\n",
    "a = int(input(\"Mời quý khách nhập số lượng gà rán cần mua: \"))\n",
    "b = int(input(\"Mời quý khách nhập số lượng hamburger cần mua: \"))\n",
    "c = int(input(\"Mời quý khách nhập số lượng pepsi cần mua: \"))\n",
    "\n",
    "ga_ran = 35000 * a\n",
    "hamburger = 50000 * b\n",
    "pepsi = 10000 * c\n",
    "\n",
    "tong_tien = ga_ran + hamburger + pepsi\n",
    "\n",
    "sau_giam = 0\n",
    "\n",
    "print(format(1234567, ',d'))\n",
    "\n",
    "off = \"0%\"\n",
    "print(\"Tổng số tiền trước khuyen mai của quý khách là:\", str(format(tong_tien, ',d')), \"VND\")\n",
    "\n",
    "if tong_tien > 2000000:\n",
    "    sau_giam = tong_tien * 0.9\n",
    "    off = \"10%\"\n",
    "elif tong_tien > 4000000:\n",
    "    sau_giam = tong_tien * 0.85\n",
    "    off = \"15%\"\n",
    "else:\n",
    "    sau_giam = tong_tien\n",
    "    \n",
    "giam = int(tong_tien - sau_giam)\n",
    "\n",
    "print(\"Quy khach duoc giam\", off + \":\", format(giam, ',d'), \"VND\")\n",
    "\n",
    "print(\"Tổng số tiền quy khach can phai thanh toan là:\", str(format(int(sau_giam), ',d')), \"VND\")\n",
    "\n",
    "print(\"Cảm ơn quý khách đã mua hàng và sử dụng dịch vụ của chúng tôi! Hẹn gặp lại quý khách.\")"
   ]
  },
  {
   "cell_type": "code",
   "execution_count": 13,
   "id": "d932dc81",
   "metadata": {},
   "outputs": [
    {
     "name": "stdout",
     "output_type": "stream",
     "text": [
      "700.000\n"
     ]
    }
   ],
   "source": [
    "tong_tam = \"\"\n",
    "tong = str(tong)\n",
    "k = -1\n",
    "dem = 0\n",
    "\n",
    "for i in range(len(tong)):\n",
    "    tong_tam += tong[k]\n",
    "    dem += 1\n",
    "    if dem == 3:\n",
    "        tong_tam += \".\"\n",
    "        dem = 0\n",
    "    k -= 1\n",
    "    \n",
    "tong = tong_tam[::-1]\n",
    "if tong[0] == \".\":\n",
    "    tong = tong[1:]\n",
    "print(tong)"
   ]
  },
  {
   "cell_type": "markdown",
   "id": "ab10a1ce",
   "metadata": {},
   "source": [
    "### Bài 6\n",
    "\n",
    "Nhập vào chiều cao (cm) và cân nặng (kg), tính số BMI và xét rồi xin kết quả theo dữ liệu sau:\n",
    "\n",
    "- BMI < 16: Gầy cấp độ III\n",
    "- 16 <= BMI < 17:  Gầy cấp độ II\n",
    "- 17<= BMI < 18.5: Gầy cấp độ I\n",
    "- 18.5 <= BMI < 25: Bình thường\n",
    "- 25 <= BMI < 30: Thừa cân\n",
    "- 30 <= BMI < 35 : Béo phì cấp độ I\n",
    "- 35 <= BMI < 40: Béo phì cấp độ II\n",
    "- BMI > 40: Béo phì cấp độ III"
   ]
  },
  {
   "cell_type": "code",
   "execution_count": 7,
   "id": "1058f441",
   "metadata": {},
   "outputs": [
    {
     "name": "stdout",
     "output_type": "stream",
     "text": [
      "Hãy nhập vào chiều cao của bạn: 1.65\n",
      "Hãy nhập vào cân nặng của bạn: 60\n",
      "Chỉ số BMI của bạn là: 22.03856749311295\n",
      "Bình thường\n"
     ]
    }
   ],
   "source": [
    "height = float(input(\"Hãy nhập vào chiều cao của bạn: \")) # Đơn vị m\n",
    "weight = int(input(\"Hãy nhập vào cân nặng của bạn: \")) # Đơn vị kg\n",
    "\n",
    "BMI = weight / (height ** 2) \n",
    "\n",
    "print(\"Chỉ số BMI của bạn là:\", BMI)\n",
    "\n",
    "if BMI < 16:\n",
    "    print(\"Gầy cấp độ III\")\n",
    "elif BMI < 17:\n",
    "    print(\"Gầy cấp độ II\")\n",
    "elif BMI < 18.5:\n",
    "    print(\"Gầy cấp độ I\")\n",
    "elif BMI < 25:\n",
    "    print(\"Bình thường\")\n",
    "elif BMI < 30:\n",
    "    print(\"Thừa cân\")\n",
    "elif BMI < 35:\n",
    "    print(\"Béo phì cấp độ I\")\n",
    "elif BMI < 40:\n",
    "    print(\"Béo phì cấp độ II\")\n",
    "else:\n",
    "    print(\"Béo phì cấp độ III\")"
   ]
  },
  {
   "cell_type": "markdown",
   "id": "f7620342",
   "metadata": {},
   "source": [
    "### Bài 7\n",
    "\n",
    "Nhập ngày, tháng, năm. Hãy tính và in ra màn hình kể từ đầu năm đến ngày vừa nhập là bao nhiêu ngày."
   ]
  },
  {
   "cell_type": "code",
   "execution_count": 25,
   "id": "9bd43ed0",
   "metadata": {},
   "outputs": [
    {
     "name": "stdout",
     "output_type": "stream",
     "text": [
      "Nhập ngày: 6\n",
      "Nhập tháng: 1\n",
      "Nhập năm: 2002\n",
      "6\n"
     ]
    }
   ],
   "source": [
    "d = int(input(\"Nhập ngày: \"))\n",
    "m = int(input(\"Nhập tháng: \"))\n",
    "y = int(input(\"Nhập năm: \"))\n",
    "\n",
    "day = d\n",
    "k = 1\n",
    "\n",
    "for i in range(m - 1):\n",
    "    if k == 4 or k == 6 or k == 9 or k == 11:\n",
    "        day += 30\n",
    "    elif k == 2:\n",
    "        if (y % 4 == 0 and y % 100 != 0) or y % 400 == 0:\n",
    "            day += 29\n",
    "        else:\n",
    "            day += 28\n",
    "    else:\n",
    "        day += 31\n",
    "    k += 1\n",
    "print(day)"
   ]
  }
 ],
 "metadata": {
  "kernelspec": {
   "display_name": "Python 3 (ipykernel)",
   "language": "python",
   "name": "python3"
  },
  "language_info": {
   "codemirror_mode": {
    "name": "ipython",
    "version": 3
   },
   "file_extension": ".py",
   "mimetype": "text/x-python",
   "name": "python",
   "nbconvert_exporter": "python",
   "pygments_lexer": "ipython3",
   "version": "3.9.12"
  }
 },
 "nbformat": 4,
 "nbformat_minor": 5
}
