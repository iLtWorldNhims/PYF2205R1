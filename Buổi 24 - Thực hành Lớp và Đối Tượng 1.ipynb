{
 "cells": [
  {
   "cell_type": "markdown",
   "id": "ec00548e",
   "metadata": {},
   "source": [
    "# Thực hành Lớp và Đối Tượng 1"
   ]
  },
  {
   "cell_type": "markdown",
   "id": "e9a5b1b0",
   "metadata": {},
   "source": [
    "### Bài 1"
   ]
  },
  {
   "cell_type": "markdown",
   "id": "b89649bc",
   "metadata": {},
   "source": [
    "Viết một lớp point để lưu trữ một điểm trong hệ trục tọa độ Oxy\n",
    "\n",
    "Class này có:\n",
    "\n",
    "<b> Các biến: </b>\n",
    "- <b>x</b>: mang tọa độ x của diểm\n",
    "- <b>y</b>: mang tọa độ y của diểm\n",
    "\n",
    "<b> Các hàm: </b>\n",
    "- <b>khoangcachgoc:</b> hàm này trả về khoảng cách từ điểm đến điểm gốc(0,0)\n",
    "- <b>khoangcach(tham số đầu vào là 1 đối tượng có lớp point):</b> hàm này trả về khoảng cách từ điểm đến điểm được đưa vào\n",
    "- <b>diemdoixung:</b> hàm này trả về đối tượng có lớp point là điểm đối xứng của điểm qua điểm gốc(0,0)\n",
    "- <b>diemtrungbinh(tham số đầu vào là 1 đối tượng có lớp point):</b> hàm này trả về đối tượng có lớp point là điểm nằm chính giữa điểm và điểm được đưa vào\n",
    "- <b>thanghang(tham số đầu vào là 2 đối tượng có lớp point):</b> hàm này trả về kết quả kiểm tra 3 điểm có thẳng hằng hay không (True/False)\n",
    "- <b>vuonggoc((tham số đầu vào là 3 đối tượng có lớp point):</b> hàm trả trả về kết quả kiểm tra 4 điểm có tạo thành 2 đường thẳng vuông góc được hay không (True/False)"
   ]
  },
  {
   "cell_type": "code",
   "execution_count": 10,
   "id": "ca30ea7d",
   "metadata": {},
   "outputs": [
    {
     "name": "stdout",
     "output_type": "stream",
     "text": [
      "5.0\n",
      "5.385164807134504\n",
      "(-3, -4)\n",
      "(4.0, 6.5)\n"
     ]
    }
   ],
   "source": [
    "class Point:\n",
    "    def __init__(self, x, y):\n",
    "        self.x = x\n",
    "        self.y = y\n",
    "\n",
    "    def khoang_cach_goc(self):\n",
    "        return (self.x ** 2 + self.y ** 2 ) ** 0.5\n",
    "    \n",
    "    def khoang_cach(self, P2):\n",
    "        return ((self.x - P2.x) ** 2 + (P2.y - self.y) ** 2) ** 0.5\n",
    "    \n",
    "    def diem_doi_xung(self):\n",
    "        doi_xung_x = -self.x\n",
    "        doi_xung_y = -self.y\n",
    "        return doi_xung_x, doi_xung_y\n",
    "    \n",
    "    def diem_trung_binh(self, P2):\n",
    "        chinh_giua_x = (P2.x + self.x) / 2\n",
    "        chinh_giua_y = (P2.y + self.y) / 2\n",
    "        return chinh_giua_x, chinh_giua_y\n",
    "    \n",
    "    def thang_hang(self, P2, P3):\n",
    "        kc1 = self.khoang_cach(P2)\n",
    "        kc2 = self.khoang_cach(P3)\n",
    "        kc3 = p2.khoang_cach(p3)\n",
    "        return kc1 + kc2 == kc3 or kc1 + kc3 == kc2 or kc2 + kc3 == kc1\n",
    "    \n",
    "#     def vuong_goc(self, P2, P3, P4):\n",
    "        \n",
    "    \n",
    "P1 = Point(3, 4)\n",
    "P2 = Point(5, 9)\n",
    "P3 = P1.diem_doi_xung()\n",
    "P4 = P1.diem_trung_binh(P2)\n",
    "\n",
    "print(P1.khoang_cach_goc())\n",
    "\n",
    "print(P1.khoang_cach(P2))\n",
    "\n",
    "print(P3)\n",
    "\n",
    "print(P4)"
   ]
  },
  {
   "cell_type": "markdown",
   "id": "59c44a5f",
   "metadata": {},
   "source": [
    "### Bài 2"
   ]
  },
  {
   "cell_type": "markdown",
   "id": "b6f8706c",
   "metadata": {},
   "source": [
    "Viết một lớp line để lưu trữ một đường thẳng trong hệ trục tọa độ Oxy (có dạng ax + by + c = 0)\n",
    "\n",
    "Class này có:\n",
    "\n",
    "<b> Các biến: </b>\n",
    "- <b>a</b>: hệ số a của phương trình\n",
    "- <b>b</b>: hệ số b của phương trình\n",
    "- <b>c</b>: hệ số c của phương trình\n",
    "\n",
    "<b> Các hàm: </b>\n",
    "- <b>khoangcachgoc:</b> hàm này trả về khoảng cách từ đường thẳng đến điểm gốc(0,0)\n",
    "- <b>khoangcach(tham số đầu vào là 1 đối tượng có lớp point):</b> hàm này trả về khoảng cách từ đường thẳng đến điểm được đưa vào\n",
    "- <b>tinhchat(tham số đầu vào là 1 đối tượng có lớp line):</b> hàm này kiểm tra xem 2 đường thẳng cắt nhau hay song song hay trùng nhau (trả về 0: cắt nhau, 1: song song, 2: trùng nhau)\n",
    "- <b>thuocduongthang(tham số đầu vào là 1 đối tượng có lớp point):</b> hàm này trả về kết quả điểm có thuộc đường thẳng hay không (True/False)\n",
    "- <b>duongthangtrungbinh(tham số đầu vào là 1 đối tượng có lớp point):</b> hàm này trả về đối tượng có lớp line là đường thẳng nằm chính giữa đường thẳng và điểm được đưa vào\n",
    "- <b>songsong(tham số đầu vào là 2 đối tượng có lớp point):</b> hàm này trả về kết quả kiểm tra 2 điểm có có tạo đường thẳng song song với đường thẳng hay không (True/False)\n",
    "- <b>vuonggoc((tham số đầu vào là 2 đối tượng có lớp point):</b> hàm này trả về kết quả kiểm tra 2 điểm có có tạo đường thẳng vuông góc với đường thẳng hay không (True/False)"
   ]
  },
  {
   "cell_type": "code",
   "execution_count": 31,
   "id": "ce32e9aa",
   "metadata": {},
   "outputs": [
    {
     "name": "stdout",
     "output_type": "stream",
     "text": [
      "3x + 5y + 10 = 0\n",
      "1.7149858514250882\n",
      "6.688444820557844\n",
      "False\n"
     ]
    }
   ],
   "source": [
    "class Line:\n",
    "    def __init__(self, a, b, c):\n",
    "        self.a = a\n",
    "        self.b = b\n",
    "        self.c = c\n",
    "        \n",
    "    def inLine(self):\n",
    "        print(str(self.a) + \"x + \" + str(self.b) + \"y + \" + str(self.c) + \" = 0\")\n",
    "    \n",
    "    def khoangcachgoc(self):\n",
    "        return abs(self.c)/(self.a ** 2 + self.b ** 2) ** 0.5\n",
    "    \n",
    "    def khoangcach(self, P1):\n",
    "        return abs(self.a * P1.x + self.b * P1.y + self.c)/(self.a ** 2 + self.b ** 2) ** 0.5\n",
    "    \n",
    "    def tinhchat(self, L2):\n",
    "        a1 = -self.a / self.b\n",
    "        a2 = -L2.a / L2.b\n",
    "        \n",
    "        if a1 != a2: return 0\n",
    "        \n",
    "        b1 = -self.c / self.b\n",
    "        b2 = -L2.c / L2.b\n",
    "        \n",
    "        if b1 != b2: return 1\n",
    "        \n",
    "        return 2\n",
    "    \n",
    "    def thuocduongthang(self, P1):\n",
    "        return self.a * P1.x + self.b * P1.y + self.c == 0\n",
    "        \n",
    "L1 = Line(3, 5, 10)\n",
    "\n",
    "P1 = Point(3, 4)\n",
    "\n",
    "# L2 = Line()\n",
    "\n",
    "L1.inLine()\n",
    "\n",
    "print(L1.khoangcachgoc())\n",
    "\n",
    "print(L1.khoangcach(P1))\n",
    "\n",
    "print(L1.thuocduongthang(P1))"
   ]
  }
 ],
 "metadata": {
  "kernelspec": {
   "display_name": "Python 3 (ipykernel)",
   "language": "python",
   "name": "python3"
  },
  "language_info": {
   "codemirror_mode": {
    "name": "ipython",
    "version": 3
   },
   "file_extension": ".py",
   "mimetype": "text/x-python",
   "name": "python",
   "nbconvert_exporter": "python",
   "pygments_lexer": "ipython3",
   "version": "3.9.12"
  }
 },
 "nbformat": 4,
 "nbformat_minor": 5
}
