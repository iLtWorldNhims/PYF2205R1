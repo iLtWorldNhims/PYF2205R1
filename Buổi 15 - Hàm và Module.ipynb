{
 "cells": [
  {
   "cell_type": "markdown",
   "id": "73456e5e",
   "metadata": {},
   "source": [
    "# Hàm\n",
    "\n",
    "### Hàm\n",
    "\n",
    "Cú pháp:\n",
    "\n",
    "`def <tên hàm>(<tham số)>:\n",
    "    //Nội dung hàm`\n",
    "\n",
    "Gọi hàm:\n",
    "`<tên hàm>(<giá trị đầu vào>)`\n",
    "\n",
    "Ví dụ:\n",
    "\n",
    "Hãy viết 1 hàm số để tính tổng 2 số đầu vào và in nó ra màn hình"
   ]
  },
  {
   "cell_type": "code",
   "execution_count": 2,
   "id": "af5b9f6d",
   "metadata": {},
   "outputs": [
    {
     "name": "stdout",
     "output_type": "stream",
     "text": [
      "Tổng của 2 số 6 và 9 là: 15\n"
     ]
    }
   ],
   "source": [
    "def tong(a, b):\n",
    "    tong = a + b\n",
    "    print(\"Tổng của 2 số\", a, \"và\", b, \"là:\", tong)\n",
    "\n",
    "tong(6, 9)"
   ]
  },
  {
   "cell_type": "markdown",
   "id": "a7c39f47",
   "metadata": {},
   "source": [
    "### Giá trị trả về của hàm\n",
    "\n",
    "# return\n",
    "\n",
    "Cú pháp:\n",
    "\n",
    "`retrun <giá trị trả về>`\n",
    "\n",
    "##### Lưu ý: Sau khi thực hiện lệnh return, chương trình sẽ thoát khỏi hàm ngay lập tức (những lệnh sau đó không được thực hiện)\n",
    "\n",
    "Ví dụ:\n",
    "\n",
    "Hãy viết 1 hàm trả về giá trị trung bình của 2 số bất kỳ"
   ]
  },
  {
   "cell_type": "code",
   "execution_count": 5,
   "id": "0b527b95",
   "metadata": {},
   "outputs": [
    {
     "data": {
      "text/plain": [
       "7.5"
      ]
     },
     "execution_count": 5,
     "metadata": {},
     "output_type": "execute_result"
    }
   ],
   "source": [
    "def trung_binh(a, b):\n",
    "    trung_binh = (a + b) / 2\n",
    "    return trung_binh\n",
    "\n",
    "trung_binh(6, 9)"
   ]
  },
  {
   "cell_type": "code",
   "execution_count": 6,
   "id": "ecadbb67",
   "metadata": {
    "scrolled": true
   },
   "outputs": [
    {
     "name": "stdout",
     "output_type": "stream",
     "text": [
      "4\n"
     ]
    }
   ],
   "source": [
    "def demo():\n",
    "    for i in range(10):\n",
    "        if i == 5:\n",
    "            return i - 1 \n",
    "    return 0\n",
    "\n",
    "a = demo()\n",
    "print(a)"
   ]
  },
  {
   "cell_type": "code",
   "execution_count": 7,
   "id": "40f60385",
   "metadata": {},
   "outputs": [
    {
     "name": "stdout",
     "output_type": "stream",
     "text": [
      "1\n"
     ]
    }
   ],
   "source": [
    "def demo():\n",
    "    for i in range(10):\n",
    "        for j in range(20):\n",
    "            if i * j == 15:\n",
    "                return i\n",
    "    return 0\n",
    "\n",
    "a = demo()\n",
    "print(a)"
   ]
  },
  {
   "cell_type": "code",
   "execution_count": 11,
   "id": "6ec64dab",
   "metadata": {},
   "outputs": [
    {
     "name": "stdout",
     "output_type": "stream",
     "text": [
      "1\n"
     ]
    }
   ],
   "source": [
    "def chan_le(a):\n",
    "    if a % 2 == 0:\n",
    "        return 2\n",
    "    else:\n",
    "        return 1\n",
    "    \n",
    "print(chan_le(7))"
   ]
  },
  {
   "cell_type": "code",
   "execution_count": 12,
   "id": "c876a749",
   "metadata": {},
   "outputs": [
    {
     "name": "stdout",
     "output_type": "stream",
     "text": [
      "2\n"
     ]
    }
   ],
   "source": [
    "def chan_le(a):\n",
    "    if a % 2 == 0:\n",
    "        return 2\n",
    "    return 1\n",
    "    \n",
    "print(chan_le(6))"
   ]
  },
  {
   "cell_type": "code",
   "execution_count": null,
   "id": "6d4ed336",
   "metadata": {},
   "outputs": [],
   "source": [
    "def giaithua100(a):\n",
    "    giai_thua = 1\n",
    "    for i in range(1, a + 1):\n",
    "        giai_thua *= i\n",
    "    return giai_thua > 100"
   ]
  },
  {
   "cell_type": "markdown",
   "id": "1d7f8db0",
   "metadata": {},
   "source": [
    "### Bài tập"
   ]
  },
  {
   "cell_type": "markdown",
   "id": "75fb488b",
   "metadata": {},
   "source": [
    "Viết hàm kiểm tra số nguyên tố"
   ]
  },
  {
   "cell_type": "code",
   "execution_count": 33,
   "id": "63701bd7",
   "metadata": {},
   "outputs": [
    {
     "name": "stdout",
     "output_type": "stream",
     "text": [
      "False\n"
     ]
    }
   ],
   "source": [
    "def so_nguyen_to(a):\n",
    "    for i in range(2,a):\n",
    "        if a % i == 0:\n",
    "            return False\n",
    "        return True\n",
    "    \n",
    "print(so_nguyen_to(4))"
   ]
  },
  {
   "cell_type": "markdown",
   "id": "221103cf",
   "metadata": {},
   "source": [
    "Nhập vào 3 điểm toán, lý, hóa\n",
    "\n",
    "Hãy viết hàm in điểm trung bung bình rồi tính điểm trung bình của toán lý, toán hóa, lý hóa và toán lý hóa"
   ]
  },
  {
   "cell_type": "code",
   "execution_count": 26,
   "id": "1ba1d8ae",
   "metadata": {},
   "outputs": [
    {
     "name": "stdout",
     "output_type": "stream",
     "text": [
      "7.5\n",
      "7.666666666666667\n"
     ]
    }
   ],
   "source": [
    "def tb_2_so(t, l):\n",
    "    dtb = (t + l) / 2\n",
    "    return dtb\n",
    "\n",
    "def tb_3_so(t, l, h):\n",
    "    dtb = (t + l + h) / 3\n",
    "    return dtb\n",
    "\n",
    "print(tb_2_so(6, 9))\n",
    "\n",
    "print(tb_3_so(9, 6, 8))"
   ]
  },
  {
   "cell_type": "markdown",
   "id": "50f43307",
   "metadata": {},
   "source": [
    "Viết hàm đếm số lượng từ của một chuỗi đưa vào"
   ]
  },
  {
   "cell_type": "code",
   "execution_count": 9,
   "id": "be785b29",
   "metadata": {
    "scrolled": true
   },
   "outputs": [
    {
     "name": "stdout",
     "output_type": "stream",
     "text": [
      "8\n"
     ]
    }
   ],
   "source": [
    "def dem_tu(a):\n",
    "    dem = 0\n",
    "    a += \" \"\n",
    "    for i in a:\n",
    "        if i == \" \":\n",
    "            dem += 1\n",
    "    return dem\n",
    "\n",
    "print(dem_tu(\"Hế lô, bế nhô e vờ ri oăn!\"))"
   ]
  },
  {
   "cell_type": "markdown",
   "id": "b4adef40",
   "metadata": {},
   "source": [
    "Viết một hàm vẽ hình tròn, một hàm vẽ hình vuông và một hàm vẽ hình tam giác đều (giá trị đầu vào là a)\n",
    "\n",
    "Tất cả hàm này, bắt đầu từ 1 vị trí, sau khi vẽ ra, con trỏ sẽ tiến tới vị trí tiếp theo, cách vì đầu một khoảng a + 10 theo chiều x từ trái sang"
   ]
  },
  {
   "cell_type": "code",
   "execution_count": 1,
   "id": "e405d1d4",
   "metadata": {},
   "outputs": [
    {
     "name": "stdout",
     "output_type": "stream",
     "text": [
      "Nhập vào một số a để vẽ các hình: 50\n"
     ]
    }
   ],
   "source": [
    "import turtle as t\n",
    "\n",
    "def tron(a):\n",
    "    t.circle(a/2)\n",
    "    t.pu()\n",
    "    t.fd(a/2 + 10)\n",
    "    t.pd()\n",
    "    \n",
    "def vuong(a):\n",
    "    for i in range(4):\n",
    "        t.fd(a)\n",
    "        t.lt(90)\n",
    "    t.pu()\n",
    "    t.fd(a + 10)\n",
    "    t.pd()\n",
    "    \n",
    "def tam_giac_deu(a):\n",
    "    for i in range(3):\n",
    "        t.fd(a)\n",
    "        t.lt(120)\n",
    "    t.pu()\n",
    "    t.fd(a + 10)\n",
    "    t.pd()\n",
    "\n",
    "a = int(input(\"Nhập vào một số a để vẽ các hình: \"))\n",
    "    \n",
    "tron(a)\n",
    "vuong(a)\n",
    "tam_giac_deu(a)"
   ]
  }
 ],
 "metadata": {
  "kernelspec": {
   "display_name": "Python 3 (ipykernel)",
   "language": "python",
   "name": "python3"
  },
  "language_info": {
   "codemirror_mode": {
    "name": "ipython",
    "version": 3
   },
   "file_extension": ".py",
   "mimetype": "text/x-python",
   "name": "python",
   "nbconvert_exporter": "python",
   "pygments_lexer": "ipython3",
   "version": "3.9.12"
  }
 },
 "nbformat": 4,
 "nbformat_minor": 5
}
