{
 "cells": [
  {
   "cell_type": "markdown",
   "id": "5761f2a7",
   "metadata": {},
   "source": [
    "Hãy kiểm tra mảng số nguyên có tồn tại hai giá trị không liên tiếp hay không ?"
   ]
  },
  {
   "cell_type": "code",
   "execution_count": 5,
   "id": "a0acf4b7",
   "metadata": {},
   "outputs": [
    {
     "name": "stdout",
     "output_type": "stream",
     "text": [
      "True\n"
     ]
    }
   ],
   "source": [
    "def check0(L):\n",
    "    for i in range(len(L) - 1):\n",
    "        if L[i] == 0:\n",
    "            if L[i + 1] == 0:\n",
    "                return True\n",
    "    return False\n",
    "\n",
    "L = [1, 2, 3, 0, 1, 0, 0]\n",
    "\n",
    "print(check0(L))"
   ]
  },
  {
   "cell_type": "markdown",
   "id": "ae867e74",
   "metadata": {},
   "source": [
    "Hãy kiểm tra mảng số nguyên có tồn tại giá trị chẵn hay không? Nếu không tồn tại giá trị chẵn trả về giá trị 0, hay ngược lại trả về 1."
   ]
  },
  {
   "cell_type": "code",
   "execution_count": 6,
   "id": "1abdd057",
   "metadata": {},
   "outputs": [
    {
     "name": "stdout",
     "output_type": "stream",
     "text": [
      "1\n"
     ]
    }
   ],
   "source": [
    "def ktchan(L):\n",
    "    for i in L:\n",
    "        if i % 2 == 0:\n",
    "            return 1\n",
    "    return 0\n",
    "\n",
    "L = [1, 2, 3, 0, 1, 0, 0]\n",
    "\n",
    "print(ktchan(L))"
   ]
  },
  {
   "cell_type": "markdown",
   "id": "5a49eda8",
   "metadata": {},
   "source": [
    "Hãy cho biết mảng các số nguyên có toàn số chẵn hay không? Nếu có tồn tại giá trị lẻ trả về giá trị 0, ngược lại trả về 1."
   ]
  },
  {
   "cell_type": "code",
   "execution_count": 11,
   "id": "9b4d2f7d",
   "metadata": {},
   "outputs": [
    {
     "name": "stdout",
     "output_type": "stream",
     "text": [
      "1\n"
     ]
    }
   ],
   "source": [
    "def kttoanchan(L):\n",
    "    check = 1\n",
    "    for i in L:\n",
    "        if i % 2 != 0:\n",
    "            check = 0\n",
    "    return check\n",
    "\n",
    "L = [2,4,6,8]\n",
    "\n",
    "print(kttoanchan(L))"
   ]
  },
  {
   "cell_type": "markdown",
   "id": "a736df1e",
   "metadata": {},
   "source": [
    "Hãy kiểm tra mảng một chiều các số thực có đối xứng hay không?"
   ]
  },
  {
   "cell_type": "code",
   "execution_count": 23,
   "id": "c360bf6e",
   "metadata": {},
   "outputs": [
    {
     "name": "stdout",
     "output_type": "stream",
     "text": [
      "True\n"
     ]
    }
   ],
   "source": [
    "def ktdoixung(L):\n",
    "    L_nguoc = []\n",
    "    k = -1\n",
    "    \n",
    "    for i in range(len(L)):\n",
    "        L_nguoc.append(L[k])\n",
    "        k -= 1\n",
    "        \n",
    "    if L == L_nguoc:\n",
    "        return True\n",
    "    return False\n",
    "\n",
    "L = [2, 3, 2]\n",
    "\n",
    "print(ktdoixung(L))"
   ]
  },
  {
   "cell_type": "markdown",
   "id": "975b9821",
   "metadata": {},
   "source": [
    "Ta định nghĩa một mảng có tính chẵn lẻ, khi tổng của hai phần tử liên tiếp trong mảng luôn luôn là số lẻ. Hãy viết hàm kiểm tra mảng a có tính chẵn lẻ hay không?"
   ]
  },
  {
   "cell_type": "code",
   "execution_count": 31,
   "id": "7ec6108e",
   "metadata": {},
   "outputs": [
    {
     "name": "stdout",
     "output_type": "stream",
     "text": [
      "True\n"
     ]
    }
   ],
   "source": [
    "def ktchanle(L):\n",
    "    check = True\n",
    "    for i in range(len(L) - 1):\n",
    "        if (L[i] + L[i + 1]) % 2 == 0:\n",
    "            check = False\n",
    "    return check\n",
    "\n",
    "L = [2, 3, 6, 7]\n",
    "\n",
    "print(ktchanle(L))"
   ]
  },
  {
   "cell_type": "markdown",
   "id": "434a04e0",
   "metadata": {},
   "source": [
    "Hãy kiểm tra mảng có tăng dần hay không?"
   ]
  },
  {
   "cell_type": "code",
   "execution_count": 38,
   "id": "ba375910",
   "metadata": {},
   "outputs": [
    {
     "name": "stdout",
     "output_type": "stream",
     "text": [
      "True\n"
     ]
    }
   ],
   "source": [
    "def kttangdan(L):\n",
    "    for i in range(len(L) - 1):\n",
    "        if L[i] >= L [i + 1]:\n",
    "            return False\n",
    "    return True\n",
    "\n",
    "L = [2, 3, 6, 7]\n",
    "\n",
    "print(kttangdan(L))"
   ]
  },
  {
   "cell_type": "markdown",
   "id": "2dca9538",
   "metadata": {},
   "source": [
    "Hãy kiểm tra mảng có giảm dần hay không?"
   ]
  },
  {
   "cell_type": "code",
   "execution_count": 40,
   "id": "eb5154cc",
   "metadata": {},
   "outputs": [
    {
     "name": "stdout",
     "output_type": "stream",
     "text": [
      "False\n"
     ]
    }
   ],
   "source": [
    "def ktgiamdan(L):\n",
    "    for i in range(len(L) - 1):\n",
    "        if L[i] <= L [i + 1]:\n",
    "            return False\n",
    "    return True\n",
    "\n",
    "L = [2, 3, 6, 7]\n",
    "\n",
    "print(ktgiamdan(L))"
   ]
  },
  {
   "cell_type": "markdown",
   "id": "24dd211d",
   "metadata": {},
   "source": [
    "Hãy cho biết các phần tử trong mảng có lập thành cấp số cộng không? Nếu có hãy chỉ ra công sai d"
   ]
  },
  {
   "cell_type": "code",
   "execution_count": 47,
   "id": "e9dda389",
   "metadata": {},
   "outputs": [
    {
     "name": "stdout",
     "output_type": "stream",
     "text": [
      "[0, 2, 4, 6, 8, 10]\n",
      "Công sai d: 2\n"
     ]
    }
   ],
   "source": [
    "def ktcapsocong(L):\n",
    "    L.sort()\n",
    "    print(L)\n",
    "    for i in range(len(L) - 2):\n",
    "        if L[i + 2] - L[i + 1] != L[i + 1] - L[i]:\n",
    "            return False\n",
    "    return \"Công sai d: \" + str(L[i + 1] - L[i])\n",
    "\n",
    "L = [0,6,4,2,8,10]\n",
    "\n",
    "print(ktcapsocong(L))"
   ]
  },
  {
   "cell_type": "markdown",
   "id": "19be5057",
   "metadata": {},
   "source": [
    "Hãy cho biết các phần tử trong mảng có bằng nhau không?"
   ]
  },
  {
   "cell_type": "code",
   "execution_count": 52,
   "id": "1ff05a5d",
   "metadata": {},
   "outputs": [
    {
     "name": "stdout",
     "output_type": "stream",
     "text": [
      "True\n"
     ]
    }
   ],
   "source": [
    "def check_equal(L):\n",
    "    for i in range(len(L) - 1):\n",
    "        if L[i] != L[i + 1]:\n",
    "            return False\n",
    "    return True\n",
    "\n",
    "L = [0,0,0,0,0,0]\n",
    "\n",
    "print(check_equal(L))"
   ]
  },
  {
   "cell_type": "markdown",
   "id": "58268599",
   "metadata": {},
   "source": [
    "Người ta định nghĩa một mảng được gọi là “dạng sóng” khi phần tử có giá trị số I lớn hơn hoặc nhỏ hơn hai phần tử xung quanh nó. Hãy viết hàm kiểm tra trong a sóng hay không?"
   ]
  },
  {
   "cell_type": "code",
   "execution_count": 55,
   "id": "1572fb15",
   "metadata": {},
   "outputs": [
    {
     "name": "stdout",
     "output_type": "stream",
     "text": [
      "True\n"
     ]
    }
   ],
   "source": [
    "def check_wave(L):\n",
    "    for i in range(len(L) - 2):\n",
    "        if L[i] >= L[i + 1] >= L[i + 2] or L[i] <= L[i + 1] <= L[i + 2]:\n",
    "            return False\n",
    "    return True\n",
    "    \n",
    "L = [0,10,9,11,8,12,7,13]\n",
    "\n",
    "print(check_wave(L))"
   ]
  },
  {
   "cell_type": "markdown",
   "id": "3a06a75d",
   "metadata": {},
   "source": [
    "Hãy đếm số lượng giá trị trong mảng thỏa tính chất: “lớn hơn tất cả các giá trị đứng đằng trước nó”"
   ]
  },
  {
   "cell_type": "code",
   "execution_count": null,
   "id": "33f9e4a3",
   "metadata": {},
   "outputs": [],
   "source": []
  },
  {
   "cell_type": "markdown",
   "id": "09720f79",
   "metadata": {},
   "source": [
    "Hãy trộn hai mảng tăng dần lại thành 1 mảng được sắp thứ tự tăng dần"
   ]
  },
  {
   "cell_type": "code",
   "execution_count": null,
   "id": "d91a0d7c",
   "metadata": {},
   "outputs": [],
   "source": []
  },
  {
   "cell_type": "markdown",
   "id": "c2a03df7",
   "metadata": {},
   "source": [
    "Hãy đưa các số chẵn trong mảng về đầu mảng, số lẻ về cuối mảng và các phần tử 0 năm ở giữa"
   ]
  },
  {
   "cell_type": "code",
   "execution_count": null,
   "id": "2595ba23",
   "metadata": {},
   "outputs": [],
   "source": []
  },
  {
   "cell_type": "markdown",
   "id": "88a5356c",
   "metadata": {},
   "source": [
    "Hãy đưa các số chia hết cho 3 về đầu mảng"
   ]
  },
  {
   "cell_type": "code",
   "execution_count": null,
   "id": "2015e143",
   "metadata": {},
   "outputs": [],
   "source": []
  },
  {
   "cell_type": "markdown",
   "id": "873d2a46",
   "metadata": {},
   "source": [
    "Hãy xuất mảng theo yêu cầu: các phần tử chẵn nằm trên một hàng, các phần tử lẻ nằm ở hàng tiếp theo"
   ]
  },
  {
   "cell_type": "code",
   "execution_count": null,
   "id": "99109b77",
   "metadata": {},
   "outputs": [],
   "source": []
  },
  {
   "cell_type": "markdown",
   "id": "5e2c226d",
   "metadata": {},
   "source": [
    "Hãy biến đổi mảng bằng cách thay các giá trị lớn nhất bằng giá trị nhỏ nhất và ngược lại"
   ]
  },
  {
   "cell_type": "code",
   "execution_count": null,
   "id": "62eefa1a",
   "metadata": {},
   "outputs": [],
   "source": []
  },
  {
   "cell_type": "markdown",
   "id": "4c5e92fa",
   "metadata": {},
   "source": [
    "Hãy đảo ngược thứ tự các số chẵn và các số lẻ trong mảng mà vẫn giữ nguyên vị trí tương đối của chúng"
   ]
  },
  {
   "cell_type": "code",
   "execution_count": null,
   "id": "0d6ba5f3",
   "metadata": {},
   "outputs": [],
   "source": [
    "[2,5,7,14] ~~> [5,2,14,7]\n",
    "## List phải có số lượng số lẻ bằng với số lượng số chẳn"
   ]
  }
 ],
 "metadata": {
  "kernelspec": {
   "display_name": "Python 3 (ipykernel)",
   "language": "python",
   "name": "python3"
  },
  "language_info": {
   "codemirror_mode": {
    "name": "ipython",
    "version": 3
   },
   "file_extension": ".py",
   "mimetype": "text/x-python",
   "name": "python",
   "nbconvert_exporter": "python",
   "pygments_lexer": "ipython3",
   "version": "3.9.12"
  }
 },
 "nbformat": 4,
 "nbformat_minor": 5
}
