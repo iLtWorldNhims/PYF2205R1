{
 "cells": [
  {
   "cell_type": "markdown",
   "id": "5bc93fb0",
   "metadata": {},
   "source": [
    "# Thực hành nhập xuất dữ liệu & chuỗi\n",
    "\n",
    "### Bài tập tra cứu lệnh\n",
    "\n",
    "Nhập vào một chuỗi, kiểm tra xem chuỗi đó có ký tự nào là chữ in hoa hay không, nếu có thì in True, không có thì in False"
   ]
  },
  {
   "cell_type": "code",
   "execution_count": 3,
   "id": "4b3df2ba",
   "metadata": {},
   "outputs": [
    {
     "name": "stdout",
     "output_type": "stream",
     "text": [
      "Hãy nhập vào một chuỗi: Hello, World!\n",
      "True\n"
     ]
    }
   ],
   "source": [
    "a = input(\"Hãy nhập vào một chuỗi: \")\n",
    "print (not a.islower())"
   ]
  },
  {
   "cell_type": "markdown",
   "id": "e14eae7c",
   "metadata": {},
   "source": [
    "Nhập vào một chuỗi, kiểm tra xem chuỗi đó có ký tự nào là chữ in thường hay không, nếu có thì in True, không có thì in False"
   ]
  },
  {
   "cell_type": "code",
   "execution_count": 4,
   "id": "ab00180c",
   "metadata": {},
   "outputs": [
    {
     "name": "stdout",
     "output_type": "stream",
     "text": [
      "Hãy nhập vào một chuỗi: Hello, World!\n",
      "True\n"
     ]
    }
   ],
   "source": [
    "a = input(\"Hãy nhập vào một chuỗi: \")\n",
    "print (not a.isupper())"
   ]
  },
  {
   "cell_type": "markdown",
   "id": "eab86ecf",
   "metadata": {},
   "source": [
    "Nhập vào một chuỗi a và chuỗi b, tìm vị trí đầu tiên xuất hiện chuỗi b trong chuỗi a"
   ]
  },
  {
   "cell_type": "code",
   "execution_count": 6,
   "id": "051eb4af",
   "metadata": {},
   "outputs": [
    {
     "name": "stdout",
     "output_type": "stream",
     "text": [
      "Hãy nhập vào chuỗi a: Hello, World!\n",
      "Hãy nhập vào chuỗi b: !\n",
      "12\n",
      "12\n"
     ]
    }
   ],
   "source": [
    "a = input(\"Hãy nhập vào chuỗi a: \")\n",
    "b = input(\"Hãy nhập vào chuỗi b: \")\n",
    "print(a.find(b))\n",
    "print(a.index(b))"
   ]
  },
  {
   "cell_type": "markdown",
   "id": "9239bc4e",
   "metadata": {},
   "source": [
    "Nhập vào một chuỗi a, hãy xóa từ đầu tiên trong chuỗi a, rồi in ra màn hình"
   ]
  },
  {
   "cell_type": "code",
   "execution_count": 3,
   "id": "90967cd9",
   "metadata": {},
   "outputs": [
    {
     "name": "stdout",
     "output_type": "stream",
     "text": [
      "Hãy nhập vào một chuỗi: Hello, World!\n",
      "World!\n"
     ]
    }
   ],
   "source": [
    "a = input(\"Hãy nhập vào một chuỗi: \")\n",
    "b = a.find(\" \")\n",
    "print(a[b + 1:])"
   ]
  },
  {
   "cell_type": "markdown",
   "id": "05b74fb4",
   "metadata": {},
   "source": [
    "### Bài 1\n",
    "\n",
    "Nhập vào một chuỗi, đếm xem có bao nhiêu từ trong chuỗi kết thúc bằng chữ n"
   ]
  },
  {
   "cell_type": "code",
   "execution_count": 12,
   "id": "d126675c",
   "metadata": {},
   "outputs": [
    {
     "name": "stdout",
     "output_type": "stream",
     "text": [
      "Nhập chuỗi: Xin chào các bạn, ngày hôm nay thật đẹp! Có đúng hay không vậy chèn?\n",
      "3\n"
     ]
    }
   ],
   "source": [
    "chuoi = input(\"Nhập chuỗi: \")\n",
    "chuoi += \" \"\n",
    "a = chuoi.count(\"n \") + chuoi.count(\"n,\") + chuoi.count(\"n!\") + chuoi.count(\"n?\")\n",
    "print(a)"
   ]
  },
  {
   "cell_type": "markdown",
   "id": "53a78d35",
   "metadata": {},
   "source": [
    "### Bài 2\n",
    "\n",
    "Nhập vào một chuỗi, kiểm tra xem chuỗi đó có ký tự hoa hoặc ký tự thường hay không."
   ]
  },
  {
   "cell_type": "code",
   "execution_count": 2,
   "id": "f5be8c39",
   "metadata": {},
   "outputs": [
    {
     "name": "stdout",
     "output_type": "stream",
     "text": [
      "Hãy nhập vào một chuỗi: Hello, World!\n",
      "Chuỗi a có ký tự hoa hay không:  True\n",
      "Chuỗi a có ký tự thường hay không:  True\n"
     ]
    }
   ],
   "source": [
    "a = input(\"Hãy nhập vào một chuỗi: \")\n",
    "print(\"Chuỗi a có ký tự hoa hay không: \", not a.islower())\n",
    "print(\"Chuỗi a có ký tự thường hay không: \", not a.isupper())"
   ]
  },
  {
   "cell_type": "code",
   "execution_count": 14,
   "id": "ec3a55e3",
   "metadata": {},
   "outputs": [
    {
     "name": "stdout",
     "output_type": "stream",
     "text": [
      "True\n",
      "False\n"
     ]
    }
   ],
   "source": [
    "a = \"Give me a cup of tea\"\n",
    "print(a.isprintable())\n",
    "a = \"\\n\"\n",
    "print(a.isprintable())"
   ]
  },
  {
   "cell_type": "markdown",
   "id": "64ca662e",
   "metadata": {},
   "source": [
    "### Bài 3\n",
    "\n",
    "Nhập vào một chuỗi, kiểm tra tính đối xứng của chuỗi đó"
   ]
  },
  {
   "cell_type": "code",
   "execution_count": 11,
   "id": "749f4136",
   "metadata": {},
   "outputs": [
    {
     "name": "stdout",
     "output_type": "stream",
     "text": [
      "Hãy nhập vào một chuỗi: abcde\n",
      "2\n",
      "ab\n",
      "cde\n"
     ]
    }
   ],
   "source": [
    "a = input(\"Hãy nhập vào một chuỗi: \")\n",
    "b = int(len(a)/2)\n",
    "print(b)\n",
    "c = a[:b]\n",
    "d = a[b:]\n",
    "print(c)\n",
    "print(d)\n",
    "\n",
    "##### Mình làm ---> SAI"
   ]
  },
  {
   "cell_type": "code",
   "execution_count": 21,
   "id": "f134d201",
   "metadata": {},
   "outputs": [
    {
     "name": "stdout",
     "output_type": "stream",
     "text": [
      "Mời nhập chuỗi a:asdjnkmaskld jkalsjdklas h\n",
      "False\n"
     ]
    }
   ],
   "source": [
    "a = input('Mời nhập chuỗi a:')\n",
    "b = int(len(a)/2)\n",
    "c = a[:b]\n",
    "d = a[-b:]\n",
    "e = d[::-1]\n",
    "print(c==e)\n",
    "\n",
    "##### Copy ---> SAI"
   ]
  },
  {
   "cell_type": "code",
   "execution_count": 17,
   "id": "8453122a",
   "metadata": {
    "scrolled": true
   },
   "outputs": [
    {
     "name": "stdout",
     "output_type": "stream",
     "text": [
      "Hãy nhập vào một chuỗi: abccba\n",
      "abccba\n",
      "True\n"
     ]
    }
   ],
   "source": [
    "##### Thầy chỉ ---> ĐÚNG\n",
    "a = input(\"Hãy nhập vào một chuỗi: \")\n",
    "k = -1\n",
    "a_nguoc = \"\"\n",
    "for i in range(len(a)): # Dùng hàm for\n",
    "    a_nguoc += a[k]\n",
    "    k -= 1\n",
    "print(a_nguoc)\n",
    "print(a_nguoc == a)"
   ]
  },
  {
   "cell_type": "code",
   "execution_count": 20,
   "id": "4b15d20c",
   "metadata": {},
   "outputs": [
    {
     "name": "stdout",
     "output_type": "stream",
     "text": [
      "Hãy nhập vào một chuỗi: 123321\n",
      "123321\n",
      "True\n"
     ]
    }
   ],
   "source": [
    "# Đúng luôn\n",
    "a = input(\"Hãy nhập vào một chuỗi: \")\n",
    "a_nguoc = a[::-1]\n",
    "print(a_nguoc)\n",
    "print(a_nguoc == a)"
   ]
  },
  {
   "cell_type": "markdown",
   "id": "85dd8fef",
   "metadata": {},
   "source": [
    "### Bài 4\n",
    "\n",
    "Nhập vào một chuỗi, in ra các ký tự trong chuỗi và nếu là ký tự hoa thì in kèm True, ký tự thường thì in kèm False"
   ]
  },
  {
   "cell_type": "code",
   "execution_count": 26,
   "id": "0d099247",
   "metadata": {},
   "outputs": [
    {
     "name": "stdout",
     "output_type": "stream",
     "text": [
      "Hãy nhập vào một chuỗi: mMamskdjMAKSNMKaasasdASMJdak;\n",
      "m False\n",
      "M True\n",
      "a False\n",
      "m False\n",
      "s False\n",
      "k False\n",
      "d False\n",
      "j False\n",
      "M True\n",
      "A True\n",
      "K True\n",
      "S True\n",
      "N True\n",
      "M True\n",
      "K True\n",
      "a False\n",
      "a False\n",
      "s False\n",
      "a False\n",
      "s False\n",
      "d False\n",
      "A True\n",
      "S True\n",
      "M True\n",
      "J True\n",
      "d False\n",
      "a False\n",
      "k False\n",
      "; False\n"
     ]
    }
   ],
   "source": [
    "a = input(\"Hãy nhập vào một chuỗi: \")\n",
    "k = 0 \n",
    "for i in range(len(a)):\n",
    "    print(a[k], a[k].isupper())\n",
    "    k += 1"
   ]
  },
  {
   "cell_type": "code",
   "execution_count": 21,
   "id": "45f59f81",
   "metadata": {},
   "outputs": [
    {
     "name": "stdout",
     "output_type": "stream",
     "text": [
      "Nhập vào một chuỗi: DASDASDAasdas\n",
      "D True\n",
      "A True\n",
      "S True\n",
      "D True\n",
      "A True\n",
      "S True\n",
      "D True\n",
      "A True\n",
      "a False\n",
      "s False\n",
      "d False\n",
      "a False\n",
      "s False\n"
     ]
    }
   ],
   "source": [
    "a = input(\"Nhập vào một chuỗi: \")\n",
    "\n",
    "for i in range(len(a)):\n",
    "    print(a[i],a[i].isupper())"
   ]
  },
  {
   "cell_type": "markdown",
   "id": "1373dc74",
   "metadata": {},
   "source": [
    "### Bài 5\n",
    "\n",
    "Nhập vào một chuỗi, tìm các ký tự chỉ xuất hiện một lần trong chuỗi (nếu xuất hiện 1 lần in true, xuất hiện nhiều lần in false)\n",
    "\n",
    "Ví dụ:\n",
    "\n",
    "Nhập chuỗi: \"ABAbc\"\n",
    "\n",
    "In:\n",
    "\n",
    "A: False\n",
    "\n",
    "B: True\n",
    "\n",
    "A: False\n",
    "\n",
    "b: True\n",
    "\n",
    "c: True"
   ]
  },
  {
   "cell_type": "code",
   "execution_count": 8,
   "id": "a93bc53d",
   "metadata": {},
   "outputs": [
    {
     "name": "stdout",
     "output_type": "stream",
     "text": [
      "Hãy nhập vào một chuỗi: Hello, World!\n",
      "H: True\n",
      "e: True\n",
      "l: False\n",
      "l: False\n",
      "o: False\n",
      ",: True\n",
      " : True\n",
      "W: True\n",
      "o: False\n",
      "r: True\n",
      "l: False\n",
      "d: True\n",
      "!: True\n"
     ]
    }
   ],
   "source": [
    "a = input(\"Hãy nhập vào một chuỗi: \")\n",
    "k = 0\n",
    "for i in range(len(a)):\n",
    "    print(a[k], a.count(a[k]) == 1, sep = \": \")\n",
    "    k += 1"
   ]
  },
  {
   "cell_type": "markdown",
   "id": "69bebf4c",
   "metadata": {},
   "source": [
    "### Bài 6\n",
    "\n",
    "Nhập vào một chuỗi, kiểm tra trong chuỗi có con số hay không, nếu có in True, không có in False"
   ]
  },
  {
   "cell_type": "code",
   "execution_count": 1,
   "id": "1b4eab4f",
   "metadata": {},
   "outputs": [
    {
     "name": "stdout",
     "output_type": "stream",
     "text": [
      "Hãy nhập vào một chuỗi: 1asdas2v\n"
     ]
    }
   ],
   "source": [
    "a = input(\"Hãy nhập vào một chuỗi: \")\n",
    "k = 0\n",
    "\n",
    "co = False\n",
    "\n",
    "## Kiểm tra từng thằng kí tự bên trong a, nếu mình phát hiện ký tự đó là số thì mình cho một biến cờ thành True\n",
    "## Trong trường hợp mình không tìm thấy được bất kỳ số nào thì cờ vẫn còn là False\n",
    "\n",
    "for i in range(len(a)):\n",
    "    co = co or a[k].isnumeric() ## isnumeric() sẽ trả về True nếu a[k] là số ngược lại sẽ là False\n",
    "    k += 1"
   ]
  },
  {
   "cell_type": "code",
   "execution_count": 4,
   "id": "623d1a6f",
   "metadata": {},
   "outputs": [
    {
     "name": "stdout",
     "output_type": "stream",
     "text": [
      "Hãy nhập vào một chuỗi: 1sNJKLasHD3 \n",
      "True\n"
     ]
    }
   ],
   "source": [
    "a = input(\"Hãy nhập vào một chuỗi: \")\n",
    "\n",
    "b = a.count(\"0\") + a.count(\"1\") + a.count(\"2\") + a.count(\"3\") + a.count(\"4\") + a.count(\"5\") + a.count(\"6\") + a.count(\"7\")\n",
    "+ a.count(\"8\") + a.count(\"9\")\n",
    "\n",
    "print(b != 0)"
   ]
  },
  {
   "cell_type": "code",
   "execution_count": null,
   "id": "c6e777c0",
   "metadata": {},
   "outputs": [],
   "source": [
    "a = input(\"Hãy nhập vào một chuỗi: \")\n",
    "k = 0\n",
    "b = 0\n",
    "for i in range(10):\n",
    "    b += a.count(str(k))\n",
    "    k += 1"
   ]
  },
  {
   "cell_type": "markdown",
   "id": "1e51403c",
   "metadata": {},
   "source": [
    "### Bài 7\n",
    "\n",
    "Nhập vào một chuỗi, tách những con số có trong chuỗi ra rồi tính tổng của chúng\n",
    "\n",
    "In tổng lên màn hình"
   ]
  },
  {
   "cell_type": "code",
   "execution_count": 2,
   "id": "a34e349d",
   "metadata": {},
   "outputs": [
    {
     "name": "stdout",
     "output_type": "stream",
     "text": [
      "123abc456xyz321\n",
      "27\n"
     ]
    }
   ],
   "source": [
    "a =input()\n",
    "b = 0\n",
    "k = 0\n",
    "for i in range(10):\n",
    "\tb += k * a.count(str(k))\n",
    "\tk += 1\n",
    "print(b)\n",
    "\t"
   ]
  },
  {
   "cell_type": "markdown",
   "id": "e951779d",
   "metadata": {},
   "source": [
    "### Bài 8\n",
    "\n",
    "Nhập vào một chuỗi, đảo ngược chuỗi đã nhập rồi in ra màn hình"
   ]
  },
  {
   "cell_type": "code",
   "execution_count": 1,
   "id": "9305f0f1",
   "metadata": {},
   "outputs": [
    {
     "name": "stdout",
     "output_type": "stream",
     "text": [
      "abcxyz\n",
      "zyxcba\n"
     ]
    }
   ],
   "source": [
    "a = input()\n",
    "b = a[::-1]\n",
    "print(b)"
   ]
  },
  {
   "cell_type": "markdown",
   "id": "04194b5c",
   "metadata": {},
   "source": [
    "### Bài 9\n",
    "\n",
    "Nhập vào một chuỗi, kiểm tra xem mỗi từ trong chuỗi có được viết hoa chữ cái đầu hay không, nếu tất cả đều được viết hoa thì in ra True, còn không thì in ra False\n",
    "\n",
    "Trong trường hợp là False, hãy viết hoa tất cả các chữ cái đầu của mỗi từ rồi in lên màn hình\n",
    "\n",
    "Cách làm thông thường:"
   ]
  },
  {
   "cell_type": "code",
   "execution_count": 15,
   "id": "9f947c7d",
   "metadata": {},
   "outputs": [
    {
     "name": "stdout",
     "output_type": "stream",
     "text": [
      "Cách Làm Thông Thường:\n",
      "True\n",
      "Cách Làm Thông Thường:\n",
      "True\n"
     ]
    }
   ],
   "source": []
  },
  {
   "cell_type": "markdown",
   "id": "f43e32af",
   "metadata": {},
   "source": [
    "Cách sử dụng lệnh có sẵn:"
   ]
  },
  {
   "cell_type": "code",
   "execution_count": 19,
   "id": "714f1412",
   "metadata": {},
   "outputs": [
    {
     "name": "stdout",
     "output_type": "stream",
     "text": [
      "Cách sử dụng lệnh có sẵn:\n",
      "False\n",
      "Cách Sử Dụng Lệnh Có Sẵn:\n"
     ]
    }
   ],
   "source": [
    "a = input()\n",
    "print(a.istitle())\n",
    "print(a.title())"
   ]
  }
 ],
 "metadata": {
  "kernelspec": {
   "display_name": "Python 3 (ipykernel)",
   "language": "python",
   "name": "python3"
  },
  "language_info": {
   "codemirror_mode": {
    "name": "ipython",
    "version": 3
   },
   "file_extension": ".py",
   "mimetype": "text/x-python",
   "name": "python",
   "nbconvert_exporter": "python",
   "pygments_lexer": "ipython3",
   "version": "3.9.12"
  }
 },
 "nbformat": 4,
 "nbformat_minor": 5
}
